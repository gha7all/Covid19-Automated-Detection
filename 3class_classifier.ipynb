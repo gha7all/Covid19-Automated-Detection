{
  "nbformat": 4,
  "nbformat_minor": 2,
  "metadata": {
    "accelerator": "TPU",
    "colab": {
      "name": "3class-classifier.ipynb",
      "provenance": [],
      "collapsed_sections": []
    },
    "kernelspec": {
      "display_name": "Python 3",
      "name": "python3"
    },
    "language_info": {
      "name": "python"
    }
  },
  "cells": [
    {
      "cell_type": "code",
      "execution_count": null,
      "source": [
        "import numpy as np \n",
        "import matplotlib.pyplot as plt\n",
        "import glob\n",
        "import cv2\n",
        "import pandas as pd\n",
        "from sklearn.model_selection import train_test_split\n",
        "import os\n",
        "from keras.applications.densenet import DenseNet169, DenseNet121\n",
        "from keras.applications.mobilenet import MobileNet\n",
        "from sklearn import preprocessing\n",
        "from sklearn.metrics import confusion_matrix, accuracy_score\n",
        "from sklearn.feature_selection import SelectKBest, chi2\n",
        "from sklearn.metrics import classification_report\n",
        "import lightgbm as lgb\n",
        "import seaborn as sns"
      ],
      "outputs": [],
      "metadata": {
        "id": "D9Cg8dV04LyJ"
      }
    },
    {
      "cell_type": "markdown",
      "source": [
        "## loading the dataset"
      ],
      "metadata": {
        "id": "RWohFpu_vHe3"
      }
    },
    {
      "cell_type": "code",
      "execution_count": null,
      "source": [
        "SIZE = 224\n",
        "images = []\n",
        "images_labels = [] "
      ],
      "outputs": [],
      "metadata": {
        "id": "hSqy8Bx4Dt2i"
      }
    },
    {
      "cell_type": "markdown",
      "source": [
        "### importing each image and set the current directory name as its label "
      ],
      "metadata": {
        "id": "rna4sjbevS0t"
      }
    },
    {
      "cell_type": "code",
      "execution_count": null,
      "source": [
        "ext = ['png', 'jpg', 'jpeg'] \n",
        "\n",
        "for directory_path in glob.glob(\"PATH TO DATASET\"):\n",
        "    splited = directory_path.split(\"/\")\n",
        "    label = splited[-1]\n",
        "    print(label)\n",
        "    for e in ext:\n",
        "      for img_path in glob.glob(os.path.join(directory_path, \"*.\" + e)):\n",
        "          #print(img_path)\n",
        "           img = cv2.imread(img_path, cv2.IMREAD_COLOR)       \n",
        "           img = cv2.resize(img, (SIZE, SIZE))\n",
        "           images.append(img)\n",
        "           images_labels.append(label)"
      ],
      "outputs": [
        {
          "output_type": "stream",
          "name": "stdout",
          "text": [
            "Pneumonia\n",
            "No_findings\n",
            "Covid-19\n"
          ]
        }
      ],
      "metadata": {
        "colab": {
          "base_uri": "https://localhost:8080/"
        },
        "id": "eQ33LlY3D7Hf",
        "outputId": "52f5b251-e045-44a0-a31d-68adf59a2658"
      }
    },
    {
      "cell_type": "code",
      "execution_count": null,
      "source": [
        "images = np.array(images)\n",
        "images_labels = np.array(images_labels)"
      ],
      "outputs": [],
      "metadata": {
        "id": "hjPnqzQZKorZ"
      }
    },
    {
      "cell_type": "code",
      "execution_count": null,
      "source": [
        "images.shape"
      ],
      "outputs": [
        {
          "output_type": "execute_result",
          "data": {
            "text/plain": [
              "(1125, 224, 224, 3)"
            ]
          },
          "metadata": {
            "tags": []
          },
          "execution_count": 7
        }
      ],
      "metadata": {
        "colab": {
          "base_uri": "https://localhost:8080/"
        },
        "id": "bkP_UNU5Ubn8",
        "outputId": "5fff5fec-0878-402d-d8be-a0f6ef011d9a"
      }
    },
    {
      "cell_type": "code",
      "execution_count": null,
      "source": [
        "np.unique(images_labels)"
      ],
      "outputs": [
        {
          "output_type": "execute_result",
          "data": {
            "text/plain": [
              "array(['Covid-19', 'No_findings', 'Pneumonia'], dtype='<U11')"
            ]
          },
          "metadata": {
            "tags": []
          },
          "execution_count": 8
        }
      ],
      "metadata": {
        "colab": {
          "base_uri": "https://localhost:8080/"
        },
        "id": "G44kwBVUxAxP",
        "outputId": "2090c6f8-27a4-4b46-b46a-3a58b80f32a0"
      }
    },
    {
      "cell_type": "markdown",
      "source": [
        "## Pre-processing"
      ],
      "metadata": {
        "id": "S8eOrhcUvoOa"
      }
    },
    {
      "cell_type": "markdown",
      "source": [
        "### label encoding"
      ],
      "metadata": {
        "id": "_zXozooIvur4"
      }
    },
    {
      "cell_type": "code",
      "execution_count": null,
      "source": [
        "le = preprocessing.LabelEncoder()\n",
        "le.fit(images_labels)\n",
        "labels_encoded = le.transform(images_labels)"
      ],
      "outputs": [],
      "metadata": {
        "id": "vbtsRuiGNDg3"
      }
    },
    {
      "cell_type": "markdown",
      "source": [
        "## Splitting dataset into train and test set\n"
      ],
      "metadata": {
        "id": "kNX0T2NXv2Bm"
      }
    },
    {
      "cell_type": "code",
      "execution_count": null,
      "source": [
        "x_train, x_test, y_train, y_test = train_test_split(images, labels_encoded, test_size=0.2, random_state=0)"
      ],
      "outputs": [],
      "metadata": {
        "id": "3NV1G-FADtDx"
      }
    },
    {
      "cell_type": "markdown",
      "source": [
        "### scaling train set and test set"
      ],
      "metadata": {
        "id": "ZJTBFHFhwZBq"
      }
    },
    {
      "cell_type": "code",
      "execution_count": null,
      "source": [
        "x_train, x_test = x_train / 255.0, x_test / 255.0"
      ],
      "outputs": [],
      "metadata": {
        "id": "wp7lpWbqweB8"
      }
    },
    {
      "cell_type": "markdown",
      "source": [
        "## Feature Extraction"
      ],
      "metadata": {
        "id": "0UFY9dw_whGX"
      }
    },
    {
      "cell_type": "markdown",
      "source": [
        "### DenseNet169"
      ],
      "metadata": {
        "id": "LoauJFgmLwP2"
      }
    },
    {
      "cell_type": "code",
      "execution_count": null,
      "source": [
        "dense_model = DenseNet169(include_top=False, input_shape=(SIZE, SIZE, 3), pooling='avg')"
      ],
      "outputs": [
        {
          "output_type": "stream",
          "name": "stdout",
          "text": [
            "Downloading data from https://storage.googleapis.com/tensorflow/keras-applications/densenet/densenet169_weights_tf_dim_ordering_tf_kernels_notop.h5\n",
            "51879936/51877672 [==============================] - 1s 0us/step\n",
            "51888128/51877672 [==============================] - 1s 0us/step\n"
          ]
        }
      ],
      "metadata": {
        "id": "FQz-wPnd9jk7",
        "colab": {
          "base_uri": "https://localhost:8080/"
        },
        "outputId": "4aba32bf-ee3c-4215-c88f-ad9e2df01024"
      }
    },
    {
      "cell_type": "code",
      "execution_count": null,
      "source": [
        "dense_features = dense_model.predict(x_train)"
      ],
      "outputs": [],
      "metadata": {
        "id": "96eBZ2lA_gnQ"
      }
    },
    {
      "cell_type": "code",
      "execution_count": null,
      "source": [
        "features = dense_features.reshape(dense_features.shape[0], -1)"
      ],
      "outputs": [],
      "metadata": {
        "id": "rFcOMynPAjOW"
      }
    },
    {
      "cell_type": "code",
      "execution_count": null,
      "source": [
        "features.shape"
      ],
      "outputs": [
        {
          "output_type": "execute_result",
          "data": {
            "text/plain": [
              "(900, 1664)"
            ]
          },
          "metadata": {
            "tags": []
          },
          "execution_count": 15
        }
      ],
      "metadata": {
        "colab": {
          "base_uri": "https://localhost:8080/"
        },
        "id": "t67858zGYbb7",
        "outputId": "ffa61ccf-d35b-4350-fce3-8ef39793f019"
      }
    },
    {
      "cell_type": "markdown",
      "source": [
        "### Mobilenet"
      ],
      "metadata": {
        "id": "b1RRtWgDGBYJ"
      }
    },
    {
      "cell_type": "code",
      "execution_count": null,
      "source": [
        "model_mobile = MobileNet(weights='imagenet',include_top=False, input_shape=(SIZE, SIZE, 3), pooling='avg')"
      ],
      "outputs": [
        {
          "output_type": "stream",
          "name": "stdout",
          "text": [
            "Downloading data from https://storage.googleapis.com/tensorflow/keras-applications/mobilenet/mobilenet_1_0_224_tf_no_top.h5\n",
            "17227776/17225924 [==============================] - 0s 0us/step\n",
            "17235968/17225924 [==============================] - 0s 0us/step\n"
          ]
        }
      ],
      "metadata": {
        "id": "zYMmIXvxGEBi",
        "colab": {
          "base_uri": "https://localhost:8080/"
        },
        "outputId": "af43bd88-82b0-4360-b47e-24df938a9a25"
      }
    },
    {
      "cell_type": "code",
      "execution_count": null,
      "source": [
        "mobile_features = model_mobile.predict(x_train)"
      ],
      "outputs": [],
      "metadata": {
        "id": "A6BgS6aBHNdl"
      }
    },
    {
      "cell_type": "code",
      "execution_count": null,
      "source": [
        "features_2 = mobile_features.reshape(mobile_features.shape[0], -1)"
      ],
      "outputs": [],
      "metadata": {
        "id": "WawWVttpHP2e"
      }
    },
    {
      "cell_type": "code",
      "execution_count": null,
      "source": [
        "features_2.shape"
      ],
      "outputs": [
        {
          "output_type": "execute_result",
          "data": {
            "text/plain": [
              "(900, 1024)"
            ]
          },
          "metadata": {
            "tags": []
          },
          "execution_count": 19
        }
      ],
      "metadata": {
        "colab": {
          "base_uri": "https://localhost:8080/"
        },
        "id": "bCy6ZaDsYMC6",
        "outputId": "b4dd15c0-2a38-4901-bd35-bdd521796107"
      }
    },
    {
      "cell_type": "markdown",
      "source": [
        "## Feature Combination"
      ],
      "metadata": {
        "id": "XzjG7N85ZWsp"
      }
    },
    {
      "cell_type": "code",
      "execution_count": null,
      "source": [
        "combined_features = np.hstack((dense_features, mobile_features))"
      ],
      "outputs": [],
      "metadata": {
        "id": "iKdCXNr9_fa1"
      }
    },
    {
      "cell_type": "markdown",
      "source": [
        "## lightgbm classifier"
      ],
      "metadata": {
        "id": "ZWsRFexjWCDS"
      }
    },
    {
      "cell_type": "code",
      "execution_count": null,
      "source": [
        "params = {'learning_rate':0.24, 'n_iterations': 250, 'max_depth': 7, 'num_leaves': 105, 'n_estimators': 300, 'min_child_samples': 40 }\n"
      ],
      "outputs": [],
      "metadata": {
        "id": "qcfS2Djyymi5"
      }
    },
    {
      "cell_type": "code",
      "execution_count": null,
      "source": [
        "lgb_classifier = lgb.LGBMClassifier(**params)"
      ],
      "outputs": [],
      "metadata": {
        "id": "fjFA8dt8WHr8"
      }
    },
    {
      "cell_type": "code",
      "execution_count": null,
      "source": [
        "lgb_classifier.fit(combined_features, y_train)"
      ],
      "outputs": [
        {
          "output_type": "execute_result",
          "data": {
            "text/plain": [
              "LGBMClassifier(boosting_type='gbdt', class_weight=None, colsample_bytree=1.0,\n",
              "               importance_type='split', learning_rate=0.24, max_depth=7,\n",
              "               min_child_samples=40, min_child_weight=0.001, min_split_gain=0.0,\n",
              "               n_estimators=300, n_iterations=250, n_jobs=-1, num_leaves=105,\n",
              "               objective=None, random_state=None, reg_alpha=0.0, reg_lambda=0.0,\n",
              "               silent=True, subsample=1.0, subsample_for_bin=200000,\n",
              "               subsample_freq=0)"
            ]
          },
          "metadata": {
            "tags": []
          },
          "execution_count": 23
        }
      ],
      "metadata": {
        "colab": {
          "base_uri": "https://localhost:8080/"
        },
        "id": "-Hxs0GgNWN_4",
        "outputId": "b777acf8-869c-406f-9c89-8662f1437736"
      }
    },
    {
      "cell_type": "markdown",
      "source": [
        "## predict test set"
      ],
      "metadata": {
        "id": "7z9mkbkAw8eC"
      }
    },
    {
      "cell_type": "code",
      "execution_count": null,
      "source": [
        "X_test_dense_features = dense_model.predict(x_test)\n",
        "X_test_dense_features = X_test_dense_features.reshape(X_test_dense_features.shape[0], -1)"
      ],
      "outputs": [],
      "metadata": {
        "id": "djdhIU4BQ2ch"
      }
    },
    {
      "cell_type": "code",
      "execution_count": null,
      "source": [
        "X_test_mobile_features = model_mobile.predict(x_test)\n",
        "X_test_mobile_features = X_test_mobile_features.reshape(X_test_mobile_features.shape[0], -1)"
      ],
      "outputs": [],
      "metadata": {
        "id": "sX3XOnjWApQ9"
      }
    },
    {
      "cell_type": "code",
      "execution_count": null,
      "source": [
        "combined_test_features = np.hstack((X_test_dense_features, X_test_mobile_features))"
      ],
      "outputs": [],
      "metadata": {
        "id": "hfUw7CtUB3Q2"
      }
    },
    {
      "cell_type": "code",
      "execution_count": null,
      "source": [
        "prediction = lgb_classifier.predict(combined_test_features)\n",
        "# prediction = le.inverse_transform(prediction)"
      ],
      "outputs": [],
      "metadata": {
        "id": "d9rtC4Mf_rU2"
      }
    },
    {
      "cell_type": "markdown",
      "source": [
        "## accuracy score"
      ],
      "metadata": {
        "id": "_BZ-GIyFxApv"
      }
    },
    {
      "cell_type": "code",
      "execution_count": null,
      "source": [
        "accuracy = accuracy_score(y_test, prediction)\n",
        "accuracy"
      ],
      "outputs": [
        {
          "output_type": "execute_result",
          "data": {
            "text/plain": [
              "0.9111111111111111"
            ]
          },
          "metadata": {
            "tags": []
          },
          "execution_count": 28
        }
      ],
      "metadata": {
        "colab": {
          "base_uri": "https://localhost:8080/"
        },
        "id": "XXMd1TPqQ_2b",
        "outputId": "064d3af6-eaed-4888-ad7e-98652876190e"
      }
    },
    {
      "cell_type": "markdown",
      "source": [
        "## Performance checking"
      ],
      "metadata": {
        "id": "CkWX6BfCTc9G"
      }
    },
    {
      "cell_type": "code",
      "execution_count": null,
      "source": [
        "cm = confusion_matrix(y_test, prediction)"
      ],
      "outputs": [],
      "metadata": {
        "id": "2m0vx2tUUGCg"
      }
    },
    {
      "cell_type": "code",
      "execution_count": null,
      "source": [
        "categories = ['Covid-19', 'No_findings', 'Pneumonia']\n",
        "counts = ['{0:0.0f}'.format(value) for value in\n",
        "          cm.flatten()]\n",
        "group_percentages = ['{0:.2%}'.format(value) for value in\n",
        "                      cm.flatten()/np.sum(cm)]\n",
        "labels = [f'{v1}\\n{v2}' for v1, v2 in\n",
        "          zip(counts, group_percentages)]\n",
        "labels = np.asarray(labels).reshape(3, 3)\n",
        "\n",
        "\n",
        "sns_plot = sns.heatmap(cm, annot=labels, fmt='', cmap='Greys',xticklabels=categories, yticklabels=categories)"
      ],
      "outputs": [
        {
          "output_type": "display_data",
          "data": {
            "text/plain": [
              "<Figure size 432x288 with 2 Axes>"
            ],
            "image/png": "[encoded data removed]"
          },
          "metadata": {
            "tags": [],
            "needs_background": "light"
          }
        }
      ],
      "metadata": {
        "colab": {
          "base_uri": "https://localhost:8080/",
          "height": 266
        },
        "id": "3KnLu5j1TpFl",
        "outputId": "9f8a4769-2325-46aa-afff-55f0d748a580"
      }
    },
    {
      "cell_type": "code",
      "execution_count": null,
      "source": [
        "def confusion_metrics(cm, class_name):\n",
        "  report = classification_report(y_test, prediction, target_names=categories, output_dict=True)\n",
        "\n",
        "\n",
        "  if class_name == 'Covid-19':\n",
        "      sensitivity = cm[0,0]/sum(cm[0,:])\n",
        "      specificity = (cm[1,1]+cm[2,2])/(cm[1,0]+cm[2,0]+cm[1,1]+cm[2,2])\n",
        "      precision = report[class_name]['precision']\n",
        "      f1 = report[class_name]['f1-score']\n",
        "  elif class_name == 'No_findings':\n",
        "      sensitivity = cm[1,1]/sum(cm[1,:])\n",
        "      specificity = (cm[0,0]+cm[2,2])/(cm[0,1]+cm[2,1]+cm[0,0]+cm[2,2])\n",
        "      precision = report[class_name]['precision']\n",
        "      f1 = report[class_name]['f1-score']\n",
        "  elif class_name == 'Pneumonia':\n",
        "      sensitivity = cm[2,2]/sum(cm[2,:])\n",
        "      specificity = (cm[0,0]+cm[1,1])/(cm[0,2]+cm[1,2]+cm[0,0]+cm[1,1])\n",
        "      precision = report[class_name]['precision']\n",
        "      f1 = report[class_name]['f1-score']\n",
        "\n",
        "\n",
        "  result = {'Sensitivity': sensitivity*100, 'Specificity': specificity *\n",
        "              100, 'Precision': precision*100, 'F1-Score': f1*100}\n",
        "  return result"
      ],
      "outputs": [],
      "metadata": {
        "id": "vEUsi6doTfwp"
      }
    },
    {
      "cell_type": "code",
      "execution_count": null,
      "source": [
        "performance = pd.DataFrame(\n",
        "    columns=['Class', 'Sensitivity', 'Specificity', 'Precision', 'F1-Score', 'Accuracy'])\n",
        "performance"
      ],
      "outputs": [
        {
          "output_type": "execute_result",
          "data": {
            "text/plain": [
              "Empty DataFrame\n",
              "Columns: [Class, Sensitivity, Specificity, Precision, F1-Score, Accuracy]\n",
              "Index: []"
            ],
            "text/html": [
              "<div>\n",
              "<style scoped>\n",
              "    .dataframe tbody tr th:only-of-type {\n",
              "        vertical-align: middle;\n",
              "    }\n",
              "\n",
              "    .dataframe tbody tr th {\n",
              "        vertical-align: top;\n",
              "    }\n",
              "\n",
              "    .dataframe thead th {\n",
              "        text-align: right;\n",
              "    }\n",
              "</style>\n",
              "<table border=\"1\" class=\"dataframe\">\n",
              "  <thead>\n",
              "    <tr style=\"text-align: right;\">\n",
              "      <th></th>\n",
              "      <th>Class</th>\n",
              "      <th>Sensitivity</th>\n",
              "      <th>Specificity</th>\n",
              "      <th>Precision</th>\n",
              "      <th>F1-Score</th>\n",
              "      <th>Accuracy</th>\n",
              "    </tr>\n",
              "  </thead>\n",
              "  <tbody>\n",
              "  </tbody>\n",
              "</table>\n",
              "</div>"
            ]
          },
          "metadata": {
            "tags": []
          },
          "execution_count": 218
        }
      ],
      "metadata": {
        "colab": {
          "base_uri": "https://localhost:8080/",
          "height": 49
        },
        "id": "1PHgQUr3TjQX",
        "outputId": "483112fb-6465-452c-a91a-104c7d5fa037"
      }
    },
    {
      "cell_type": "code",
      "execution_count": null,
      "source": [
        "for c in categories:\n",
        "  data = {**{'Class': f'{c}'}, **confusion_metrics(cm, c), **{'Accuracy': accuracy*100 }}\n",
        "  performance = performance.append(data, ignore_index=True)\n"
      ],
      "outputs": [],
      "metadata": {
        "id": "aJtyq_stbhnP"
      }
    },
    {
      "cell_type": "code",
      "execution_count": null,
      "source": [
        "performance"
      ],
      "outputs": [
        {
          "output_type": "execute_result",
          "data": {
            "text/plain": [
              "         Class  Sensitivity  Specificity   Precision   F1-Score   Accuracy\n",
              "0     Covid-19    88.461538   100.000000  100.000000  93.877551  91.111111\n",
              "1  No_findings    95.495495    89.189189   89.830508  92.576419  91.111111\n",
              "2    Pneumonia    86.363636    94.160584   90.476190  88.372093  91.111111"
            ],
            "text/html": [
              "<div>\n",
              "<style scoped>\n",
              "    .dataframe tbody tr th:only-of-type {\n",
              "        vertical-align: middle;\n",
              "    }\n",
              "\n",
              "    .dataframe tbody tr th {\n",
              "        vertical-align: top;\n",
              "    }\n",
              "\n",
              "    .dataframe thead th {\n",
              "        text-align: right;\n",
              "    }\n",
              "</style>\n",
              "<table border=\"1\" class=\"dataframe\">\n",
              "  <thead>\n",
              "    <tr style=\"text-align: right;\">\n",
              "      <th></th>\n",
              "      <th>Class</th>\n",
              "      <th>Sensitivity</th>\n",
              "      <th>Specificity</th>\n",
              "      <th>Precision</th>\n",
              "      <th>F1-Score</th>\n",
              "      <th>Accuracy</th>\n",
              "    </tr>\n",
              "  </thead>\n",
              "  <tbody>\n",
              "    <tr>\n",
              "      <th>0</th>\n",
              "      <td>Covid-19</td>\n",
              "      <td>88.461538</td>\n",
              "      <td>100.000000</td>\n",
              "      <td>100.000000</td>\n",
              "      <td>93.877551</td>\n",
              "      <td>91.111111</td>\n",
              "    </tr>\n",
              "    <tr>\n",
              "      <th>1</th>\n",
              "      <td>No_findings</td>\n",
              "      <td>95.495495</td>\n",
              "      <td>89.189189</td>\n",
              "      <td>89.830508</td>\n",
              "      <td>92.576419</td>\n",
              "      <td>91.111111</td>\n",
              "    </tr>\n",
              "    <tr>\n",
              "      <th>2</th>\n",
              "      <td>Pneumonia</td>\n",
              "      <td>86.363636</td>\n",
              "      <td>94.160584</td>\n",
              "      <td>90.476190</td>\n",
              "      <td>88.372093</td>\n",
              "      <td>91.111111</td>\n",
              "    </tr>\n",
              "  </tbody>\n",
              "</table>\n",
              "</div>"
            ]
          },
          "metadata": {
            "tags": []
          },
          "execution_count": 220
        }
      ],
      "metadata": {
        "colab": {
          "base_uri": "https://localhost:8080/",
          "height": 142
        },
        "id": "0rP9CWkneCNb",
        "outputId": "09d6fe16-9c38-4d4a-b932-5fc193d119c4"
      }
    }
  ]
}