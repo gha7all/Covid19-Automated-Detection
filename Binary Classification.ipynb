{
  "nbformat": 4,
  "nbformat_minor": 0,
  "metadata": {
    "accelerator": "TPU",
    "colab": {
      "name": "lightgbm-binary class.ipynb",
      "provenance": [],
      "collapsed_sections": []
    },
    "kernelspec": {
      "display_name": "Python 3",
      "name": "python3"
    },
    "language_info": {
      "name": "python"
    }
  },
  "cells": [
    {
      "cell_type": "code",
      "metadata": {
        "id": "D9Cg8dV04LyJ"
      },
      "source": [
        "import numpy as np \n",
        "import matplotlib.pyplot as plt\n",
        "import glob\n",
        "import cv2\n",
        "import os\n",
        "from keras.applications.densenet import DenseNet169\n",
        "from keras.applications.mobilenet import MobileNet\n",
        "from sklearn import preprocessing\n",
        "from google.colab import drive\n",
        "from sklearn.metrics import confusion_matrix\n",
        "from sklearn.metrics import mean_squared_error\n",
        "from sklearn.model_selection import KFold, cross_val_score\n",
        "import lightgbm as lgb"
      ],
      "execution_count": null,
      "outputs": []
    },
    {
      "cell_type": "markdown",
      "metadata": {
        "id": "RWohFpu_vHe3"
      },
      "source": [
        "## loading the dataset"
      ]
    },
    {
      "cell_type": "code",
      "metadata": {
        "colab": {
          "base_uri": "https://localhost:8080/"
        },
        "id": "V1Zi7aKd4csG",
        "outputId": "e5ae9cc8-ca05-4463-f65c-49c6094eb419"
      },
      "source": [
        "drive.mount(\"/content/gdrive\")"
      ],
      "execution_count": null,
      "outputs": [
        {
          "output_type": "stream",
          "text": [
            "Mounted at /content/gdrive\n"
          ],
          "name": "stdout"
        }
      ]
    },
    {
      "cell_type": "code",
      "metadata": {
        "id": "hSqy8Bx4Dt2i"
      },
      "source": [
        "SIZE = 224\n",
        "images = []\n",
        "images_labels = [] "
      ],
      "execution_count": null,
      "outputs": []
    },
    {
      "cell_type": "markdown",
      "metadata": {
        "id": "rna4sjbevS0t"
      },
      "source": [
        "### importing each image and set the current directory name as its label "
      ]
    },
    {
      "cell_type": "code",
      "metadata": {
        "colab": {
          "base_uri": "https://localhost:8080/"
        },
        "id": "eQ33LlY3D7Hf",
        "outputId": "20c05d61-b488-45fb-d034-47e4acb7b015"
      },
      "source": [
        "ext = ['png', 'jpg', 'jpeg'] \n",
        "\n",
        "for directory_path in glob.glob(\"/content/gdrive/My Drive/seperated dataset/X-Ray Image DataSet/images/*\"):\n",
        "    splited = directory_path.split(\"/\")\n",
        "    label = splited[-1]\n",
        "    print(label)\n",
        "    for e in ext:\n",
        "      for img_path in glob.glob(os.path.join(directory_path, \"*.\" + e)):\n",
        "        if label == 'Pneumonia':\n",
        "          break\n",
        "        else:\n",
        "          #print(img_path)\n",
        "           img = cv2.imread(img_path, cv2.IMREAD_COLOR)       \n",
        "           img = cv2.resize(img, (SIZE, SIZE))\n",
        "           images.append(img)\n",
        "           images_labels.append(label)"
      ],
      "execution_count": null,
      "outputs": [
        {
          "output_type": "stream",
          "text": [
            "Pneumonia\n",
            "No_findings\n",
            "Covid-19\n"
          ],
          "name": "stdout"
        }
      ]
    },
    {
      "cell_type": "code",
      "metadata": {
        "id": "hjPnqzQZKorZ"
      },
      "source": [
        "images = np.array(images)\n",
        "images_labels = np.array(images_labels)"
      ],
      "execution_count": null,
      "outputs": []
    },
    {
      "cell_type": "code",
      "metadata": {
        "colab": {
          "base_uri": "https://localhost:8080/"
        },
        "id": "bkP_UNU5Ubn8",
        "outputId": "ac77fa16-89c4-4ebc-bd4f-b3677fcad9e1"
      },
      "source": [
        "images.shape"
      ],
      "execution_count": null,
      "outputs": [
        {
          "output_type": "execute_result",
          "data": {
            "text/plain": [
              "(625, 224, 224, 3)"
            ]
          },
          "metadata": {
            "tags": []
          },
          "execution_count": 6
        }
      ]
    },
    {
      "cell_type": "code",
      "metadata": {
        "colab": {
          "base_uri": "https://localhost:8080/"
        },
        "id": "G44kwBVUxAxP",
        "outputId": "6047af0c-2fd6-4ceb-84ef-acbbb36614d2"
      },
      "source": [
        "np.unique(images_labels)"
      ],
      "execution_count": null,
      "outputs": [
        {
          "output_type": "execute_result",
          "data": {
            "text/plain": [
              "array(['Covid-19', 'No_findings'], dtype='<U11')"
            ]
          },
          "metadata": {
            "tags": []
          },
          "execution_count": 7
        }
      ]
    },
    {
      "cell_type": "markdown",
      "metadata": {
        "id": "S8eOrhcUvoOa"
      },
      "source": [
        "## Pre-processing"
      ]
    },
    {
      "cell_type": "markdown",
      "metadata": {
        "id": "_zXozooIvur4"
      },
      "source": [
        "### label encoding"
      ]
    },
    {
      "cell_type": "code",
      "metadata": {
        "id": "vbtsRuiGNDg3"
      },
      "source": [
        "le = preprocessing.LabelEncoder()\n",
        "le.fit(images_labels)\n",
        "labels_encoded = le.transform(images_labels)"
      ],
      "execution_count": null,
      "outputs": []
    },
    {
      "cell_type": "markdown",
      "metadata": {
        "id": "0UFY9dw_whGX"
      },
      "source": [
        "## Feature Extraction"
      ]
    },
    {
      "cell_type": "markdown",
      "metadata": {
        "id": "LoauJFgmLwP2"
      },
      "source": [
        "### DenseNet169"
      ]
    },
    {
      "cell_type": "code",
      "metadata": {
        "id": "FQz-wPnd9jk7",
        "colab": {
          "base_uri": "https://localhost:8080/"
        },
        "outputId": "5bbaa428-9c51-41e3-8d5c-2490edbf77e6"
      },
      "source": [
        "dense_model = DenseNet169(include_top=False, input_shape=(SIZE, SIZE, 3), pooling='avg')"
      ],
      "execution_count": null,
      "outputs": [
        {
          "output_type": "stream",
          "text": [
            "Downloading data from https://storage.googleapis.com/tensorflow/keras-applications/densenet/densenet169_weights_tf_dim_ordering_tf_kernels_notop.h5\n",
            "51879936/51877672 [==============================] - 0s 0us/step\n",
            "51888128/51877672 [==============================] - 0s 0us/step\n"
          ],
          "name": "stdout"
        }
      ]
    },
    {
      "cell_type": "code",
      "metadata": {
        "id": "96eBZ2lA_gnQ"
      },
      "source": [
        "dense_features = dense_model.predict(images)"
      ],
      "execution_count": null,
      "outputs": []
    },
    {
      "cell_type": "code",
      "metadata": {
        "id": "rFcOMynPAjOW"
      },
      "source": [
        "features = dense_features.reshape(dense_features.shape[0], -1)"
      ],
      "execution_count": null,
      "outputs": []
    },
    {
      "cell_type": "code",
      "metadata": {
        "colab": {
          "base_uri": "https://localhost:8080/"
        },
        "id": "t67858zGYbb7",
        "outputId": "1f984bb1-7297-4224-cc2a-632f220efed4"
      },
      "source": [
        "features.shape"
      ],
      "execution_count": null,
      "outputs": [
        {
          "output_type": "execute_result",
          "data": {
            "text/plain": [
              "(625, 1664)"
            ]
          },
          "metadata": {
            "tags": []
          },
          "execution_count": 17
        }
      ]
    },
    {
      "cell_type": "markdown",
      "metadata": {
        "id": "b1RRtWgDGBYJ"
      },
      "source": [
        "### Mobilenet"
      ]
    },
    {
      "cell_type": "code",
      "metadata": {
        "id": "zYMmIXvxGEBi"
      },
      "source": [
        "model_mobile = MobileNet(weights='imagenet',include_top=False, input_shape=(SIZE, SIZE, 3), pooling='avg')"
      ],
      "execution_count": null,
      "outputs": []
    },
    {
      "cell_type": "code",
      "metadata": {
        "id": "A6BgS6aBHNdl"
      },
      "source": [
        "mobile_features = model_mobile.predict(images)"
      ],
      "execution_count": null,
      "outputs": []
    },
    {
      "cell_type": "code",
      "metadata": {
        "id": "WawWVttpHP2e"
      },
      "source": [
        "features_2 = mobile_features.reshape(mobile_features.shape[0], -1)"
      ],
      "execution_count": null,
      "outputs": []
    },
    {
      "cell_type": "code",
      "metadata": {
        "colab": {
          "base_uri": "https://localhost:8080/"
        },
        "id": "bCy6ZaDsYMC6",
        "outputId": "c1834807-81a4-4ba7-df12-fe325e80d947"
      },
      "source": [
        "features_2.shape"
      ],
      "execution_count": null,
      "outputs": [
        {
          "output_type": "execute_result",
          "data": {
            "text/plain": [
              "(625, 1024)"
            ]
          },
          "metadata": {
            "tags": []
          },
          "execution_count": 12
        }
      ]
    },
    {
      "cell_type": "markdown",
      "metadata": {
        "id": "XzjG7N85ZWsp"
      },
      "source": [
        "## Feature Combination"
      ]
    },
    {
      "cell_type": "code",
      "metadata": {
        "id": "iKdCXNr9_fa1"
      },
      "source": [
        "combined_features = np.hstack((dense_features, mobile_features))"
      ],
      "execution_count": null,
      "outputs": []
    },
    {
      "cell_type": "markdown",
      "metadata": {
        "id": "ZWsRFexjWCDS"
      },
      "source": [
        "## lightgbm classifier"
      ]
    },
    {
      "cell_type": "code",
      "metadata": {
        "id": "qcfS2Djyymi5"
      },
      "source": [
        "params = {'learning_rate':0.2, 'n_iterations': 500, 'max_depth': 7, 'num_leaves': 105, 'n_estimators': 300, 'min_child_samples': 40 }\n"
      ],
      "execution_count": null,
      "outputs": []
    },
    {
      "cell_type": "code",
      "metadata": {
        "id": "fjFA8dt8WHr8"
      },
      "source": [
        "lgb_classifier = lgb.LGBMClassifier(**params)"
      ],
      "execution_count": null,
      "outputs": []
    },
    {
      "cell_type": "markdown",
      "metadata": {
        "id": "_BZ-GIyFxApv"
      },
      "source": [
        "## KFold cross validation"
      ]
    },
    {
      "cell_type": "code",
      "metadata": {
        "id": "pTdrrqSnGhCj"
      },
      "source": [
        "accuracy_per_fold = {}\n",
        "\n",
        "for i in range(0, 100):\n",
        "  kf = KFold(n_splits=5, random_state=i, shuffle=True)\n",
        "  accuracy = cross_val_score(lgb_classifier, combined_features, labels_encoded, cv=kf, scoring='accuracy')\n",
        "  accuracy_per_fold[i] = np.mean(accuracy)"
      ],
      "execution_count": null,
      "outputs": []
    },
    {
      "cell_type": "code",
      "metadata": {
        "id": "SXYza4oozsaq",
        "colab": {
          "base_uri": "https://localhost:8080/"
        },
        "outputId": "2b59117e-d578-48d9-e91f-b94727e7776b"
      },
      "source": [
        "max(accuracy_per_fold.values())"
      ],
      "execution_count": null,
      "outputs": [
        {
          "output_type": "execute_result",
          "data": {
            "text/plain": [
              "0.9856"
            ]
          },
          "metadata": {
            "tags": []
          },
          "execution_count": 38
        }
      ]
    }
  ]
}