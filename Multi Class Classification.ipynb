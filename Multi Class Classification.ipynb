{
  "cells": [
    {
      "cell_type": "code",
      "execution_count": 85,
      "source": [
        "import numpy as np \n",
        "import matplotlib.pyplot as plt\n",
        "import glob\n",
        "import cv2\n",
        "from sklearn.model_selection import train_test_split\n",
        "import os\n",
        "from keras.applications.densenet import DenseNet169, DenseNet121\n",
        "from keras.applications.mobilenet import MobileNet\n",
        "from sklearn import preprocessing\n",
        "from google.colab import drive\n",
        "import xgboost as xgb\n",
        "from sklearn.metrics import confusion_matrix\n",
        "from sklearn import metrics\n",
        "from sklearn.metrics import classification_report\n",
        "from bayes_opt import BayesianOptimization\n",
        "from sklearn.metrics import mean_squared_error"
      ],
      "outputs": [],
      "metadata": {
        "id": "D9Cg8dV04LyJ"
      }
    },
    {
      "cell_type": "markdown",
      "source": [
        "## loading the dataset"
      ],
      "metadata": {
        "id": "RWohFpu_vHe3"
      }
    },
    {
      "cell_type": "code",
      "execution_count": 4,
      "source": [
        "SIZE = 224\n",
        "images = []\n",
        "images_labels = [] "
      ],
      "outputs": [],
      "metadata": {
        "id": "hSqy8Bx4Dt2i"
      }
    },
    {
      "cell_type": "markdown",
      "source": [
        "### importing each image and set the current directory name as its label "
      ],
      "metadata": {
        "id": "rna4sjbevS0t"
      }
    },
    {
      "cell_type": "code",
      "execution_count": 5,
      "source": [
        "ext = ['png', 'jpg', 'jpeg'] \n",
        "\n",
        "for directory_path in glob.glob(\"PATH‌ TO THE DATASET\"):\n",
        "    splited = directory_path.split(\"/\")\n",
        "    label = splited[-1]\n",
        "    print(label)\n",
        "    for e in ext:\n",
        "      for img_path in glob.glob(os.path.join(directory_path, \"*.\" + e)):\n",
        "          #print(img_path)\n",
        "           img = cv2.imread(img_path, cv2.IMREAD_COLOR)       \n",
        "           img = cv2.resize(img, (SIZE, SIZE))\n",
        "           images.append(img)\n",
        "           images_labels.append(label)"
      ],
      "outputs": [
        {
          "output_type": "stream",
          "name": "stdout",
          "text": [
            "Pneumonia\n",
            "No_findings\n",
            "Covid-19\n"
          ]
        }
      ],
      "metadata": {
        "colab": {
          "base_uri": "https://localhost:8080/"
        },
        "id": "eQ33LlY3D7Hf",
        "outputId": "e7194ecc-5b5c-4c17-ab0d-e5c8fed260fd"
      }
    },
    {
      "cell_type": "code",
      "execution_count": 6,
      "source": [
        "images = np.array(images)\n",
        "images_labels = np.array(images_labels)"
      ],
      "outputs": [],
      "metadata": {
        "id": "hjPnqzQZKorZ"
      }
    },
    {
      "cell_type": "code",
      "execution_count": 7,
      "source": [
        "images.shape"
      ],
      "outputs": [
        {
          "output_type": "execute_result",
          "data": {
            "text/plain": [
              "(1125, 224, 224, 3)"
            ]
          },
          "metadata": {
            "tags": []
          },
          "execution_count": 7
        }
      ],
      "metadata": {
        "colab": {
          "base_uri": "https://localhost:8080/"
        },
        "id": "bkP_UNU5Ubn8",
        "outputId": "d8d6e050-cb79-4b0c-d692-e480bfa732ae"
      }
    },
    {
      "cell_type": "markdown",
      "source": [
        "## pre-processing"
      ],
      "metadata": {
        "id": "S8eOrhcUvoOa"
      }
    },
    {
      "cell_type": "markdown",
      "source": [
        "### label encoding"
      ],
      "metadata": {
        "id": "_zXozooIvur4"
      }
    },
    {
      "cell_type": "code",
      "execution_count": 8,
      "source": [
        "le = preprocessing.LabelEncoder()\n",
        "le.fit(images_labels)\n",
        "labels_encoded = le.transform(images_labels)"
      ],
      "outputs": [],
      "metadata": {
        "id": "vbtsRuiGNDg3"
      }
    },
    {
      "cell_type": "markdown",
      "source": [
        "### spliting the dataset into training set and test set"
      ],
      "metadata": {
        "id": "kNX0T2NXv2Bm"
      }
    },
    {
      "cell_type": "code",
      "execution_count": 9,
      "source": [
        "x_train, x_test, y_train, y_test = train_test_split(images, labels_encoded, test_size=0.2, random_state=42)"
      ],
      "outputs": [],
      "metadata": {
        "id": "3NV1G-FADtDx"
      }
    },
    {
      "cell_type": "markdown",
      "source": [
        "### scaling train set and test set"
      ],
      "metadata": {
        "id": "ZJTBFHFhwZBq"
      }
    },
    {
      "cell_type": "code",
      "execution_count": 10,
      "source": [
        "x_train, x_test = x_train / 255.0, x_test / 255.0"
      ],
      "outputs": [],
      "metadata": {
        "id": "wp7lpWbqweB8"
      }
    },
    {
      "cell_type": "markdown",
      "source": [
        "## feature Extraction"
      ],
      "metadata": {
        "id": "0UFY9dw_whGX"
      }
    },
    {
      "cell_type": "markdown",
      "source": [
        "### DenseNet169"
      ],
      "metadata": {
        "id": "LoauJFgmLwP2"
      }
    },
    {
      "cell_type": "code",
      "execution_count": 11,
      "source": [
        "dense_model = DenseNet169(include_top=False, input_shape=(SIZE, SIZE, 3), pooling='avg')"
      ],
      "outputs": [
        {
          "output_type": "stream",
          "name": "stdout",
          "text": [
            "Downloading data from https://storage.googleapis.com/tensorflow/keras-applications/densenet/densenet169_weights_tf_dim_ordering_tf_kernels_notop.h5\n",
            "51879936/51877672 [==============================] - 1s 0us/step\n",
            "51888128/51877672 [==============================] - 1s 0us/step\n"
          ]
        }
      ],
      "metadata": {
        "colab": {
          "base_uri": "https://localhost:8080/"
        },
        "id": "FQz-wPnd9jk7",
        "outputId": "0f0bea8a-fd1a-43f2-a521-3b7d8531d727"
      }
    },
    {
      "cell_type": "code",
      "execution_count": 12,
      "source": [
        "dense_features = dense_model.predict(x_train)"
      ],
      "outputs": [],
      "metadata": {
        "id": "96eBZ2lA_gnQ"
      }
    },
    {
      "cell_type": "code",
      "execution_count": 13,
      "source": [
        "features = dense_features.reshape(dense_features.shape[0], -1)"
      ],
      "outputs": [],
      "metadata": {
        "id": "rFcOMynPAjOW"
      }
    },
    {
      "cell_type": "code",
      "execution_count": 14,
      "source": [
        "features.shape"
      ],
      "outputs": [
        {
          "output_type": "execute_result",
          "data": {
            "text/plain": [
              "(900, 1664)"
            ]
          },
          "metadata": {
            "tags": []
          },
          "execution_count": 14
        }
      ],
      "metadata": {
        "colab": {
          "base_uri": "https://localhost:8080/"
        },
        "id": "t67858zGYbb7",
        "outputId": "98ab7423-ad67-4bc3-bd8a-ebbb71f7dd70"
      }
    },
    {
      "cell_type": "markdown",
      "source": [
        "### mobilenet"
      ],
      "metadata": {
        "id": "b1RRtWgDGBYJ"
      }
    },
    {
      "cell_type": "code",
      "execution_count": 15,
      "source": [
        "model_mobile = MobileNet(weights='imagenet',include_top=False, input_shape=(SIZE, SIZE, 3), pooling='avg')"
      ],
      "outputs": [
        {
          "output_type": "stream",
          "name": "stdout",
          "text": [
            "Downloading data from https://storage.googleapis.com/tensorflow/keras-applications/mobilenet/mobilenet_1_0_224_tf_no_top.h5\n",
            "17227776/17225924 [==============================] - 0s 0us/step\n",
            "17235968/17225924 [==============================] - 0s 0us/step\n"
          ]
        }
      ],
      "metadata": {
        "colab": {
          "base_uri": "https://localhost:8080/"
        },
        "id": "zYMmIXvxGEBi",
        "outputId": "3a59b31b-50bd-4f2e-9f27-9c906f936b38"
      }
    },
    {
      "cell_type": "code",
      "execution_count": 16,
      "source": [
        "mobile_features = model_mobile.predict(x_train)"
      ],
      "outputs": [],
      "metadata": {
        "id": "A6BgS6aBHNdl"
      }
    },
    {
      "cell_type": "code",
      "execution_count": 17,
      "source": [
        "features_2 = mobile_features.reshape(mobile_features.shape[0], -1)"
      ],
      "outputs": [],
      "metadata": {
        "id": "WawWVttpHP2e"
      }
    },
    {
      "cell_type": "code",
      "execution_count": 18,
      "source": [
        "features_2.shape"
      ],
      "outputs": [
        {
          "output_type": "execute_result",
          "data": {
            "text/plain": [
              "(900, 1024)"
            ]
          },
          "metadata": {
            "tags": []
          },
          "execution_count": 18
        }
      ],
      "metadata": {
        "colab": {
          "base_uri": "https://localhost:8080/"
        },
        "id": "bCy6ZaDsYMC6",
        "outputId": "75259661-60fa-4fab-9787-c892b81107ca"
      }
    },
    {
      "cell_type": "markdown",
      "source": [
        "## feature combination"
      ],
      "metadata": {
        "id": "XzjG7N85ZWsp"
      }
    },
    {
      "cell_type": "code",
      "execution_count": 20,
      "source": [
        "combined_features = np.hstack((dense_features, mobile_features))"
      ],
      "outputs": [],
      "metadata": {
        "id": "iKdCXNr9_fa1"
      }
    },
    {
      "cell_type": "markdown",
      "source": [
        "## parameters optimization\n",
        "to get the best out of our classifier, we need to find the best parameters of xgbclassifier"
      ],
      "metadata": {
        "id": "24SL7zT0wrXD"
      }
    },
    {
      "cell_type": "code",
      "execution_count": 21,
      "source": [
        "classifier = xgb.XGBClassifier()\n",
        "classifier.fit(combined_features, y_train) #For sklearn no one hot encoding"
      ],
      "outputs": [
        {
          "output_type": "execute_result",
          "data": {
            "text/plain": [
              "XGBClassifier(base_score=0.5, booster='gbtree', colsample_bylevel=1,\n",
              "              colsample_bynode=1, colsample_bytree=1, gamma=0,\n",
              "              learning_rate=0.1, max_delta_step=0, max_depth=3,\n",
              "              min_child_weight=1, missing=None, n_estimators=100, n_jobs=1,\n",
              "              nthread=None, objective='multi:softprob', random_state=0,\n",
              "              reg_alpha=0, reg_lambda=1, scale_pos_weight=1, seed=None,\n",
              "              silent=None, subsample=1, verbosity=1)"
            ]
          },
          "metadata": {
            "tags": []
          },
          "execution_count": 21
        }
      ],
      "metadata": {
        "colab": {
          "base_uri": "https://localhost:8080/"
        },
        "id": "Uu5IJCyFPXvj",
        "outputId": "9ae95bf0-cf24-44ad-b1ea-276132f9c886"
      }
    },
    {
      "cell_type": "code",
      "execution_count": 22,
      "source": [
        "train_prediction = classifier.predict(combined_features)"
      ],
      "outputs": [],
      "metadata": {
        "id": "dw0Kd41zOd3k"
      }
    },
    {
      "cell_type": "code",
      "execution_count": 23,
      "source": [
        "dtrain = xgb.DMatrix(combined_features, label=y_train)"
      ],
      "outputs": [],
      "metadata": {
        "id": "xGMuFb1dQcKU"
      }
    },
    {
      "cell_type": "code",
      "execution_count": 26,
      "source": [
        "print(classification_report(train_prediction, y_train))"
      ],
      "outputs": [
        {
          "output_type": "stream",
          "name": "stdout",
          "text": [
            "              precision    recall  f1-score   support\n",
            "\n",
            "           0       1.00      1.00      1.00        99\n",
            "           1       1.00      1.00      1.00       410\n",
            "           2       1.00      1.00      1.00       391\n",
            "\n",
            "    accuracy                           1.00       900\n",
            "   macro avg       1.00      1.00      1.00       900\n",
            "weighted avg       1.00      1.00      1.00       900\n",
            "\n"
          ]
        }
      ],
      "metadata": {
        "colab": {
          "base_uri": "https://localhost:8080/"
        },
        "id": "14Z_sYFPNi4U",
        "outputId": "b06d000f-d0fb-4821-8f92-1aa0d0bc1005"
      }
    },
    {
      "cell_type": "code",
      "execution_count": 24,
      "source": [
        "cm = confusion_matrix(train_prediction, y_train)"
      ],
      "outputs": [],
      "metadata": {
        "id": "k6BWw4kSO7Po"
      }
    },
    {
      "cell_type": "code",
      "execution_count": 25,
      "source": [
        "accuracy = cm.diagonal().sum()/cm.sum()\n",
        "print(accuracy)"
      ],
      "outputs": [
        {
          "output_type": "stream",
          "name": "stdout",
          "text": [
            "1.0\n"
          ]
        }
      ],
      "metadata": {
        "colab": {
          "base_uri": "https://localhost:8080/"
        },
        "id": "H9D4naadPH8A",
        "outputId": "4ee1a0c5-e45b-43d9-eaee-4d74e5d11286"
      }
    },
    {
      "cell_type": "code",
      "execution_count": 73,
      "source": [
        "def bo_tune_xgb(max_depth, gamma, n_estimators ,learning_rate):\n",
        "  params = {'max_depth': int(max_depth),\n",
        "            'gamma': gamma,\n",
        "            'n_estimators': int(n_estimators),\n",
        "            'learning_rate':learning_rate,\n",
        "            'subsample': 0.8,\n",
        "            'eta': 0.1,\n",
        "            'eval_metric': 'rmse',\n",
        "            }\n",
        "  cv_result = xgb.cv(params, dtrain, num_boost_round=70, nfold=5)\n",
        "  return -1.0 * cv_result['test-rmse-mean'].iloc[-1]"
      ],
      "outputs": [],
      "metadata": {
        "id": "x70mzeKOQsCX"
      }
    },
    {
      "cell_type": "code",
      "execution_count": 74,
      "source": [
        "xgb_bo = BayesianOptimization(bo_tune_xgb, {'max_depth': (3, 10),\n",
        "                                             'gamma': (0, 1),\n",
        "                                             'learning_rate':(0,1),\n",
        "                                             'n_estimators':(100,150)\n",
        "                                            })"
      ],
      "outputs": [],
      "metadata": {
        "id": "-EpLt1J6Rw8h"
      }
    },
    {
      "cell_type": "code",
      "execution_count": 75,
      "source": [
        "xgb_bo.maximize(n_iter=2, init_points=8, acq='ei')"
      ],
      "outputs": [
        {
          "output_type": "stream",
          "name": "stdout",
          "text": [
            "|   iter    |  target   |   gamma   | learni... | max_depth | n_esti... |\n",
            "-------------------------------------------------------------------------\n",
            "| \u001b[0m 1       \u001b[0m | \u001b[0m-0.4657  \u001b[0m | \u001b[0m 0.05113 \u001b[0m | \u001b[0m 0.1383  \u001b[0m | \u001b[0m 4.97    \u001b[0m | \u001b[0m 123.6   \u001b[0m |\n",
            "| \u001b[0m 2       \u001b[0m | \u001b[0m-0.4691  \u001b[0m | \u001b[0m 0.5944  \u001b[0m | \u001b[0m 0.09867 \u001b[0m | \u001b[0m 6.53    \u001b[0m | \u001b[0m 143.1   \u001b[0m |\n",
            "| \u001b[0m 3       \u001b[0m | \u001b[0m-0.5626  \u001b[0m | \u001b[0m 0.4564  \u001b[0m | \u001b[0m 0.5881  \u001b[0m | \u001b[0m 3.485   \u001b[0m | \u001b[0m 113.6   \u001b[0m |\n",
            "| \u001b[0m 4       \u001b[0m | \u001b[0m-0.4887  \u001b[0m | \u001b[0m 0.03935 \u001b[0m | \u001b[0m 0.2692  \u001b[0m | \u001b[0m 4.192   \u001b[0m | \u001b[0m 121.6   \u001b[0m |\n",
            "| \u001b[0m 5       \u001b[0m | \u001b[0m-0.4859  \u001b[0m | \u001b[0m 0.8666  \u001b[0m | \u001b[0m 0.2499  \u001b[0m | \u001b[0m 4.608   \u001b[0m | \u001b[0m 117.5   \u001b[0m |\n",
            "| \u001b[0m 6       \u001b[0m | \u001b[0m-0.5825  \u001b[0m | \u001b[0m 0.2493  \u001b[0m | \u001b[0m 0.6346  \u001b[0m | \u001b[0m 3.183   \u001b[0m | \u001b[0m 113.0   \u001b[0m |\n",
            "| \u001b[0m 7       \u001b[0m | \u001b[0m-0.5622  \u001b[0m | \u001b[0m 0.6027  \u001b[0m | \u001b[0m 0.582   \u001b[0m | \u001b[0m 7.621   \u001b[0m | \u001b[0m 124.6   \u001b[0m |\n",
            "| \u001b[0m 8       \u001b[0m | \u001b[0m-0.7106  \u001b[0m | \u001b[0m 0.06749 \u001b[0m | \u001b[0m 0.9469  \u001b[0m | \u001b[0m 5.671   \u001b[0m | \u001b[0m 121.3   \u001b[0m |\n",
            "| \u001b[0m 9       \u001b[0m | \u001b[0m-1.057   \u001b[0m | \u001b[0m 1.0     \u001b[0m | \u001b[0m 0.0     \u001b[0m | \u001b[0m 3.0     \u001b[0m | \u001b[0m 131.4   \u001b[0m |\n",
            "| \u001b[0m 10      \u001b[0m | \u001b[0m-1.057   \u001b[0m | \u001b[0m 0.0     \u001b[0m | \u001b[0m 0.0     \u001b[0m | \u001b[0m 10.0    \u001b[0m | \u001b[0m 150.0   \u001b[0m |\n",
            "=========================================================================\n"
          ]
        }
      ],
      "metadata": {
        "colab": {
          "base_uri": "https://localhost:8080/"
        },
        "id": "ZOgTUaIrS0cu",
        "outputId": "e9d2794c-89f8-4efa-f1d3-eff6c50c0e07"
      }
    },
    {
      "cell_type": "code",
      "execution_count": 76,
      "source": [
        "params = xgb_bo.max['params']\n",
        "print(params)"
      ],
      "outputs": [
        {
          "output_type": "stream",
          "name": "stdout",
          "text": [
            "{'gamma': 0.05113333243656282, 'learning_rate': 0.13829759883059534, 'max_depth': 4.970455351622159, 'n_estimators': 123.63582130972148}\n"
          ]
        }
      ],
      "metadata": {
        "colab": {
          "base_uri": "https://localhost:8080/"
        },
        "id": "vS2YFAyKVSZZ",
        "outputId": "2bd9ef70-be32-46ef-95c7-a6ada7aaf509"
      }
    },
    {
      "cell_type": "code",
      "execution_count": 77,
      "source": [
        "params['max_depth']= int(params['max_depth'])\n",
        "params['n_estimators']= int(params['n_estimators'])"
      ],
      "outputs": [],
      "metadata": {
        "id": "lJLWabC9V2B2"
      }
    },
    {
      "cell_type": "code",
      "execution_count": 66,
      "source": [
        "print(params)"
      ],
      "outputs": [
        {
          "output_type": "stream",
          "name": "stdout",
          "text": [
            "{'max_depth': 6, 'gamma': 0.45, 'n_estimators': 150, 'learning_rate': 0.6, 'subsample': 0.8, 'eta': 0.1, 'eval_metric': 'rmse', 'objective': 'multi softmax'}\n"
          ]
        }
      ],
      "metadata": {
        "colab": {
          "base_uri": "https://localhost:8080/"
        },
        "id": "zQMfEGOK1I3U",
        "outputId": "d7806af0-1b86-4655-fbfa-ec842ec24e44"
      }
    },
    {
      "cell_type": "markdown",
      "source": [
        "## Training the model with optimized parameters"
      ],
      "metadata": {
        "id": "bZo61YUDRwk0"
      }
    },
    {
      "cell_type": "code",
      "execution_count": 78,
      "source": [
        "classifier = xgb.XGBClassifier(**params)\n",
        "classifier.fit(combined_features, y_train) "
      ],
      "outputs": [
        {
          "output_type": "execute_result",
          "data": {
            "text/plain": [
              "XGBClassifier(base_score=0.5, booster='gbtree', colsample_bylevel=1,\n",
              "              colsample_bynode=1, colsample_bytree=1, gamma=0.05113333243656282,\n",
              "              learning_rate=0.13829759883059534, max_delta_step=0, max_depth=4,\n",
              "              min_child_weight=1, missing=None, n_estimators=123, n_jobs=1,\n",
              "              nthread=None, objective='multi:softprob', random_state=0,\n",
              "              reg_alpha=0, reg_lambda=1, scale_pos_weight=1, seed=None,\n",
              "              silent=None, subsample=1, verbosity=1)"
            ]
          },
          "metadata": {
            "tags": []
          },
          "execution_count": 78
        }
      ],
      "metadata": {
        "colab": {
          "base_uri": "https://localhost:8080/"
        },
        "id": "9jVkizo4Pbne",
        "outputId": "347da317-51f5-4e81-be28-6842898ec2fb"
      }
    },
    {
      "cell_type": "markdown",
      "source": [
        "## predict test set"
      ],
      "metadata": {
        "id": "7z9mkbkAw8eC"
      }
    },
    {
      "cell_type": "code",
      "execution_count": 68,
      "source": [
        "X_test_dense_features = dense_model.predict(x_test)\n",
        "X_test_dense_features = X_test_dense_features.reshape(X_test_dense_features.shape[0], -1)"
      ],
      "outputs": [],
      "metadata": {
        "id": "djdhIU4BQ2ch"
      }
    },
    {
      "cell_type": "code",
      "execution_count": 69,
      "source": [
        "X_test_mobile_features = model_mobile.predict(x_test)\n",
        "X_test_mobile_features = X_test_mobile_features.reshape(X_test_mobile_features.shape[0], -1)"
      ],
      "outputs": [],
      "metadata": {
        "id": "sX3XOnjWApQ9"
      }
    },
    {
      "cell_type": "code",
      "execution_count": 79,
      "source": [
        "combined_test_features = np.hstack((X_test_dense_features, X_test_mobile_features))"
      ],
      "outputs": [],
      "metadata": {
        "id": "hfUw7CtUB3Q2"
      }
    },
    {
      "cell_type": "code",
      "execution_count": 89,
      "source": [
        "prediction = classifier.predict(combined_test_features)\n",
        "Inverse le transform to get original label back. \n",
        "prediction = le.inverse_transform(prediction)"
      ],
      "outputs": [],
      "metadata": {
        "id": "d9rtC4Mf_rU2"
      }
    },
    {
      "cell_type": "markdown",
      "source": [
        "## accuracy score"
      ],
      "metadata": {
        "id": "_BZ-GIyFxApv"
      }
    },
    {
      "cell_type": "code",
      "execution_count": 90,
      "source": [
        "print (\"Accuracy = \", metrics.accuracy_score(y_test, prediction))"
      ],
      "outputs": [
        {
          "output_type": "stream",
          "name": "stdout",
          "text": [
            "Accuracy =  0.8711111111111111\n"
          ]
        }
      ],
      "metadata": {
        "colab": {
          "base_uri": "https://localhost:8080/"
        },
        "id": "XXMd1TPqQ_2b",
        "outputId": "2376b751-73d1-488b-8a3d-c311aa62f8f9"
      }
    }
  ],
  "metadata": {
    "accelerator": "TPU",
    "colab": {
      "collapsed_sections": [],
      "name": "new-method.ipynb",
      "provenance": []
    },
    "kernelspec": {
      "display_name": "Python 3",
      "name": "python3"
    },
    "language_info": {
      "name": "python"
    }
  },
  "nbformat": 4,
  "nbformat_minor": 2
}