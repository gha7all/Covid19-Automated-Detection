{
 "cells": [
  {
   "cell_type": "code",
   "execution_count": 3,
   "metadata": {
    "id": "D9Cg8dV04LyJ"
   },
   "outputs": [],
   "source": [
    "import numpy as np \n",
    "import matplotlib.pyplot as plt\n",
    "import glob\n",
    "import cv2\n",
    "from keras.models import Model, Sequential\n",
    "from keras.layers import Dense, Flatten, Conv2D, MaxPooling2D\n",
    "from keras.layers.normalization import BatchNormalization\n",
    "import os\n",
    "import seaborn as sns\n",
    "from keras.applications.vgg16 import VGG16\n",
    "from keras.applications.xception import Xception\n",
    "from keras.applications.mobilenet import MobileNet\n",
    "from keras.applications.inception_v3 import InceptionV3\n",
    "from sklearn import preprocessing\n",
    "from sklearn.ensemble import RandomForestClassifier\n",
    "from google.colab import drive\n",
    "import xgboost as xgb\n",
    "from sklearn.metrics import confusion_matrix\n",
    "from sklearn import metrics\n",
    "from sklearn.metrics import classification_report\n",
    "from bayes_opt import BayesianOptimization\n",
    "from sklearn.metrics import mean_squared_error"
   ]
  },
  {
   "cell_type": "markdown",
   "metadata": {
    "id": "RWohFpu_vHe3"
   },
   "source": [
    "## loading the dataset"
   ]
  },
  {
   "cell_type": "code",
   "execution_count": 5,
   "metadata": {
    "id": "hSqy8Bx4Dt2i"
   },
   "outputs": [],
   "source": [
    "SIZE = 224\n",
    "train_images = []\n",
    "train_labels = [] "
   ]
  },
  {
   "cell_type": "markdown",
   "metadata": {
    "id": "rna4sjbevS0t"
   },
   "source": [
    "### importing each image and set the current directory name as its label "
   ]
  },
  {
   "cell_type": "code",
   "execution_count": 6,
   "metadata": {
    "colab": {
     "base_uri": "https://localhost:8080/"
    },
    "id": "eQ33LlY3D7Hf",
    "outputId": "b57d218e-3a40-4abe-9459-dfa1818b70af"
   },
   "outputs": [
    {
     "name": "stdout",
     "output_type": "stream",
     "text": [
      "Pneumonia\n",
      "No_findings\n",
      "Covid-19\n"
     ]
    }
   ],
   "source": [
    "ext = ['png', 'jpg', 'jpeg'] \n",
    "\n",
    "for directory_path in glob.glob(\"/content/gdrive/My Drive/seperated dataset/X-Ray Image DataSet/train/*\"):\n",
    "    splited = directory_path.split(\"/\")\n",
    "    label = splited[-1]\n",
    "    print(label)\n",
    "    for e in ext:\n",
    "      for img_path in glob.glob(os.path.join(directory_path, \"*.\" + e)):\n",
    "          #print(img_path)\n",
    "           img = cv2.imread(img_path, cv2.IMREAD_COLOR)       \n",
    "           img = cv2.resize(img, (SIZE, SIZE))\n",
    "           train_images.append(img)\n",
    "           train_labels.append(label)"
   ]
  },
  {
   "cell_type": "code",
   "execution_count": 7,
   "metadata": {
    "id": "hjPnqzQZKorZ"
   },
   "outputs": [],
   "source": [
    "train_images = np.array(train_images)\n",
    "train_labels = np.array(train_labels)"
   ]
  },
  {
   "cell_type": "code",
   "execution_count": 8,
   "metadata": {
    "id": "if0mVrFWKwM6"
   },
   "outputs": [],
   "source": [
    "test_images = []\n",
    "test_labels = [] "
   ]
  },
  {
   "cell_type": "code",
   "execution_count": 9,
   "metadata": {
    "colab": {
     "base_uri": "https://localhost:8080/"
    },
    "id": "sJlRpXf3Kso5",
    "outputId": "88e42e64-621d-4829-ad6d-2f1c1cce2900"
   },
   "outputs": [
    {
     "name": "stdout",
     "output_type": "stream",
     "text": [
      "Pneumonia\n",
      "No_findings\n",
      "Covid-19\n"
     ]
    }
   ],
   "source": [
    "ext = ['png', 'jpg', 'jpeg'] \n",
    "\n",
    "for directory_path in glob.glob(\"/content/gdrive/My Drive/seperated dataset/X-Ray Image DataSet/test/*\"):\n",
    "    splited_test = directory_path.split(\"/\")\n",
    "    label_test = splited_test[-1]\n",
    "    print(label_test)\n",
    "    for e in ext:\n",
    "      for img_path in glob.glob(os.path.join(directory_path, \"*.\" + e)):\n",
    "          #print(img_path)\n",
    "          img = cv2.imread(img_path, cv2.IMREAD_COLOR)       \n",
    "          img = cv2.resize(img, (SIZE, SIZE))\n",
    "          test_images.append(img)\n",
    "          test_labels.append(label_test)"
   ]
  },
  {
   "cell_type": "code",
   "execution_count": 10,
   "metadata": {
    "id": "aqkmy9EhNAgD"
   },
   "outputs": [],
   "source": [
    "test_images = np.array(test_images)\n",
    "test_labels = np.array(test_labels)"
   ]
  },
  {
   "cell_type": "markdown",
   "metadata": {
    "id": "S8eOrhcUvoOa"
   },
   "source": [
    "## Pre-processing"
   ]
  },
  {
   "cell_type": "markdown",
   "metadata": {
    "id": "_zXozooIvur4"
   },
   "source": [
    "### label encoding"
   ]
  },
  {
   "cell_type": "code",
   "execution_count": 11,
   "metadata": {
    "id": "vbtsRuiGNDg3"
   },
   "outputs": [],
   "source": [
    "le = preprocessing.LabelEncoder()\n",
    "le.fit(test_labels)\n",
    "test_labels_encoded = le.transform(test_labels)\n",
    "le.fit(train_labels)\n",
    "train_labels_encoded = le.transform(train_labels)"
   ]
  },
  {
   "cell_type": "markdown",
   "metadata": {
    "id": "kNX0T2NXv2Bm"
   },
   "source": [
    "### spliting the dataset into training set and test set\n",
    "we already split the dataset in our directory, but for the matter of clean coding, we're changing their name."
   ]
  },
  {
   "cell_type": "code",
   "execution_count": 12,
   "metadata": {
    "id": "3NV1G-FADtDx"
   },
   "outputs": [],
   "source": [
    "x_train, y_train, x_test, y_test = train_images, train_labels_encoded, test_images, test_labels_encoded"
   ]
  },
  {
   "cell_type": "markdown",
   "metadata": {
    "id": "ZJTBFHFhwZBq"
   },
   "source": [
    "### scaling train set and test set"
   ]
  },
  {
   "cell_type": "code",
   "execution_count": 13,
   "metadata": {
    "id": "wp7lpWbqweB8"
   },
   "outputs": [],
   "source": [
    "x_train, x_test = x_train / 255.0, x_test / 255.0"
   ]
  },
  {
   "cell_type": "markdown",
   "metadata": {
    "id": "0UFY9dw_whGX"
   },
   "source": [
    "## Feature Extraction"
   ]
  },
  {
   "cell_type": "markdown",
   "metadata": {
    "id": "CGvWYF0gxsYH"
   },
   "source": [
    "### VGG16"
   ]
  },
  {
   "cell_type": "code",
   "execution_count": null,
   "metadata": {
    "id": "gG5yuF5MIebj"
   },
   "outputs": [],
   "source": [
    "features = []\n",
    "extracted_feature = []"
   ]
  },
  {
   "cell_type": "code",
   "execution_count": null,
   "metadata": {
    "colab": {
     "base_uri": "https://localhost:8080/"
    },
    "id": "pQrwbY8CNRJ6",
    "outputId": "8a1d94b1-59bc-4e01-fdaa-7179c131be3e"
   },
   "outputs": [
    {
     "name": "stdout",
     "output_type": "stream",
     "text": [
      "Downloading data from https://storage.googleapis.com/tensorflow/keras-applications/vgg16/vgg16_weights_tf_dim_ordering_tf_kernels_notop.h5\n",
      "58892288/58889256 [==============================] - 0s 0us/step\n",
      "58900480/58889256 [==============================] - 0s 0us/step\n"
     ]
    }
   ],
   "source": [
    "VGG_model = VGG16(weights='imagenet', include_top=False, input_shape=(SIZE, SIZE, 3), pooling='avg')"
   ]
  },
  {
   "cell_type": "code",
   "execution_count": null,
   "metadata": {
    "id": "aLJMOoZ6NYjO"
   },
   "outputs": [],
   "source": [
    "extracted_feature = model.predict(x_train)"
   ]
  },
  {
   "cell_type": "code",
   "execution_count": null,
   "metadata": {
    "id": "VS8qjMHCPPux"
   },
   "outputs": [],
   "source": [
    "features = extracted_feature.reshape(extracted_feature.shape[0], -1)"
   ]
  },
  {
   "cell_type": "markdown",
   "metadata": {
    "id": "-ECH9KnTxwPX"
   },
   "source": [
    "### Inception"
   ]
  },
  {
   "cell_type": "code",
   "execution_count": null,
   "metadata": {
    "id": "lxc4Ip4M25Tc"
   },
   "outputs": [],
   "source": [
    "features = []\n",
    "extracted_feature = []"
   ]
  },
  {
   "cell_type": "code",
   "execution_count": 44,
   "metadata": {
    "colab": {
     "base_uri": "https://localhost:8080/"
    },
    "id": "njHG2ByVxzdZ",
    "outputId": "2fb9de7a-7dae-4c09-cc7b-b1fdaf69d463"
   },
   "outputs": [
    {
     "name": "stdout",
     "output_type": "stream",
     "text": [
      "Downloading data from https://storage.googleapis.com/tensorflow/keras-applications/inception_v3/inception_v3_weights_tf_dim_ordering_tf_kernels_notop.h5\n",
      "87916544/87910968 [==============================] - 1s 0us/step\n",
      "87924736/87910968 [==============================] - 1s 0us/step\n"
     ]
    }
   ],
   "source": [
    "model = InceptionV3(weights='imagenet', include_top=False, input_shape=(SIZE, SIZE, 3))"
   ]
  },
  {
   "cell_type": "code",
   "execution_count": 45,
   "metadata": {
    "id": "kFVPkABCykjD"
   },
   "outputs": [],
   "source": [
    "extracted_feature = model.predict(x_train)"
   ]
  },
  {
   "cell_type": "code",
   "execution_count": null,
   "metadata": {
    "colab": {
     "base_uri": "https://localhost:8080/"
    },
    "id": "S26XuSm13DQs",
    "outputId": "ba7fd0bc-082e-4763-deb5-474bb91b8658"
   },
   "outputs": [
    {
     "data": {
      "text/plain": [
       "(900, 2048)"
      ]
     },
     "execution_count": 17,
     "metadata": {
      "tags": []
     },
     "output_type": "execute_result"
    }
   ],
   "source": [
    "extracted_feature.shape"
   ]
  },
  {
   "cell_type": "code",
   "execution_count": null,
   "metadata": {
    "id": "cMpsmBKUyvB5"
   },
   "outputs": [],
   "source": [
    "features = extracted_feature.reshape(extracted_feature.shape[0], -1)"
   ]
  },
  {
   "cell_type": "markdown",
   "metadata": {
    "id": "b1RRtWgDGBYJ"
   },
   "source": [
    "### mobilenet"
   ]
  },
  {
   "cell_type": "code",
   "execution_count": 14,
   "metadata": {
    "id": "mbN6xe-8JwsK"
   },
   "outputs": [],
   "source": [
    "model = []\n",
    "extracted_feature = []"
   ]
  },
  {
   "cell_type": "code",
   "execution_count": 15,
   "metadata": {
    "colab": {
     "base_uri": "https://localhost:8080/"
    },
    "id": "zYMmIXvxGEBi",
    "outputId": "c27923e2-c977-41d8-b008-82c40dac1ab0"
   },
   "outputs": [
    {
     "name": "stdout",
     "output_type": "stream",
     "text": [
      "Downloading data from https://storage.googleapis.com/tensorflow/keras-applications/mobilenet/mobilenet_1_0_224_tf_no_top.h5\n",
      "17227776/17225924 [==============================] - 0s 0us/step\n",
      "17235968/17225924 [==============================] - 0s 0us/step\n"
     ]
    }
   ],
   "source": [
    "model = MobileNet(weights='imagenet',include_top=False, input_shape=(SIZE, SIZE, 3))"
   ]
  },
  {
   "cell_type": "code",
   "execution_count": 16,
   "metadata": {
    "id": "A6BgS6aBHNdl"
   },
   "outputs": [],
   "source": [
    "extracted_feature = model.predict(x_train)"
   ]
  },
  {
   "cell_type": "code",
   "execution_count": 17,
   "metadata": {
    "id": "WawWVttpHP2e"
   },
   "outputs": [],
   "source": [
    "features = extracted_feature.reshape(extracted_feature.shape[0], -1)"
   ]
  },
  {
   "cell_type": "markdown",
   "metadata": {
    "id": "mbD_w9vxy2_T"
   },
   "source": [
    "## Xception"
   ]
  },
  {
   "cell_type": "code",
   "execution_count": null,
   "metadata": {
    "id": "MVzVZpBmy-jJ"
   },
   "outputs": [],
   "source": [
    "features = []\n",
    "extracted_feature = []"
   ]
  },
  {
   "cell_type": "code",
   "execution_count": null,
   "metadata": {
    "id": "DjpliLcZ2sW4"
   },
   "outputs": [],
   "source": [
    "model = []"
   ]
  },
  {
   "cell_type": "code",
   "execution_count": null,
   "metadata": {
    "colab": {
     "base_uri": "https://localhost:8080/"
    },
    "id": "lAZTIsouzAh2",
    "outputId": "ada57dbe-95cc-46bd-a6f9-a2cbe87a1ebf"
   },
   "outputs": [
    {
     "name": "stdout",
     "output_type": "stream",
     "text": [
      "Downloading data from https://storage.googleapis.com/tensorflow/keras-applications/xception/xception_weights_tf_dim_ordering_tf_kernels_notop.h5\n",
      "83689472/83683744 [==============================] - 1s 0us/step\n",
      "83697664/83683744 [==============================] - 1s 0us/step\n"
     ]
    }
   ],
   "source": [
    "model = Xception(weights='imagenet', include_top=False, input_shape=(SIZE, SIZE, 3))"
   ]
  },
  {
   "cell_type": "code",
   "execution_count": null,
   "metadata": {
    "id": "BoILJ9bkzDih"
   },
   "outputs": [],
   "source": [
    "extracted_feature = model.predict(x_train)"
   ]
  },
  {
   "cell_type": "code",
   "execution_count": null,
   "metadata": {
    "id": "uVu9tFwgy5hk"
   },
   "outputs": [],
   "source": [
    "features = extracted_feature.reshape(extracted_feature.shape[0], -1)"
   ]
  },
  {
   "cell_type": "markdown",
   "metadata": {
    "id": "24SL7zT0wrXD"
   },
   "source": [
    "## parameters optimization\n",
    "to get the best out of our classifier, we need to find the best parameters of xgbclassifier"
   ]
  },
  {
   "cell_type": "code",
   "execution_count": 25,
   "metadata": {
    "colab": {
     "base_uri": "https://localhost:8080/"
    },
    "id": "Uu5IJCyFPXvj",
    "outputId": "8a418a04-fe8f-417e-cb00-57266555dff2"
   },
   "outputs": [
    {
     "data": {
      "text/plain": [
       "XGBClassifier(base_score=0.5, booster='gbtree', colsample_bylevel=1,\n",
       "              colsample_bynode=1, colsample_bytree=1, gamma=0,\n",
       "              learning_rate=0.1, max_delta_step=0, max_depth=3,\n",
       "              min_child_weight=1, missing=None, n_estimators=100, n_jobs=1,\n",
       "              nthread=None, objective='multi:softprob', random_state=0,\n",
       "              reg_alpha=0, reg_lambda=1, scale_pos_weight=1, seed=None,\n",
       "              silent=None, subsample=1, verbosity=1)"
      ]
     },
     "execution_count": 25,
     "metadata": {
      "tags": []
     },
     "output_type": "execute_result"
    }
   ],
   "source": [
    "classifier = xgb.XGBClassifier()\n",
    "classifier.fit(features, y_train) #For sklearn no one hot encoding"
   ]
  },
  {
   "cell_type": "code",
   "execution_count": 27,
   "metadata": {
    "id": "dw0Kd41zOd3k"
   },
   "outputs": [],
   "source": [
    "train_prediction = classifier.predict(features)"
   ]
  },
  {
   "cell_type": "code",
   "execution_count": 28,
   "metadata": {
    "id": "xGMuFb1dQcKU"
   },
   "outputs": [],
   "source": [
    "dtrain = xgb.DMatrix(features, label=y_train)"
   ]
  },
  {
   "cell_type": "code",
   "execution_count": 29,
   "metadata": {
    "colab": {
     "base_uri": "https://localhost:8080/"
    },
    "id": "14Z_sYFPNi4U",
    "outputId": "f0ab8849-1e32-46a4-d5ba-bf8145d577cd"
   },
   "outputs": [
    {
     "name": "stdout",
     "output_type": "stream",
     "text": [
      "              precision    recall  f1-score   support\n",
      "\n",
      "           0       1.00      1.00      1.00       100\n",
      "           1       1.00      1.00      1.00       400\n",
      "           2       1.00      1.00      1.00       400\n",
      "\n",
      "    accuracy                           1.00       900\n",
      "   macro avg       1.00      1.00      1.00       900\n",
      "weighted avg       1.00      1.00      1.00       900\n",
      "\n"
     ]
    }
   ],
   "source": [
    "print(classification_report(train_prediction, y_train))"
   ]
  },
  {
   "cell_type": "code",
   "execution_count": 30,
   "metadata": {
    "id": "k6BWw4kSO7Po"
   },
   "outputs": [],
   "source": [
    "cm = confusion_matrix(train_prediction, y_train)"
   ]
  },
  {
   "cell_type": "code",
   "execution_count": null,
   "metadata": {
    "colab": {
     "base_uri": "https://localhost:8080/"
    },
    "id": "H9D4naadPH8A",
    "outputId": "2c60612d-01e8-40f7-b294-bc6028f3f7ab"
   },
   "outputs": [
    {
     "name": "stdout",
     "output_type": "stream",
     "text": [
      "1.0\n"
     ]
    }
   ],
   "source": [
    "accuracy = cm.diagonal().sum()/cm.sum()\n",
    "print(accuracy)"
   ]
  },
  {
   "cell_type": "code",
   "execution_count": 31,
   "metadata": {
    "id": "x70mzeKOQsCX"
   },
   "outputs": [],
   "source": [
    "def bo_tune_xgb(max_depth, gamma, n_estimators ,learning_rate):\n",
    "  params = {'max_depth': int(max_depth),\n",
    "            'gamma': gamma,\n",
    "            'n_estimators': int(n_estimators),\n",
    "            'learning_rate':learning_rate,\n",
    "            'subsample': 0.8,\n",
    "            'eta': 0.1,\n",
    "            'eval_metric': 'rmse'}\n",
    "  cv_result = xgb.cv(params, dtrain, num_boost_round=70, nfold=5)\n",
    "  return -1.0 * cv_result['test-rmse-mean'].iloc[-1]"
   ]
  },
  {
   "cell_type": "code",
   "execution_count": 32,
   "metadata": {
    "id": "-EpLt1J6Rw8h"
   },
   "outputs": [],
   "source": [
    "xgb_bo = BayesianOptimization(bo_tune_xgb, {'max_depth': (3, 10),\n",
    "                                             'gamma': (0, 1),\n",
    "                                             'learning_rate':(0,1),\n",
    "                                             'n_estimators':(100,120)\n",
    "                                            })"
   ]
  },
  {
   "cell_type": "code",
   "execution_count": 33,
   "metadata": {
    "colab": {
     "base_uri": "https://localhost:8080/"
    },
    "id": "ZOgTUaIrS0cu",
    "outputId": "91be0a1f-2e14-48ab-ff73-1e6d1e291ada"
   },
   "outputs": [
    {
     "name": "stdout",
     "output_type": "stream",
     "text": [
      "|   iter    |  target   |   gamma   | learni... | max_depth | n_esti... |\n",
      "-------------------------------------------------------------------------\n",
      "| \u001b[0m 1       \u001b[0m | \u001b[0m-0.5856  \u001b[0m | \u001b[0m 0.9905  \u001b[0m | \u001b[0m 0.5323  \u001b[0m | \u001b[0m 9.274   \u001b[0m | \u001b[0m 111.5   \u001b[0m |\n",
      "| \u001b[95m 2       \u001b[0m | \u001b[95m-0.4661  \u001b[0m | \u001b[95m 0.2963  \u001b[0m | \u001b[95m 0.06037 \u001b[0m | \u001b[95m 4.594   \u001b[0m | \u001b[95m 119.1   \u001b[0m |\n",
      "| \u001b[0m 3       \u001b[0m | \u001b[0m-0.5296  \u001b[0m | \u001b[0m 0.6068  \u001b[0m | \u001b[0m 0.3712  \u001b[0m | \u001b[0m 6.944   \u001b[0m | \u001b[0m 106.9   \u001b[0m |\n",
      "| \u001b[0m 4       \u001b[0m | \u001b[0m-0.5389  \u001b[0m | \u001b[0m 0.7742  \u001b[0m | \u001b[0m 0.3794  \u001b[0m | \u001b[0m 7.751   \u001b[0m | \u001b[0m 113.0   \u001b[0m |\n",
      "| \u001b[0m 5       \u001b[0m | \u001b[0m-0.7545  \u001b[0m | \u001b[0m 0.652   \u001b[0m | \u001b[0m 0.9635  \u001b[0m | \u001b[0m 7.909   \u001b[0m | \u001b[0m 107.2   \u001b[0m |\n",
      "| \u001b[0m 6       \u001b[0m | \u001b[0m-0.647   \u001b[0m | \u001b[0m 0.04535 \u001b[0m | \u001b[0m 0.01243 \u001b[0m | \u001b[0m 6.589   \u001b[0m | \u001b[0m 117.1   \u001b[0m |\n",
      "| \u001b[0m 7       \u001b[0m | \u001b[0m-0.5198  \u001b[0m | \u001b[0m 0.4091  \u001b[0m | \u001b[0m 0.3577  \u001b[0m | \u001b[0m 5.442   \u001b[0m | \u001b[0m 105.1   \u001b[0m |\n",
      "| \u001b[0m 8       \u001b[0m | \u001b[0m-0.6869  \u001b[0m | \u001b[0m 0.9863  \u001b[0m | \u001b[0m 0.87    \u001b[0m | \u001b[0m 4.132   \u001b[0m | \u001b[0m 109.3   \u001b[0m |\n",
      "| \u001b[0m 9       \u001b[0m | \u001b[0m-1.067   \u001b[0m | \u001b[0m 1.0     \u001b[0m | \u001b[0m 0.0     \u001b[0m | \u001b[0m 3.0     \u001b[0m | \u001b[0m 120.0   \u001b[0m |\n",
      "| \u001b[0m 10      \u001b[0m | \u001b[0m-1.067   \u001b[0m | \u001b[0m 0.0     \u001b[0m | \u001b[0m 0.0     \u001b[0m | \u001b[0m 10.0    \u001b[0m | \u001b[0m 100.0   \u001b[0m |\n",
      "| \u001b[0m 11      \u001b[0m | \u001b[0m-0.7562  \u001b[0m | \u001b[0m 0.0     \u001b[0m | \u001b[0m 1.0     \u001b[0m | \u001b[0m 7.1     \u001b[0m | \u001b[0m 120.0   \u001b[0m |\n",
      "| \u001b[0m 12      \u001b[0m | \u001b[0m-1.067   \u001b[0m | \u001b[0m 1.0     \u001b[0m | \u001b[0m 0.0     \u001b[0m | \u001b[0m 3.0     \u001b[0m | \u001b[0m 100.0   \u001b[0m |\n",
      "| \u001b[0m 13      \u001b[0m | \u001b[0m-0.4853  \u001b[0m | \u001b[0m 0.0778  \u001b[0m | \u001b[0m 0.1382  \u001b[0m | \u001b[0m 3.034   \u001b[0m | \u001b[0m 115.3   \u001b[0m |\n",
      "=========================================================================\n"
     ]
    }
   ],
   "source": [
    "xgb_bo.maximize(n_iter=5, init_points=8, acq='ei')"
   ]
  },
  {
   "cell_type": "code",
   "execution_count": 34,
   "metadata": {
    "colab": {
     "base_uri": "https://localhost:8080/"
    },
    "id": "vS2YFAyKVSZZ",
    "outputId": "7608dfb7-63cd-4fad-cf04-355ceb4a1cdb"
   },
   "outputs": [
    {
     "name": "stdout",
     "output_type": "stream",
     "text": [
      "{'gamma': 0.29628238374744553, 'learning_rate': 0.0603741219276247, 'max_depth': 4.593838710300449, 'n_estimators': 119.06289552746898}\n"
     ]
    }
   ],
   "source": [
    "params = xgb_bo.max['params']\n",
    "print(params)"
   ]
  },
  {
   "cell_type": "code",
   "execution_count": 35,
   "metadata": {
    "id": "lJLWabC9V2B2"
   },
   "outputs": [],
   "source": [
    "params['max_depth']= int(params['max_depth'])\n",
    "params['n_estimators']= int(params['n_estimators'])"
   ]
  },
  {
   "cell_type": "markdown",
   "metadata": {
    "id": "bZo61YUDRwk0"
   },
   "source": [
    "## Training the model with optimized parameters"
   ]
  },
  {
   "cell_type": "code",
   "execution_count": 36,
   "metadata": {
    "colab": {
     "base_uri": "https://localhost:8080/"
    },
    "id": "9jVkizo4Pbne",
    "outputId": "e8ef61a0-3429-4dc7-c510-56d279cd5246"
   },
   "outputs": [
    {
     "data": {
      "text/plain": [
       "XGBClassifier(base_score=0.5, booster='gbtree', colsample_bylevel=1,\n",
       "              colsample_bynode=1, colsample_bytree=1, gamma=0.29628238374744553,\n",
       "              learning_rate=0.0603741219276247, max_delta_step=0, max_depth=4,\n",
       "              min_child_weight=1, missing=None, n_estimators=119, n_jobs=1,\n",
       "              nthread=None, objective='multi:softprob', random_state=0,\n",
       "              reg_alpha=0, reg_lambda=1, scale_pos_weight=1, seed=None,\n",
       "              silent=None, subsample=1, verbosity=1)"
      ]
     },
     "execution_count": 36,
     "metadata": {
      "tags": []
     },
     "output_type": "execute_result"
    }
   ],
   "source": [
    "classifier = xgb.XGBClassifier(**params)\n",
    "classifier.fit(features, y_train) "
   ]
  },
  {
   "cell_type": "markdown",
   "metadata": {
    "id": "7z9mkbkAw8eC"
   },
   "source": [
    "## predict test set"
   ]
  },
  {
   "cell_type": "code",
   "execution_count": 37,
   "metadata": {
    "id": "djdhIU4BQ2ch"
   },
   "outputs": [],
   "source": [
    "X_test_feature = model.predict(x_test)\n",
    "X_test_features = X_test_feature.reshape(X_test_feature.shape[0], -1)"
   ]
  },
  {
   "cell_type": "code",
   "execution_count": 38,
   "metadata": {
    "id": "d9rtC4Mf_rU2"
   },
   "outputs": [],
   "source": [
    "prediction = classifier.predict(X_test_features)\n",
    "#Inverse le transform to get original label back. \n",
    "prediction = le.inverse_transform(prediction)"
   ]
  },
  {
   "cell_type": "markdown",
   "metadata": {
    "id": "_BZ-GIyFxApv"
   },
   "source": [
    "## accuracy score"
   ]
  },
  {
   "cell_type": "code",
   "execution_count": 39,
   "metadata": {
    "colab": {
     "base_uri": "https://localhost:8080/"
    },
    "id": "XXMd1TPqQ_2b",
    "outputId": "4ee89bae-0941-41e7-80e6-3e90bf7c26a6"
   },
   "outputs": [
    {
     "name": "stdout",
     "output_type": "stream",
     "text": [
      "Accuracy =  0.7911111111111111\n"
     ]
    }
   ],
   "source": [
    "print (\"Accuracy = \", metrics.accuracy_score(test_labels, prediction))"
   ]
  },
  {
   "cell_type": "markdown",
   "metadata": {
    "id": "P8FxtQtHxEYZ"
   },
   "source": [
    "## confusion matrix"
   ]
  },
  {
   "cell_type": "code",
   "execution_count": 40,
   "metadata": {
    "id": "NbzmqyHIROzM"
   },
   "outputs": [],
   "source": [
    "cm = confusion_matrix(test_labels, prediction)"
   ]
  },
  {
   "cell_type": "code",
   "execution_count": 41,
   "metadata": {
    "colab": {
     "base_uri": "https://localhost:8080/",
     "height": 267
    },
    "id": "u34NOq4xRR5e",
    "outputId": "2cafd571-7486-49e6-99dc-0a4c83a62b31"
   },
   "outputs": [
    {
     "data": {
      "image/png": "[encoded data removed]",
      "text/plain": [
       "<Figure size 432x288 with 2 Axes>"
      ]
     },
     "metadata": {
      "needs_background": "light",
      "tags": []
     },
     "output_type": "display_data"
    }
   ],
   "source": [
    "sns.heatmap(cm, annot=True)\n",
    "plt.show()"
   ]
  }
 ],
 "metadata": {
  "accelerator": "TPU",
  "colab": {
   "collapsed_sections": [],
   "name": "new-method.ipynb",
   "provenance": []
  },
  "kernelspec": {
   "display_name": "Python 3 (ipykernel)",
   "language": "python",
   "name": "python3"
  },
  "language_info": {
   "codemirror_mode": {
    "name": "ipython",
    "version": 3
   },
   "file_extension": ".py",
   "mimetype": "text/x-python",
   "name": "python",
   "nbconvert_exporter": "python",
   "pygments_lexer": "ipython3",
   "version": "3.9.5"
  }
 },
 "nbformat": 4,
 "nbformat_minor": 1
}
