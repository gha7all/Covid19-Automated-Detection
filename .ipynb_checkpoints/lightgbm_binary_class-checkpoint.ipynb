{
 "cells": [
  {
   "cell_type": "code",
   "execution_count": 263,
   "metadata": {
    "id": "D9Cg8dV04LyJ"
   },
   "outputs": [],
   "source": [
    "import numpy as np\n",
    "import matplotlib.pyplot as plt\n",
    "import glob\n",
    "import seaborn as sns\n",
    "import pandas as pd\n",
    "import cv2\n",
    "import os\n",
    "from keras.applications.densenet import DenseNet169\n",
    "from keras.applications.mobilenet import MobileNet\n",
    "from sklearn import preprocessing\n",
    "from sklearn.metrics import confusion_matrix, classification_report\n",
    "from sklearn.metrics import accuracy_score\n",
    "from sklearn.model_selection import KFold, cross_val_score, cross_val_predict\n",
    "from sklearn.feature_selection import SelectKBest, chi2\n",
    "import lightgbm as lgb\n",
    "from matplotlib.backends.backend_pdf import PdfPages"
   ]
  },
  {
   "cell_type": "markdown",
   "metadata": {
    "id": "RWohFpu_vHe3"
   },
   "source": [
    "## loading the dataset"
   ]
  },
  {
   "cell_type": "code",
   "execution_count": 4,
   "metadata": {
    "id": "hSqy8Bx4Dt2i"
   },
   "outputs": [],
   "source": [
    "SIZE = 224\n",
    "images = []\n",
    "images_labels = []"
   ]
  },
  {
   "cell_type": "markdown",
   "metadata": {
    "id": "rna4sjbevS0t"
   },
   "source": [
    "### importing each image and set the current directory name as its label "
   ]
  },
  {
   "cell_type": "code",
   "execution_count": 5,
   "metadata": {
    "colab": {
     "base_uri": "https://localhost:8080/"
    },
    "id": "eQ33LlY3D7Hf",
    "outputId": "b3a40fdf-1033-4991-f613-09330eeb9334"
   },
   "outputs": [
    {
     "name": "stdout",
     "output_type": "stream",
     "text": [
      "Pneumonia\n",
      "No_findings\n",
      "Covid-19\n"
     ]
    }
   ],
   "source": [
    "ext = ['png', 'jpg', 'jpeg']\n",
    "\n",
    "for directory_path in glob.glob(\"PATH TO DATASET\"):\n",
    "    splited = directory_path.split(\"/\")\n",
    "    label = splited[-1]\n",
    "    print(label)\n",
    "    for e in ext:\n",
    "        for img_path in glob.glob(os.path.join(directory_path, \"*.\" + e)):\n",
    "            if label == 'Pneumonia':\n",
    "                break\n",
    "            else:\n",
    "                # print(img_path)\n",
    "                img = cv2.imread(img_path, cv2.IMREAD_COLOR)\n",
    "                img = cv2.resize(img, (SIZE, SIZE))\n",
    "                images.append(img)\n",
    "                images_labels.append(label)"
   ]
  },
  {
   "cell_type": "code",
   "execution_count": 6,
   "metadata": {
    "id": "hjPnqzQZKorZ"
   },
   "outputs": [],
   "source": [
    "images = np.array(images)\n",
    "images_labels = np.array(images_labels)"
   ]
  },
  {
   "cell_type": "code",
   "execution_count": 7,
   "metadata": {
    "colab": {
     "base_uri": "https://localhost:8080/"
    },
    "id": "bkP_UNU5Ubn8",
    "outputId": "7bc9583a-da1d-451d-c72d-0c8c5d912cde"
   },
   "outputs": [
    {
     "data": {
      "text/plain": [
       "(625, 224, 224, 3)"
      ]
     },
     "execution_count": 7,
     "metadata": {
      "tags": []
     },
     "output_type": "execute_result"
    }
   ],
   "source": [
    "images.shape"
   ]
  },
  {
   "cell_type": "code",
   "execution_count": 8,
   "metadata": {
    "colab": {
     "base_uri": "https://localhost:8080/"
    },
    "id": "G44kwBVUxAxP",
    "outputId": "6eac622d-1ef4-41d4-f3b4-22f13fba7a38"
   },
   "outputs": [
    {
     "data": {
      "text/plain": [
       "array(['Covid-19', 'No_findings'], dtype='<U11')"
      ]
     },
     "execution_count": 8,
     "metadata": {
      "tags": []
     },
     "output_type": "execute_result"
    }
   ],
   "source": [
    "np.unique(images_labels)"
   ]
  },
  {
   "cell_type": "markdown",
   "metadata": {
    "id": "S8eOrhcUvoOa"
   },
   "source": [
    "## Pre-processing"
   ]
  },
  {
   "cell_type": "markdown",
   "metadata": {
    "id": "_zXozooIvur4"
   },
   "source": [
    "### label encoding"
   ]
  },
  {
   "cell_type": "code",
   "execution_count": 9,
   "metadata": {
    "id": "vbtsRuiGNDg3"
   },
   "outputs": [],
   "source": [
    "le = preprocessing.LabelEncoder()\n",
    "le.fit(images_labels)\n",
    "labels_encoded = le.transform(images_labels)"
   ]
  },
  {
   "cell_type": "markdown",
   "metadata": {
    "id": "0UFY9dw_whGX"
   },
   "source": [
    "## Feature Extraction"
   ]
  },
  {
   "cell_type": "markdown",
   "metadata": {
    "id": "LoauJFgmLwP2"
   },
   "source": [
    "### DenseNet169"
   ]
  },
  {
   "cell_type": "code",
   "execution_count": 10,
   "metadata": {
    "colab": {
     "base_uri": "https://localhost:8080/"
    },
    "id": "FQz-wPnd9jk7",
    "outputId": "1deb7aa1-399f-46f9-8df1-13666d1819f6"
   },
   "outputs": [
    {
     "name": "stdout",
     "output_type": "stream",
     "text": [
      "Downloading data from https://storage.googleapis.com/tensorflow/keras-applications/densenet/densenet169_weights_tf_dim_ordering_tf_kernels_notop.h5\n",
      "51879936/51877672 [==============================] - 1s 0us/step\n",
      "51888128/51877672 [==============================] - 1s 0us/step\n"
     ]
    }
   ],
   "source": [
    "dense_model = DenseNet169(\n",
    "    include_top=False, input_shape=(SIZE, SIZE, 3), pooling='avg')"
   ]
  },
  {
   "cell_type": "code",
   "execution_count": 11,
   "metadata": {
    "id": "96eBZ2lA_gnQ"
   },
   "outputs": [],
   "source": [
    "dense_features = dense_model.predict(images)"
   ]
  },
  {
   "cell_type": "code",
   "execution_count": 12,
   "metadata": {
    "id": "rFcOMynPAjOW"
   },
   "outputs": [],
   "source": [
    "features = dense_features.reshape(dense_features.shape[0], -1)"
   ]
  },
  {
   "cell_type": "code",
   "execution_count": 13,
   "metadata": {
    "colab": {
     "base_uri": "https://localhost:8080/"
    },
    "id": "t67858zGYbb7",
    "outputId": "0123288f-1a47-47be-f650-a5dc8915fdcb"
   },
   "outputs": [
    {
     "data": {
      "text/plain": [
       "(625, 1664)"
      ]
     },
     "execution_count": 13,
     "metadata": {
      "tags": []
     },
     "output_type": "execute_result"
    }
   ],
   "source": [
    "features.shape"
   ]
  },
  {
   "cell_type": "markdown",
   "metadata": {
    "id": "b1RRtWgDGBYJ"
   },
   "source": [
    "### Mobilenet"
   ]
  },
  {
   "cell_type": "code",
   "execution_count": 14,
   "metadata": {
    "colab": {
     "base_uri": "https://localhost:8080/"
    },
    "id": "zYMmIXvxGEBi",
    "outputId": "6706b428-fc2f-4c52-a9dd-6ce689821409"
   },
   "outputs": [
    {
     "name": "stdout",
     "output_type": "stream",
     "text": [
      "Downloading data from https://storage.googleapis.com/tensorflow/keras-applications/mobilenet/mobilenet_1_0_224_tf_no_top.h5\n",
      "17227776/17225924 [==============================] - 0s 0us/step\n",
      "17235968/17225924 [==============================] - 0s 0us/step\n"
     ]
    }
   ],
   "source": [
    "model_mobile = MobileNet(weights='imagenet', include_top=False,\n",
    "                         input_shape=(SIZE, SIZE, 3), pooling='avg')"
   ]
  },
  {
   "cell_type": "code",
   "execution_count": 15,
   "metadata": {
    "id": "A6BgS6aBHNdl"
   },
   "outputs": [],
   "source": [
    "mobile_features = model_mobile.predict(images)"
   ]
  },
  {
   "cell_type": "code",
   "execution_count": 16,
   "metadata": {
    "id": "WawWVttpHP2e"
   },
   "outputs": [],
   "source": [
    "features_2 = mobile_features.reshape(mobile_features.shape[0], -1)"
   ]
  },
  {
   "cell_type": "code",
   "execution_count": 17,
   "metadata": {
    "colab": {
     "base_uri": "https://localhost:8080/"
    },
    "id": "bCy6ZaDsYMC6",
    "outputId": "d9f9478d-a84d-4911-e91b-7cb9de9a1c57"
   },
   "outputs": [
    {
     "data": {
      "text/plain": [
       "(625, 1024)"
      ]
     },
     "execution_count": 17,
     "metadata": {
      "tags": []
     },
     "output_type": "execute_result"
    }
   ],
   "source": [
    "features_2.shape"
   ]
  },
  {
   "cell_type": "markdown",
   "metadata": {
    "id": "XzjG7N85ZWsp"
   },
   "source": [
    "## Feature Combination"
   ]
  },
  {
   "cell_type": "code",
   "execution_count": 18,
   "metadata": {
    "id": "iKdCXNr9_fa1"
   },
   "outputs": [],
   "source": [
    "combined_features = np.hstack((dense_features, mobile_features))"
   ]
  },
  {
   "cell_type": "code",
   "execution_count": 25,
   "metadata": {
    "colab": {
     "base_uri": "https://localhost:8080/"
    },
    "id": "CInBBIIDaoHr",
    "outputId": "2ed911b0-9f1a-468a-d20c-128f72164446"
   },
   "outputs": [
    {
     "data": {
      "text/plain": [
       "(625, 2688)"
      ]
     },
     "execution_count": 25,
     "metadata": {
      "tags": []
     },
     "output_type": "execute_result"
    }
   ],
   "source": [
    "combined_features.shape"
   ]
  },
  {
   "cell_type": "markdown",
   "metadata": {
    "id": "ZWsRFexjWCDS"
   },
   "source": [
    "## lightgbm classifier"
   ]
  },
  {
   "cell_type": "code",
   "execution_count": 19,
   "metadata": {
    "id": "qcfS2Djyymi5"
   },
   "outputs": [],
   "source": [
    "params = {'learning_rate': 0.2, 'n_iterations': 500, 'max_depth': 7,\n",
    "          'num_leaves': 105, 'n_estimators': 300, 'min_child_samples': 40}"
   ]
  },
  {
   "cell_type": "code",
   "execution_count": 22,
   "metadata": {
    "id": "fjFA8dt8WHr8"
   },
   "outputs": [],
   "source": [
    "lgb_classifier = lgb.LGBMClassifier(**params)"
   ]
  },
  {
   "cell_type": "markdown",
   "metadata": {
    "id": "DgJIEdegb5sI"
   },
   "source": [
    "## Feature Selection"
   ]
  },
  {
   "cell_type": "code",
   "execution_count": 140,
   "metadata": {
    "id": "JGPs4Ga_b8Ic"
   },
   "outputs": [],
   "source": [
    "selected_features = SelectKBest(chi2, k=2000).fit_transform(\n",
    "    combined_features, labels_encoded)"
   ]
  },
  {
   "cell_type": "code",
   "execution_count": 107,
   "metadata": {
    "colab": {
     "base_uri": "https://localhost:8080/"
    },
    "id": "3pPGYto9cpww",
    "outputId": "9b13c672-9850-4beb-a5f7-b82bac2d82c7"
   },
   "outputs": [
    {
     "data": {
      "text/plain": [
       "(625, 100)"
      ]
     },
     "execution_count": 107,
     "metadata": {
      "tags": []
     },
     "output_type": "execute_result"
    }
   ],
   "source": [
    "selected_features.shape"
   ]
  },
  {
   "cell_type": "markdown",
   "metadata": {
    "id": "_BZ-GIyFxApv"
   },
   "source": [
    "## KFold cross validation"
   ]
  },
  {
   "cell_type": "code",
   "execution_count": 141,
   "metadata": {
    "id": "pTdrrqSnGhCj"
   },
   "outputs": [],
   "source": [
    "accuracy_per_fold = {}\n",
    "\n",
    "for i in range(0, 10):\n",
    "    kf = KFold(n_splits=5, random_state=i, shuffle=True)\n",
    "    accuracy = cross_val_score(\n",
    "        lgb_classifier, selected_features, labels_encoded, cv=kf, scoring='accuracy')\n",
    "    accuracy_per_fold[i] = np.mean(accuracy)"
   ]
  },
  {
   "cell_type": "code",
   "execution_count": 164,
   "metadata": {
    "colab": {
     "base_uri": "https://localhost:8080/"
    },
    "id": "LA93AsHYAFMt",
    "outputId": "17bc9ee5-534c-4273-94ef-3292b040bb62"
   },
   "outputs": [
    {
     "name": "stdout",
     "output_type": "stream",
     "text": [
      "1\n",
      "6\n"
     ]
    }
   ],
   "source": [
    "# finding the random state with the highest accuracy\n",
    "for key, value in accuracy_per_fold.items():\n",
    "    if value == max(accuracy_per_fold.values()):\n",
    "        print(key)"
   ]
  },
  {
   "cell_type": "markdown",
   "metadata": {
    "id": "Es7D681DBLP0"
   },
   "source": [
    "## Confusion matrix"
   ]
  },
  {
   "cell_type": "code",
   "execution_count": 278,
   "metadata": {
    "id": "SXYza4oozsaq"
   },
   "outputs": [],
   "source": [
    "kf = KFold(n_splits=5, random_state=1, shuffle=True)\n",
    "cm = {}\n",
    "key = 1\n",
    "accuracy = {}\n",
    "\n",
    "for train, test in kf.split(selected_features):\n",
    "    x_train, x_test = selected_features[train], selected_features[test]\n",
    "    y_train, y_test = labels_encoded[train], labels_encoded[test]\n",
    "\n",
    "    lgb_classifier.fit(x_train, y_train)\n",
    "    cm[key] = confusion_matrix(y_test, lgb_classifier.predict(x_test))\n",
    "    accuracy[key] = accuracy_score(y_test, lgb_classifier.predict(x_test))\n",
    "    key += 1"
   ]
  },
  {
   "cell_type": "code",
   "execution_count": 279,
   "metadata": {
    "colab": {
     "base_uri": "https://localhost:8080/"
    },
    "id": "KnCFEM9k8wzN",
    "outputId": "655a2a95-a40d-45e2-844d-8b13f951a19a"
   },
   "outputs": [
    {
     "data": {
      "text/plain": [
       "{1: 1.0, 2: 0.968, 3: 0.992, 4: 0.976, 5: 0.984}"
      ]
     },
     "execution_count": 279,
     "metadata": {
      "tags": []
     },
     "output_type": "execute_result"
    }
   ],
   "source": [
    "accuracy"
   ]
  },
  {
   "cell_type": "markdown",
   "metadata": {
    "id": "MOI9zvlgqGA2"
   },
   "source": [
    "## Confusion matrix HeatMap"
   ]
  },
  {
   "cell_type": "code",
   "execution_count": 267,
   "metadata": {
    "colab": {
     "base_uri": "https://localhost:8080/",
     "height": 733
    },
    "id": "W6QDaQ_1qH0z",
    "outputId": "755d262d-498e-47c4-b699-7cbd0df79e04"
   },
   "outputs": [
    {
     "data": {
      "text/plain": [
       "<Figure size 2160x1440 with 0 Axes>"
      ]
     },
     "metadata": {
      "tags": []
     },
     "output_type": "display_data"
    },
    {
     "data": {
      "image/png": "[encoded data removed]",
      "text/plain": [
       "<Figure size 720x864 with 10 Axes>"
      ]
     },
     "metadata": {
      "needs_background": "light",
      "tags": []
     },
     "output_type": "display_data"
    }
   ],
   "source": [
    "key = 1\n",
    "plt.figure(figsize=(30, 20))\n",
    "fig, axs = plt.subplots(3, 2, figsize=(10, 12))\n",
    "fig.delaxes(axs[2, 1])\n",
    "categories = ['Covid', 'No Finding']\n",
    "\n",
    "for i in range(3):\n",
    "    for j in range(2):\n",
    "        if key in range(1, 6):\n",
    "            counts = ['{0:0.0f}'.format(value) for value in\n",
    "                      cm[key].flatten()]\n",
    "            group_percentages = ['{0:.2%}'.format(value) for value in\n",
    "                                 cm[key].flatten()/np.sum(cm[key])]\n",
    "            labels = [f'{v1}\\n{v2}' for v1, v2 in\n",
    "                      zip(counts, group_percentages)]\n",
    "            labels = np.asarray(labels).reshape(2, 2)\n",
    "\n",
    "            sns.heatmap(cm[key], ax=axs[i, j], annot=labels, fmt='',\n",
    "                        xticklabels=categories, yticklabels=categories, cmap='Greys')\n",
    "            axs[i, j].set_title(f'fold{key}')\n",
    "            key += 1"
   ]
  },
  {
   "cell_type": "code",
   "execution_count": 272,
   "metadata": {
    "id": "NO6UHmm0teqm"
   },
   "outputs": [],
   "source": [
    "pp = PdfPages(\"heatmap.pdf\")\n",
    "pp.savefig(fig, bbox_inches='tight')\n",
    "pp.close()"
   ]
  },
  {
   "cell_type": "markdown",
   "metadata": {
    "id": "1Va-x4OPXPfY"
   },
   "source": [
    "## Performance checking"
   ]
  },
  {
   "cell_type": "code",
   "execution_count": 280,
   "metadata": {
    "id": "CFhAdOEulq7k"
   },
   "outputs": [],
   "source": [
    "def confusion_metrics(cm):\n",
    "    TP = cm[1][1]\n",
    "    TN = cm[0][0]\n",
    "    FP = cm[0][1]\n",
    "    FN = cm[1][0]\n",
    "    sensitivity = TP / (FN + TP)\n",
    "    specificity = TN / (TN + FP)\n",
    "    precision = TP / (TP + FP)\n",
    "    f1_score = 2 * (precision * sensitivity) / (precision + sensitivity)\n",
    "\n",
    "    result = {'Sensitivity': sensitivity*100, 'Specificity': specificity *\n",
    "              100, 'Precision': precision*100, 'F1-Score': f1_score*100}\n",
    "    return result"
   ]
  },
  {
   "cell_type": "code",
   "execution_count": 281,
   "metadata": {
    "colab": {
     "base_uri": "https://localhost:8080/",
     "height": 49
    },
    "id": "Yi5fvsh2YMqs",
    "outputId": "a4d3bbaa-d3ab-4392-8545-2541f25e9974"
   },
   "outputs": [
    {
     "data": {
      "text/html": [
       "<div>\n",
       "<style scoped>\n",
       "    .dataframe tbody tr th:only-of-type {\n",
       "        vertical-align: middle;\n",
       "    }\n",
       "\n",
       "    .dataframe tbody tr th {\n",
       "        vertical-align: top;\n",
       "    }\n",
       "\n",
       "    .dataframe thead th {\n",
       "        text-align: right;\n",
       "    }\n",
       "</style>\n",
       "<table border=\"1\" class=\"dataframe\">\n",
       "  <thead>\n",
       "    <tr style=\"text-align: right;\">\n",
       "      <th></th>\n",
       "      <th>Folds</th>\n",
       "      <th>Sensitivity</th>\n",
       "      <th>Specificity</th>\n",
       "      <th>Precision</th>\n",
       "      <th>F1-Score</th>\n",
       "      <th>Accuracy</th>\n",
       "    </tr>\n",
       "  </thead>\n",
       "  <tbody>\n",
       "  </tbody>\n",
       "</table>\n",
       "</div>"
      ],
      "text/plain": [
       "Empty DataFrame\n",
       "Columns: [Folds, Sensitivity, Specificity, Precision, F1-Score, Accuracy]\n",
       "Index: []"
      ]
     },
     "execution_count": 281,
     "metadata": {
      "tags": []
     },
     "output_type": "execute_result"
    }
   ],
   "source": [
    "performance = pd.DataFrame(\n",
    "    columns=['Folds', 'Sensitivity', 'Specificity', 'Precision', 'F1-Score', 'Accuracy'])\n",
    "performance"
   ]
  },
  {
   "cell_type": "code",
   "execution_count": 282,
   "metadata": {
    "id": "tFJPFsaXXR17"
   },
   "outputs": [],
   "source": [
    "for index in range(1, 6):\n",
    "    cf = cm[index]\n",
    "    metrics = confusion_metrics(cf)\n",
    "    all_in_one = {**{'Folds': f'fold {index}'}, **\n",
    "                  metrics, **{'Accuracy': accuracy[index]*100}}\n",
    "    performance = performance.append(all_in_one, ignore_index=True)"
   ]
  },
  {
   "cell_type": "code",
   "execution_count": 283,
   "metadata": {
    "colab": {
     "base_uri": "https://localhost:8080/",
     "height": 204
    },
    "id": "ILbanhc9cCuo",
    "outputId": "7df778e1-e822-441b-9df2-088b4eb80d5c"
   },
   "outputs": [
    {
     "data": {
      "text/html": [
       "<div>\n",
       "<style scoped>\n",
       "    .dataframe tbody tr th:only-of-type {\n",
       "        vertical-align: middle;\n",
       "    }\n",
       "\n",
       "    .dataframe tbody tr th {\n",
       "        vertical-align: top;\n",
       "    }\n",
       "\n",
       "    .dataframe thead th {\n",
       "        text-align: right;\n",
       "    }\n",
       "</style>\n",
       "<table border=\"1\" class=\"dataframe\">\n",
       "  <thead>\n",
       "    <tr style=\"text-align: right;\">\n",
       "      <th></th>\n",
       "      <th>Folds</th>\n",
       "      <th>Sensitivity</th>\n",
       "      <th>Specificity</th>\n",
       "      <th>Precision</th>\n",
       "      <th>F1-Score</th>\n",
       "      <th>Accuracy</th>\n",
       "    </tr>\n",
       "  </thead>\n",
       "  <tbody>\n",
       "    <tr>\n",
       "      <th>0</th>\n",
       "      <td>fold 1</td>\n",
       "      <td>100.000000</td>\n",
       "      <td>100.000000</td>\n",
       "      <td>100.000000</td>\n",
       "      <td>100.000000</td>\n",
       "      <td>100.0</td>\n",
       "    </tr>\n",
       "    <tr>\n",
       "      <th>1</th>\n",
       "      <td>fold 2</td>\n",
       "      <td>98.979592</td>\n",
       "      <td>88.888889</td>\n",
       "      <td>97.000000</td>\n",
       "      <td>97.979798</td>\n",
       "      <td>96.8</td>\n",
       "    </tr>\n",
       "    <tr>\n",
       "      <th>2</th>\n",
       "      <td>fold 3</td>\n",
       "      <td>99.065421</td>\n",
       "      <td>100.000000</td>\n",
       "      <td>100.000000</td>\n",
       "      <td>99.530516</td>\n",
       "      <td>99.2</td>\n",
       "    </tr>\n",
       "    <tr>\n",
       "      <th>3</th>\n",
       "      <td>fold 4</td>\n",
       "      <td>100.000000</td>\n",
       "      <td>86.956522</td>\n",
       "      <td>97.142857</td>\n",
       "      <td>98.550725</td>\n",
       "      <td>97.6</td>\n",
       "    </tr>\n",
       "    <tr>\n",
       "      <th>4</th>\n",
       "      <td>fold 5</td>\n",
       "      <td>100.000000</td>\n",
       "      <td>92.000000</td>\n",
       "      <td>98.039216</td>\n",
       "      <td>99.009901</td>\n",
       "      <td>98.4</td>\n",
       "    </tr>\n",
       "  </tbody>\n",
       "</table>\n",
       "</div>"
      ],
      "text/plain": [
       "    Folds  Sensitivity  Specificity   Precision    F1-Score  Accuracy\n",
       "0  fold 1   100.000000   100.000000  100.000000  100.000000     100.0\n",
       "1  fold 2    98.979592    88.888889   97.000000   97.979798      96.8\n",
       "2  fold 3    99.065421   100.000000  100.000000   99.530516      99.2\n",
       "3  fold 4   100.000000    86.956522   97.142857   98.550725      97.6\n",
       "4  fold 5   100.000000    92.000000   98.039216   99.009901      98.4"
      ]
     },
     "execution_count": 283,
     "metadata": {
      "tags": []
     },
     "output_type": "execute_result"
    }
   ],
   "source": [
    "performance"
   ]
  },
  {
   "cell_type": "code",
   "execution_count": 277,
   "metadata": {
    "colab": {
     "base_uri": "https://localhost:8080/",
     "height": 248
    },
    "id": "FXn6JezOeHkR",
    "outputId": "dc358f58-b48c-436f-ac96-b0c8f555e03c"
   },
   "outputs": [
    {
     "data": {
      "image/png": "[encoded data removed]",
      "text/plain": [
       "<Figure size 864x288 with 1 Axes>"
      ]
     },
     "metadata": {
      "needs_background": "light",
      "tags": []
     },
     "output_type": "display_data"
    }
   ],
   "source": [
    "fig, ax = plt.subplots(figsize=(12, 4))\n",
    "ax.axis('tight')\n",
    "ax.axis('off')\n",
    "the_table = ax.table(cellText=performance.values,\n",
    "                     colLabels=performance.columns, loc='center')\n",
    "\n",
    "pp = PdfPages(\"confusion_metrics.pdf\")\n",
    "pp.savefig(fig, bbox_inches='tight')\n",
    "pp.close()"
   ]
  }
 ],
 "metadata": {
  "accelerator": "TPU",
  "colab": {
   "collapsed_sections": [],
   "name": "lightgbm-binary class.ipynb",
   "provenance": []
  },
  "kernelspec": {
   "display_name": "Python 3 (ipykernel)",
   "language": "python",
   "name": "python3"
  },
  "language_info": {
   "codemirror_mode": {
    "name": "ipython",
    "version": 3
   },
   "file_extension": ".py",
   "mimetype": "text/x-python",
   "name": "python",
   "nbconvert_exporter": "python",
   "pygments_lexer": "ipython3",
   "version": "3.9.5"
  },
  "varInspector": {
   "cols": {
    "lenName": 16,
    "lenType": 16,
    "lenVar": 40
   },
   "kernels_config": {
    "python": {
     "delete_cmd_postfix": "",
     "delete_cmd_prefix": "del ",
     "library": "var_list.py",
     "varRefreshCmd": "print(var_dic_list())"
    },
    "r": {
     "delete_cmd_postfix": ") ",
     "delete_cmd_prefix": "rm(",
     "library": "var_list.r",
     "varRefreshCmd": "cat(var_dic_list()) "
    }
   },
   "types_to_exclude": [
    "module",
    "function",
    "builtin_function_or_method",
    "instance",
    "_Feature"
   ],
   "window_display": false
  }
 },
 "nbformat": 4,
 "nbformat_minor": 1
}
