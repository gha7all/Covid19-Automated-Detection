{
  "nbformat": 4,
  "nbformat_minor": 0,
  "metadata": {
    "accelerator": "GPU",
    "colab": {
      "name": "new-method.ipynb",
      "provenance": [],
      "collapsed_sections": []
    },
    "kernelspec": {
      "display_name": "Python 3",
      "name": "python3"
    },
    "language_info": {
      "name": "python"
    }
  },
  "cells": [
    {
      "cell_type": "code",
      "metadata": {
        "id": "D9Cg8dV04LyJ"
      },
      "source": [
        "import numpy as np \n",
        "import matplotlib.pyplot as plt\n",
        "import glob\n",
        "import cv2\n",
        "from keras.models import Model, Sequential\n",
        "from keras.layers import Dense, Flatten, Conv2D, MaxPooling2D\n",
        "from keras.layers.normalization import BatchNormalization\n",
        "import os\n",
        "import seaborn as sns\n",
        "from keras.applications.vgg16 import VGG16\n",
        "from keras.applications.xception import Xception\n",
        "from keras.applications.inception_v3 import InceptionV3\n",
        "from sklearn import preprocessing\n",
        "from sklearn.ensemble import RandomForestClassifier\n",
        "from google.colab import drive\n",
        "import xgboost as xgb\n",
        "from sklearn.metrics import confusion_matrix\n",
        "from sklearn import metrics"
      ],
      "execution_count": 1,
      "outputs": []
    },
    {
      "cell_type": "markdown",
      "metadata": {
        "id": "RWohFpu_vHe3"
      },
      "source": [
        "## loading the dataset"
      ]
    },
    {
      "cell_type": "code",
      "metadata": {
        "colab": {
          "base_uri": "https://localhost:8080/"
        },
        "id": "V1Zi7aKd4csG",
        "outputId": "46d50e7c-0825-41b8-b151-31b0a49d5c94"
      },
      "source": [
        "drive.mount(\"/content/gdrive\")"
      ],
      "execution_count": 2,
      "outputs": [
        {
          "output_type": "stream",
          "text": [
            "Mounted at /content/gdrive\n"
          ],
          "name": "stdout"
        }
      ]
    },
    {
      "cell_type": "code",
      "metadata": {
        "id": "hSqy8Bx4Dt2i"
      },
      "source": [
        "SIZE = 256\n",
        "train_images = []\n",
        "train_labels = [] "
      ],
      "execution_count": 2,
      "outputs": []
    },
    {
      "cell_type": "markdown",
      "metadata": {
        "id": "rna4sjbevS0t"
      },
      "source": [
        "### importing each image and set the current directory name as its label "
      ]
    },
    {
      "cell_type": "code",
      "metadata": {
        "colab": {
          "base_uri": "https://localhost:8080/"
        },
        "id": "eQ33LlY3D7Hf",
        "outputId": "4dbd3cb0-968c-4791-9827-97053e898461"
      },
      "source": [
        "ext = ['png', 'jpg', 'jpeg'] \n",
        "\n",
        "for directory_path in glob.glob(\"/content/gdrive/My Drive/seperated dataset/X-Ray Image DataSet/train/*\"):\n",
        "    splited = directory_path.split(\"/\")\n",
        "    label = splited[-1]\n",
        "    print(label)\n",
        "    for e in ext:\n",
        "      for img_path in glob.glob(os.path.join(directory_path, \"*.\" + e)):\n",
        "          #print(img_path)\n",
        "           img = cv2.imread(img_path, cv2.IMREAD_COLOR)       \n",
        "           img = cv2.resize(img, (SIZE, SIZE))\n",
        "           train_images.append(img)\n",
        "           train_labels.append(label)"
      ],
      "execution_count": 3,
      "outputs": [
        {
          "output_type": "stream",
          "text": [
            "Pneumonia\n",
            "No_findings\n",
            "Covid-19\n"
          ],
          "name": "stdout"
        }
      ]
    },
    {
      "cell_type": "code",
      "metadata": {
        "id": "hjPnqzQZKorZ"
      },
      "source": [
        "train_images = np.array(train_images)\n",
        "train_labels = np.array(train_labels)"
      ],
      "execution_count": 4,
      "outputs": []
    },
    {
      "cell_type": "code",
      "metadata": {
        "id": "if0mVrFWKwM6"
      },
      "source": [
        "test_images = []\n",
        "test_labels = [] "
      ],
      "execution_count": 5,
      "outputs": []
    },
    {
      "cell_type": "code",
      "metadata": {
        "colab": {
          "base_uri": "https://localhost:8080/"
        },
        "id": "sJlRpXf3Kso5",
        "outputId": "ada19727-6203-4b04-8566-65c1d4db1905"
      },
      "source": [
        "ext = ['png', 'jpg', 'jpeg'] \n",
        "\n",
        "for directory_path in glob.glob(\"/content/gdrive/My Drive/seperated dataset/X-Ray Image DataSet/test/*\"):\n",
        "    splited_test = directory_path.split(\"/\")\n",
        "    label_test = splited_test[-1]\n",
        "    print(label_test)\n",
        "    for e in ext:\n",
        "      for img_path in glob.glob(os.path.join(directory_path, \"*.\" + e)):\n",
        "          #print(img_path)\n",
        "          img = cv2.imread(img_path, cv2.IMREAD_COLOR)       \n",
        "          img = cv2.resize(img, (SIZE, SIZE))\n",
        "          test_images.append(img)\n",
        "          test_labels.append(label_test)"
      ],
      "execution_count": 6,
      "outputs": [
        {
          "output_type": "stream",
          "text": [
            "Pneumonia\n",
            "No_findings\n",
            "Covid-19\n"
          ],
          "name": "stdout"
        }
      ]
    },
    {
      "cell_type": "code",
      "metadata": {
        "id": "aqkmy9EhNAgD"
      },
      "source": [
        "test_images = np.array(test_images)\n",
        "test_labels = np.array(test_labels)"
      ],
      "execution_count": 7,
      "outputs": []
    },
    {
      "cell_type": "markdown",
      "metadata": {
        "id": "S8eOrhcUvoOa"
      },
      "source": [
        "## Pre-processing"
      ]
    },
    {
      "cell_type": "markdown",
      "metadata": {
        "id": "_zXozooIvur4"
      },
      "source": [
        "### label encoding"
      ]
    },
    {
      "cell_type": "code",
      "metadata": {
        "id": "vbtsRuiGNDg3"
      },
      "source": [
        "le = preprocessing.LabelEncoder()\n",
        "le.fit(test_labels)\n",
        "test_labels_encoded = le.transform(test_labels)\n",
        "le.fit(train_labels)\n",
        "train_labels_encoded = le.transform(train_labels)"
      ],
      "execution_count": 8,
      "outputs": []
    },
    {
      "cell_type": "markdown",
      "metadata": {
        "id": "kNX0T2NXv2Bm"
      },
      "source": [
        "### spliting the dataset into training set and test set\n",
        "we already split the dataset in our directory, but for the matter of clean coding, we're changing their name."
      ]
    },
    {
      "cell_type": "code",
      "metadata": {
        "id": "3NV1G-FADtDx"
      },
      "source": [
        "x_train, y_train, x_test, y_test = train_images, train_labels_encoded, test_images, test_labels_encoded"
      ],
      "execution_count": 9,
      "outputs": []
    },
    {
      "cell_type": "markdown",
      "metadata": {
        "id": "ZJTBFHFhwZBq"
      },
      "source": [
        "### scaling train set and test set"
      ]
    },
    {
      "cell_type": "code",
      "metadata": {
        "id": "wp7lpWbqweB8"
      },
      "source": [
        "x_train, x_test = x_train / 255.0, x_test / 255.0"
      ],
      "execution_count": 10,
      "outputs": []
    },
    {
      "cell_type": "markdown",
      "metadata": {
        "id": "0UFY9dw_whGX"
      },
      "source": [
        "## Feature Extraction"
      ]
    },
    {
      "cell_type": "markdown",
      "metadata": {
        "id": "CGvWYF0gxsYH"
      },
      "source": [
        "### VGG16"
      ]
    },
    {
      "cell_type": "code",
      "metadata": {
        "id": "gG5yuF5MIebj"
      },
      "source": [
        "features = []\n",
        "extracted_feature = []"
      ],
      "execution_count": 11,
      "outputs": []
    },
    {
      "cell_type": "code",
      "metadata": {
        "id": "pQrwbY8CNRJ6",
        "colab": {
          "base_uri": "https://localhost:8080/"
        },
        "outputId": "8a1d94b1-59bc-4e01-fdaa-7179c131be3e"
      },
      "source": [
        "VGG_model = VGG16(weights='imagenet', include_top=False, input_shape=(SIZE, SIZE, 3), pooling='avg')"
      ],
      "execution_count": 25,
      "outputs": [
        {
          "output_type": "stream",
          "text": [
            "Downloading data from https://storage.googleapis.com/tensorflow/keras-applications/vgg16/vgg16_weights_tf_dim_ordering_tf_kernels_notop.h5\n",
            "58892288/58889256 [==============================] - 0s 0us/step\n",
            "58900480/58889256 [==============================] - 0s 0us/step\n"
          ],
          "name": "stdout"
        }
      ]
    },
    {
      "cell_type": "code",
      "metadata": {
        "id": "aLJMOoZ6NYjO"
      },
      "source": [
        "extracted_feature = VGG_model.predict(x_train)"
      ],
      "execution_count": 26,
      "outputs": []
    },
    {
      "cell_type": "code",
      "metadata": {
        "colab": {
          "base_uri": "https://localhost:8080/"
        },
        "id": "ToRxk7OCywdz",
        "outputId": "44c697d4-2bc3-4ef9-8358-cf986cc9bea9"
      },
      "source": [
        "extracted_feature.shape"
      ],
      "execution_count": 27,
      "outputs": [
        {
          "output_type": "execute_result",
          "data": {
            "text/plain": [
              "(900, 512)"
            ]
          },
          "metadata": {
            "tags": []
          },
          "execution_count": 27
        }
      ]
    },
    {
      "cell_type": "code",
      "metadata": {
        "id": "VS8qjMHCPPux"
      },
      "source": [
        "features = extracted_feature.reshape(extracted_feature.shape[0], -1)"
      ],
      "execution_count": null,
      "outputs": []
    },
    {
      "cell_type": "markdown",
      "metadata": {
        "id": "-ECH9KnTxwPX"
      },
      "source": [
        "### Inception"
      ]
    },
    {
      "cell_type": "code",
      "metadata": {
        "id": "lxc4Ip4M25Tc"
      },
      "source": [
        "features = []\n",
        "extracted_feature = []"
      ],
      "execution_count": 14,
      "outputs": []
    },
    {
      "cell_type": "code",
      "metadata": {
        "id": "njHG2ByVxzdZ",
        "colab": {
          "base_uri": "https://localhost:8080/"
        },
        "outputId": "d85a331d-0d69-418f-a8a0-3ad1d38bc2ab"
      },
      "source": [
        "inception_model = InceptionV3(weights='imagenet', include_top=False, input_shape=(SIZE, SIZE, 3), pooling='avg')"
      ],
      "execution_count": 15,
      "outputs": [
        {
          "output_type": "stream",
          "text": [
            "Downloading data from https://storage.googleapis.com/tensorflow/keras-applications/inception_v3/inception_v3_weights_tf_dim_ordering_tf_kernels_notop.h5\n",
            "87916544/87910968 [==============================] - 1s 0us/step\n",
            "87924736/87910968 [==============================] - 1s 0us/step\n"
          ],
          "name": "stdout"
        }
      ]
    },
    {
      "cell_type": "code",
      "metadata": {
        "id": "kFVPkABCykjD"
      },
      "source": [
        "extracted_feature =  inception_model.predict(x_train)"
      ],
      "execution_count": 16,
      "outputs": []
    },
    {
      "cell_type": "code",
      "metadata": {
        "colab": {
          "base_uri": "https://localhost:8080/"
        },
        "id": "S26XuSm13DQs",
        "outputId": "ba7fd0bc-082e-4763-deb5-474bb91b8658"
      },
      "source": [
        "extracted_feature.shape"
      ],
      "execution_count": 17,
      "outputs": [
        {
          "output_type": "execute_result",
          "data": {
            "text/plain": [
              "(900, 2048)"
            ]
          },
          "metadata": {
            "tags": []
          },
          "execution_count": 17
        }
      ]
    },
    {
      "cell_type": "code",
      "metadata": {
        "id": "cMpsmBKUyvB5"
      },
      "source": [
        "features = extracted_feature.reshape(extracted_feature.shape[0], -1)"
      ],
      "execution_count": 18,
      "outputs": []
    },
    {
      "cell_type": "markdown",
      "metadata": {
        "id": "mbD_w9vxy2_T"
      },
      "source": [
        "## Xception"
      ]
    },
    {
      "cell_type": "code",
      "metadata": {
        "id": "MVzVZpBmy-jJ"
      },
      "source": [
        "features = []\n",
        "extracted_feature = []"
      ],
      "execution_count": 46,
      "outputs": []
    },
    {
      "cell_type": "code",
      "metadata": {
        "id": "lAZTIsouzAh2"
      },
      "source": [
        "xception_model = Xception(weights='imagenet', include_top=False, input_shape=(SIZE, SIZE, 3),)"
      ],
      "execution_count": 12,
      "outputs": []
    },
    {
      "cell_type": "code",
      "metadata": {
        "id": "BoILJ9bkzDih"
      },
      "source": [
        "extracted_feature =  xception_model.predict(x_train)"
      ],
      "execution_count": 13,
      "outputs": []
    },
    {
      "cell_type": "code",
      "metadata": {
        "id": "uVu9tFwgy5hk"
      },
      "source": [
        "features = extracted_feature.reshape(extracted_feature.shape[0], -1)"
      ],
      "execution_count": 14,
      "outputs": []
    },
    {
      "cell_type": "markdown",
      "metadata": {
        "id": "24SL7zT0wrXD"
      },
      "source": [
        "## traning the model\n",
        "### using extracted features to train the xgbclassifier"
      ]
    },
    {
      "cell_type": "code",
      "metadata": {
        "colab": {
          "base_uri": "https://localhost:8080/"
        },
        "id": "Uu5IJCyFPXvj",
        "outputId": "7c467aca-a9ad-436d-9838-6da3b8f78f0e"
      },
      "source": [
        "model = xgb.XGBClassifier(objective='multi:softmax')\n",
        "model.fit(features, y_train) #For sklearn no one hot encoding"
      ],
      "execution_count": 15,
      "outputs": [
        {
          "output_type": "execute_result",
          "data": {
            "text/plain": [
              "XGBClassifier(base_score=0.5, booster='gbtree', colsample_bylevel=1,\n",
              "              colsample_bynode=1, colsample_bytree=1, gamma=0,\n",
              "              learning_rate=0.1, max_delta_step=0, max_depth=3,\n",
              "              min_child_weight=1, missing=None, n_estimators=100, n_jobs=1,\n",
              "              nthread=None, objective='multi:softprob', random_state=0,\n",
              "              reg_alpha=0, reg_lambda=1, scale_pos_weight=1, seed=None,\n",
              "              silent=None, subsample=1, verbosity=1)"
            ]
          },
          "metadata": {
            "tags": []
          },
          "execution_count": 15
        }
      ]
    },
    {
      "cell_type": "markdown",
      "metadata": {
        "id": "7z9mkbkAw8eC"
      },
      "source": [
        "## predict test set"
      ]
    },
    {
      "cell_type": "code",
      "metadata": {
        "id": "djdhIU4BQ2ch"
      },
      "source": [
        "X_test_feature = xception_model.predict(x_test)\n",
        "X_test_features = X_test_feature.reshape(X_test_feature.shape[0], -1)"
      ],
      "execution_count": 16,
      "outputs": []
    },
    {
      "cell_type": "code",
      "metadata": {
        "id": "d9rtC4Mf_rU2"
      },
      "source": [
        "prediction = model.predict(X_test_features)\n",
        "#Inverse le transform to get original label back. \n",
        "prediction = le.inverse_transform(prediction)"
      ],
      "execution_count": 17,
      "outputs": []
    },
    {
      "cell_type": "markdown",
      "metadata": {
        "id": "_BZ-GIyFxApv"
      },
      "source": [
        "## accuracy score"
      ]
    },
    {
      "cell_type": "code",
      "metadata": {
        "id": "XXMd1TPqQ_2b",
        "colab": {
          "base_uri": "https://localhost:8080/"
        },
        "outputId": "87f4684a-d3f8-4e87-9f68-54cd9723d726"
      },
      "source": [
        "print (\"Accuracy = \", metrics.accuracy_score(test_labels, prediction))"
      ],
      "execution_count": 18,
      "outputs": [
        {
          "output_type": "stream",
          "text": [
            "Accuracy =  0.7333333333333333\n"
          ],
          "name": "stdout"
        }
      ]
    },
    {
      "cell_type": "markdown",
      "metadata": {
        "id": "P8FxtQtHxEYZ"
      },
      "source": [
        "## confusion matrix"
      ]
    },
    {
      "cell_type": "code",
      "metadata": {
        "id": "NbzmqyHIROzM"
      },
      "source": [
        "cm = confusion_matrix(test_labels, prediction)"
      ],
      "execution_count": null,
      "outputs": []
    },
    {
      "cell_type": "code",
      "metadata": {
        "id": "u34NOq4xRR5e"
      },
      "source": [
        "sns.heatmap(cm, annot=True)\n",
        "plt.show()"
      ],
      "execution_count": null,
      "outputs": []
    },
    {
      "cell_type": "code",
      "metadata": {
        "id": "shaped-cleaning"
      },
      "source": [
        "n=np.random.randint(0, x_test.shape[0])\n",
        "img = x_test[n]\n",
        "plt.imshow(img)\n",
        "input_img = np.expand_dims(img, axis=0) #Expand dims so the input is (num images, x, y, c)\n",
        "input_img_feature=VGG_model.predict(input_img)\n",
        "input_img_features=input_img_feature.reshape(input_img_feature.shape[0], -1)\n",
        "prediction = model.predict(input_img_features)[0] \n",
        "prediction = le.inverse_transform([prediction])  #Reverse the label encoder to original name\n",
        "print(\"The prediction for this image is: \", prediction)\n",
        "print(\"The actual label for this image is: \", test_labels[n])"
      ],
      "execution_count": null,
      "outputs": []
    },
    {
      "cell_type": "markdown",
      "metadata": {
        "id": "dzix2UrzxJvQ"
      },
      "source": [
        "## random forest"
      ]
    },
    {
      "cell_type": "code",
      "metadata": {
        "id": "hGFFe3H-7PK5",
        "colab": {
          "base_uri": "https://localhost:8080/"
        },
        "outputId": "99e7fd46-f510-4810-fcc9-985b030f52c3"
      },
      "source": [
        "rf_model = RandomForestClassifier(n_estimators=100, random_state=42)\n",
        "rf_model.fit(features, y_train)"
      ],
      "execution_count": 38,
      "outputs": [
        {
          "output_type": "execute_result",
          "data": {
            "text/plain": [
              "RandomForestClassifier(bootstrap=True, ccp_alpha=0.0, class_weight=None,\n",
              "                       criterion='gini', max_depth=None, max_features='auto',\n",
              "                       max_leaf_nodes=None, max_samples=None,\n",
              "                       min_impurity_decrease=0.0, min_impurity_split=None,\n",
              "                       min_samples_leaf=1, min_samples_split=2,\n",
              "                       min_weight_fraction_leaf=0.0, n_estimators=100,\n",
              "                       n_jobs=None, oob_score=False, random_state=42, verbose=0,\n",
              "                       warm_start=False)"
            ]
          },
          "metadata": {
            "tags": []
          },
          "execution_count": 38
        }
      ]
    },
    {
      "cell_type": "code",
      "metadata": {
        "id": "7ruBvASPRWKz"
      },
      "source": [
        "prediction = rf_model.predict(X_test_features)\n",
        "#Inverse le transform to get original label back. \n",
        "prediction = le.inverse_transform(prediction)"
      ],
      "execution_count": 39,
      "outputs": []
    },
    {
      "cell_type": "code",
      "metadata": {
        "id": "kohGX5h47vWn",
        "colab": {
          "base_uri": "https://localhost:8080/"
        },
        "outputId": "58580eb5-6efb-4c27-b902-2f6de5d83e18"
      },
      "source": [
        "print (\"Accuracy = \", metrics.accuracy_score(test_labels, prediction))"
      ],
      "execution_count": 40,
      "outputs": [
        {
          "output_type": "stream",
          "text": [
            "Accuracy =  0.6622222222222223\n"
          ],
          "name": "stdout"
        }
      ]
    },
    {
      "cell_type": "code",
      "metadata": {
        "id": "MK-GR39gqPH4"
      },
      "source": [
        ""
      ],
      "execution_count": null,
      "outputs": []
    }
  ]
}