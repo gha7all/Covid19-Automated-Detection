{
  "nbformat": 4,
  "nbformat_minor": 0,
  "metadata": {
    "accelerator": "TPU",
    "colab": {
      "name": "new-method.ipynb",
      "provenance": [],
      "collapsed_sections": []
    },
    "kernelspec": {
      "display_name": "Python 3",
      "name": "python3"
    },
    "language_info": {
      "name": "python"
    }
  },
  "cells": [
    {
      "cell_type": "code",
      "metadata": {
        "colab": {
          "base_uri": "https://localhost:8080/"
        },
        "id": "_fVpaBgpL8e9",
        "outputId": "8e71bee8-bf9e-4e6b-96b1-5356f2a9ad83"
      },
      "source": [
        "!pip install bayesian-optimization"
      ],
      "execution_count": 1,
      "outputs": [
        {
          "output_type": "stream",
          "text": [
            "Collecting bayesian-optimization\n",
            "  Downloading bayesian-optimization-1.2.0.tar.gz (14 kB)\n",
            "Requirement already satisfied: numpy>=1.9.0 in /usr/local/lib/python3.7/dist-packages (from bayesian-optimization) (1.19.5)\n",
            "Requirement already satisfied: scipy>=0.14.0 in /usr/local/lib/python3.7/dist-packages (from bayesian-optimization) (1.4.1)\n",
            "Requirement already satisfied: scikit-learn>=0.18.0 in /usr/local/lib/python3.7/dist-packages (from bayesian-optimization) (0.22.2.post1)\n",
            "Requirement already satisfied: joblib>=0.11 in /usr/local/lib/python3.7/dist-packages (from scikit-learn>=0.18.0->bayesian-optimization) (1.0.1)\n",
            "Building wheels for collected packages: bayesian-optimization\n",
            "  Building wheel for bayesian-optimization (setup.py) ... \u001b[?25l\u001b[?25hdone\n",
            "  Created wheel for bayesian-optimization: filename=bayesian_optimization-1.2.0-py3-none-any.whl size=11685 sha256=e8bb4285df37be8141f2b96eda9f02ed991c2c88f04735ea4d114170145b1962\n",
            "  Stored in directory: /root/.cache/pip/wheels/fd/9b/71/f127d694e02eb40bcf18c7ae9613b88a6be4470f57a8528c5b\n",
            "Successfully built bayesian-optimization\n",
            "Installing collected packages: bayesian-optimization\n",
            "Successfully installed bayesian-optimization-1.2.0\n"
          ],
          "name": "stdout"
        }
      ]
    },
    {
      "cell_type": "code",
      "metadata": {
        "colab": {
          "base_uri": "https://localhost:8080/"
        },
        "id": "z8cRJUnCk2Lj",
        "outputId": "1277f844-fec4-4a21-9849-21eb3c9518f1"
      },
      "source": [
        "!pip install catboost"
      ],
      "execution_count": 84,
      "outputs": [
        {
          "output_type": "stream",
          "text": [
            "Collecting catboost\n",
            "  Downloading catboost-0.26-cp37-none-manylinux1_x86_64.whl (69.2 MB)\n",
            "\u001b[K     |████████████████████████████████| 69.2 MB 8.6 kB/s \n",
            "\u001b[?25hRequirement already satisfied: pandas>=0.24.0 in /usr/local/lib/python3.7/dist-packages (from catboost) (1.1.5)\n",
            "Requirement already satisfied: numpy>=1.16.0 in /usr/local/lib/python3.7/dist-packages (from catboost) (1.19.5)\n",
            "Requirement already satisfied: graphviz in /usr/local/lib/python3.7/dist-packages (from catboost) (0.10.1)\n",
            "Requirement already satisfied: scipy in /usr/local/lib/python3.7/dist-packages (from catboost) (1.4.1)\n",
            "Requirement already satisfied: six in /usr/local/lib/python3.7/dist-packages (from catboost) (1.15.0)\n",
            "Requirement already satisfied: plotly in /usr/local/lib/python3.7/dist-packages (from catboost) (4.4.1)\n",
            "Requirement already satisfied: matplotlib in /usr/local/lib/python3.7/dist-packages (from catboost) (3.2.2)\n",
            "Requirement already satisfied: python-dateutil>=2.7.3 in /usr/local/lib/python3.7/dist-packages (from pandas>=0.24.0->catboost) (2.8.1)\n",
            "Requirement already satisfied: pytz>=2017.2 in /usr/local/lib/python3.7/dist-packages (from pandas>=0.24.0->catboost) (2018.9)\n",
            "Requirement already satisfied: kiwisolver>=1.0.1 in /usr/local/lib/python3.7/dist-packages (from matplotlib->catboost) (1.3.1)\n",
            "Requirement already satisfied: cycler>=0.10 in /usr/local/lib/python3.7/dist-packages (from matplotlib->catboost) (0.10.0)\n",
            "Requirement already satisfied: pyparsing!=2.0.4,!=2.1.2,!=2.1.6,>=2.0.1 in /usr/local/lib/python3.7/dist-packages (from matplotlib->catboost) (2.4.7)\n",
            "Requirement already satisfied: retrying>=1.3.3 in /usr/local/lib/python3.7/dist-packages (from plotly->catboost) (1.3.3)\n",
            "Installing collected packages: catboost\n",
            "Successfully installed catboost-0.26\n"
          ],
          "name": "stdout"
        }
      ]
    },
    {
      "cell_type": "code",
      "metadata": {
        "id": "D9Cg8dV04LyJ"
      },
      "source": [
        "import numpy as np \n",
        "import matplotlib.pyplot as plt\n",
        "import glob\n",
        "import cv2\n",
        "from sklearn.model_selection import train_test_split\n",
        "from keras.models import Model, Sequential\n",
        "from keras.layers import Dense, Flatten, Conv2D, MaxPooling2D\n",
        "from keras.layers.normalization import BatchNormalization\n",
        "import os\n",
        "import seaborn as sns\n",
        "from keras.applications.vgg16 import VGG16\n",
        "from keras.applications.densenet import DenseNet169, DenseNet121\n",
        "from keras.applications.xception import Xception\n",
        "from keras.applications.mobilenet import MobileNet\n",
        "from keras.applications.inception_v3 import InceptionV3\n",
        "from sklearn import preprocessing\n",
        "from sklearn.ensemble import RandomForestClassifier\n",
        "from google.colab import drive\n",
        "import xgboost as xgb\n",
        "from sklearn.metrics import confusion_matrix\n",
        "from sklearn import metrics\n",
        "from sklearn.metrics import classification_report\n",
        "from bayes_opt import BayesianOptimization\n",
        "from sklearn.metrics import mean_squared_error\n",
        "from catboost import CatBoostClassifier"
      ],
      "execution_count": 85,
      "outputs": []
    },
    {
      "cell_type": "markdown",
      "metadata": {
        "id": "RWohFpu_vHe3"
      },
      "source": [
        "## loading the dataset"
      ]
    },
    {
      "cell_type": "code",
      "metadata": {
        "id": "s1iw5zcLk1Bw"
      },
      "source": [
        ""
      ],
      "execution_count": null,
      "outputs": []
    },
    {
      "cell_type": "code",
      "metadata": {
        "colab": {
          "base_uri": "https://localhost:8080/"
        },
        "id": "V1Zi7aKd4csG",
        "outputId": "e0af78b4-0713-4589-886f-105084f83913"
      },
      "source": [
        "drive.mount(\"/content/gdrive\")"
      ],
      "execution_count": 3,
      "outputs": [
        {
          "output_type": "stream",
          "text": [
            "Mounted at /content/gdrive\n"
          ],
          "name": "stdout"
        }
      ]
    },
    {
      "cell_type": "code",
      "metadata": {
        "id": "hSqy8Bx4Dt2i"
      },
      "source": [
        "SIZE = 224\n",
        "images = []\n",
        "images_labels = [] "
      ],
      "execution_count": 4,
      "outputs": []
    },
    {
      "cell_type": "markdown",
      "metadata": {
        "id": "rna4sjbevS0t"
      },
      "source": [
        "### importing each image and set the current directory name as its label "
      ]
    },
    {
      "cell_type": "code",
      "metadata": {
        "colab": {
          "base_uri": "https://localhost:8080/"
        },
        "id": "eQ33LlY3D7Hf",
        "outputId": "e7194ecc-5b5c-4c17-ab0d-e5c8fed260fd"
      },
      "source": [
        "ext = ['png', 'jpg', 'jpeg'] \n",
        "\n",
        "for directory_path in glob.glob(\"/content/gdrive/My Drive/seperated dataset/X-Ray Image DataSet/images/*\"):\n",
        "    splited = directory_path.split(\"/\")\n",
        "    label = splited[-1]\n",
        "    print(label)\n",
        "    for e in ext:\n",
        "      for img_path in glob.glob(os.path.join(directory_path, \"*.\" + e)):\n",
        "          #print(img_path)\n",
        "           img = cv2.imread(img_path, cv2.IMREAD_COLOR)       \n",
        "           img = cv2.resize(img, (SIZE, SIZE))\n",
        "           images.append(img)\n",
        "           images_labels.append(label)"
      ],
      "execution_count": 5,
      "outputs": [
        {
          "output_type": "stream",
          "text": [
            "Pneumonia\n",
            "No_findings\n",
            "Covid-19\n"
          ],
          "name": "stdout"
        }
      ]
    },
    {
      "cell_type": "code",
      "metadata": {
        "id": "hjPnqzQZKorZ"
      },
      "source": [
        "images = np.array(images)\n",
        "images_labels = np.array(images_labels)"
      ],
      "execution_count": 6,
      "outputs": []
    },
    {
      "cell_type": "code",
      "metadata": {
        "colab": {
          "base_uri": "https://localhost:8080/"
        },
        "id": "bkP_UNU5Ubn8",
        "outputId": "d8d6e050-cb79-4b0c-d692-e480bfa732ae"
      },
      "source": [
        "images.shape"
      ],
      "execution_count": 7,
      "outputs": [
        {
          "output_type": "execute_result",
          "data": {
            "text/plain": [
              "(1125, 224, 224, 3)"
            ]
          },
          "metadata": {
            "tags": []
          },
          "execution_count": 7
        }
      ]
    },
    {
      "cell_type": "markdown",
      "metadata": {
        "id": "S8eOrhcUvoOa"
      },
      "source": [
        "## Pre-processing"
      ]
    },
    {
      "cell_type": "markdown",
      "metadata": {
        "id": "_zXozooIvur4"
      },
      "source": [
        "### label encoding"
      ]
    },
    {
      "cell_type": "code",
      "metadata": {
        "id": "vbtsRuiGNDg3"
      },
      "source": [
        "le = preprocessing.LabelEncoder()\n",
        "le.fit(images_labels)\n",
        "labels_encoded = le.transform(images_labels)"
      ],
      "execution_count": 8,
      "outputs": []
    },
    {
      "cell_type": "markdown",
      "metadata": {
        "id": "kNX0T2NXv2Bm"
      },
      "source": [
        "### spliting the dataset into training set and test set\n",
        "we already split the dataset in our directory, but for the matter of clean coding, we're changing their name."
      ]
    },
    {
      "cell_type": "code",
      "metadata": {
        "id": "3NV1G-FADtDx"
      },
      "source": [
        "x_train, x_test, y_train, y_test = train_test_split(images, labels_encoded, test_size=0.2, random_state=42)"
      ],
      "execution_count": 9,
      "outputs": []
    },
    {
      "cell_type": "markdown",
      "metadata": {
        "id": "ZJTBFHFhwZBq"
      },
      "source": [
        "### scaling train set and test set"
      ]
    },
    {
      "cell_type": "code",
      "metadata": {
        "id": "wp7lpWbqweB8"
      },
      "source": [
        "x_train, x_test = x_train / 255.0, x_test / 255.0"
      ],
      "execution_count": 10,
      "outputs": []
    },
    {
      "cell_type": "markdown",
      "metadata": {
        "id": "0UFY9dw_whGX"
      },
      "source": [
        "## Feature Extraction"
      ]
    },
    {
      "cell_type": "markdown",
      "metadata": {
        "id": "LoauJFgmLwP2"
      },
      "source": [
        "### DenseNet169"
      ]
    },
    {
      "cell_type": "code",
      "metadata": {
        "id": "FQz-wPnd9jk7",
        "colab": {
          "base_uri": "https://localhost:8080/"
        },
        "outputId": "0f0bea8a-fd1a-43f2-a521-3b7d8531d727"
      },
      "source": [
        "dense_model = DenseNet169(include_top=False, input_shape=(SIZE, SIZE, 3), pooling='avg')"
      ],
      "execution_count": 11,
      "outputs": [
        {
          "output_type": "stream",
          "text": [
            "Downloading data from https://storage.googleapis.com/tensorflow/keras-applications/densenet/densenet169_weights_tf_dim_ordering_tf_kernels_notop.h5\n",
            "51879936/51877672 [==============================] - 1s 0us/step\n",
            "51888128/51877672 [==============================] - 1s 0us/step\n"
          ],
          "name": "stdout"
        }
      ]
    },
    {
      "cell_type": "code",
      "metadata": {
        "id": "96eBZ2lA_gnQ"
      },
      "source": [
        "dense_features = dense_model.predict(x_train)"
      ],
      "execution_count": 12,
      "outputs": []
    },
    {
      "cell_type": "code",
      "metadata": {
        "id": "rFcOMynPAjOW"
      },
      "source": [
        "features = dense_features.reshape(dense_features.shape[0], -1)"
      ],
      "execution_count": 13,
      "outputs": []
    },
    {
      "cell_type": "code",
      "metadata": {
        "colab": {
          "base_uri": "https://localhost:8080/"
        },
        "id": "t67858zGYbb7",
        "outputId": "98ab7423-ad67-4bc3-bd8a-ebbb71f7dd70"
      },
      "source": [
        "features.shape"
      ],
      "execution_count": 14,
      "outputs": [
        {
          "output_type": "execute_result",
          "data": {
            "text/plain": [
              "(900, 1664)"
            ]
          },
          "metadata": {
            "tags": []
          },
          "execution_count": 14
        }
      ]
    },
    {
      "cell_type": "markdown",
      "metadata": {
        "id": "b1RRtWgDGBYJ"
      },
      "source": [
        "### Mobilenet"
      ]
    },
    {
      "cell_type": "code",
      "metadata": {
        "id": "mbN6xe-8JwsK"
      },
      "source": [
        "model = []"
      ],
      "execution_count": null,
      "outputs": []
    },
    {
      "cell_type": "code",
      "metadata": {
        "id": "zYMmIXvxGEBi",
        "colab": {
          "base_uri": "https://localhost:8080/"
        },
        "outputId": "3a59b31b-50bd-4f2e-9f27-9c906f936b38"
      },
      "source": [
        "model_mobile = MobileNet(weights='imagenet',include_top=False, input_shape=(SIZE, SIZE, 3), pooling='avg')"
      ],
      "execution_count": 15,
      "outputs": [
        {
          "output_type": "stream",
          "text": [
            "Downloading data from https://storage.googleapis.com/tensorflow/keras-applications/mobilenet/mobilenet_1_0_224_tf_no_top.h5\n",
            "17227776/17225924 [==============================] - 0s 0us/step\n",
            "17235968/17225924 [==============================] - 0s 0us/step\n"
          ],
          "name": "stdout"
        }
      ]
    },
    {
      "cell_type": "code",
      "metadata": {
        "id": "A6BgS6aBHNdl"
      },
      "source": [
        "mobile_features = model_mobile.predict(x_train)"
      ],
      "execution_count": 16,
      "outputs": []
    },
    {
      "cell_type": "code",
      "metadata": {
        "id": "WawWVttpHP2e"
      },
      "source": [
        "features_2 = mobile_features.reshape(mobile_features.shape[0], -1)"
      ],
      "execution_count": 17,
      "outputs": []
    },
    {
      "cell_type": "code",
      "metadata": {
        "colab": {
          "base_uri": "https://localhost:8080/"
        },
        "id": "bCy6ZaDsYMC6",
        "outputId": "75259661-60fa-4fab-9787-c892b81107ca"
      },
      "source": [
        "features_2.shape"
      ],
      "execution_count": 18,
      "outputs": [
        {
          "output_type": "execute_result",
          "data": {
            "text/plain": [
              "(900, 1024)"
            ]
          },
          "metadata": {
            "tags": []
          },
          "execution_count": 18
        }
      ]
    },
    {
      "cell_type": "markdown",
      "metadata": {
        "id": "XzjG7N85ZWsp"
      },
      "source": [
        "## Feature Combination"
      ]
    },
    {
      "cell_type": "code",
      "metadata": {
        "id": "iKdCXNr9_fa1"
      },
      "source": [
        "combined_features = np.hstack((dense_features, mobile_features))"
      ],
      "execution_count": 20,
      "outputs": []
    },
    {
      "cell_type": "markdown",
      "metadata": {
        "id": "24SL7zT0wrXD"
      },
      "source": [
        "## parameters optimization\n",
        "to get the best out of our classifier, we need to find the best parameters of xgbclassifier"
      ]
    },
    {
      "cell_type": "code",
      "metadata": {
        "id": "Uu5IJCyFPXvj",
        "colab": {
          "base_uri": "https://localhost:8080/"
        },
        "outputId": "9ae95bf0-cf24-44ad-b1ea-276132f9c886"
      },
      "source": [
        "classifier = xgb.XGBClassifier()\n",
        "classifier.fit(combined_features, y_train) #For sklearn no one hot encoding"
      ],
      "execution_count": 21,
      "outputs": [
        {
          "output_type": "execute_result",
          "data": {
            "text/plain": [
              "XGBClassifier(base_score=0.5, booster='gbtree', colsample_bylevel=1,\n",
              "              colsample_bynode=1, colsample_bytree=1, gamma=0,\n",
              "              learning_rate=0.1, max_delta_step=0, max_depth=3,\n",
              "              min_child_weight=1, missing=None, n_estimators=100, n_jobs=1,\n",
              "              nthread=None, objective='multi:softprob', random_state=0,\n",
              "              reg_alpha=0, reg_lambda=1, scale_pos_weight=1, seed=None,\n",
              "              silent=None, subsample=1, verbosity=1)"
            ]
          },
          "metadata": {
            "tags": []
          },
          "execution_count": 21
        }
      ]
    },
    {
      "cell_type": "code",
      "metadata": {
        "id": "dw0Kd41zOd3k"
      },
      "source": [
        "train_prediction = classifier.predict(combined_features)"
      ],
      "execution_count": 22,
      "outputs": []
    },
    {
      "cell_type": "code",
      "metadata": {
        "id": "xGMuFb1dQcKU"
      },
      "source": [
        "dtrain = xgb.DMatrix(combined_features, label=y_train)"
      ],
      "execution_count": 23,
      "outputs": []
    },
    {
      "cell_type": "code",
      "metadata": {
        "id": "14Z_sYFPNi4U",
        "colab": {
          "base_uri": "https://localhost:8080/"
        },
        "outputId": "b06d000f-d0fb-4821-8f92-1aa0d0bc1005"
      },
      "source": [
        "print(classification_report(train_prediction, y_train))"
      ],
      "execution_count": 26,
      "outputs": [
        {
          "output_type": "stream",
          "text": [
            "              precision    recall  f1-score   support\n",
            "\n",
            "           0       1.00      1.00      1.00        99\n",
            "           1       1.00      1.00      1.00       410\n",
            "           2       1.00      1.00      1.00       391\n",
            "\n",
            "    accuracy                           1.00       900\n",
            "   macro avg       1.00      1.00      1.00       900\n",
            "weighted avg       1.00      1.00      1.00       900\n",
            "\n"
          ],
          "name": "stdout"
        }
      ]
    },
    {
      "cell_type": "code",
      "metadata": {
        "id": "k6BWw4kSO7Po"
      },
      "source": [
        "cm = confusion_matrix(train_prediction, y_train)"
      ],
      "execution_count": 24,
      "outputs": []
    },
    {
      "cell_type": "code",
      "metadata": {
        "colab": {
          "base_uri": "https://localhost:8080/"
        },
        "id": "H9D4naadPH8A",
        "outputId": "4ee1a0c5-e45b-43d9-eaee-4d74e5d11286"
      },
      "source": [
        "accuracy = cm.diagonal().sum()/cm.sum()\n",
        "print(accuracy)"
      ],
      "execution_count": 25,
      "outputs": [
        {
          "output_type": "stream",
          "text": [
            "1.0\n"
          ],
          "name": "stdout"
        }
      ]
    },
    {
      "cell_type": "code",
      "metadata": {
        "id": "x70mzeKOQsCX"
      },
      "source": [
        "def bo_tune_xgb(max_depth, gamma, n_estimators ,learning_rate):\n",
        "  params = {'max_depth': int(max_depth),\n",
        "            'gamma': gamma,\n",
        "            'n_estimators': int(n_estimators),\n",
        "            'learning_rate':learning_rate,\n",
        "            'subsample': 0.8,\n",
        "            'eta': 0.1,\n",
        "            'eval_metric': 'rmse',\n",
        "            }\n",
        "  cv_result = xgb.cv(params, dtrain, num_boost_round=70, nfold=5)\n",
        "  return -1.0 * cv_result['test-rmse-mean'].iloc[-1]"
      ],
      "execution_count": 73,
      "outputs": []
    },
    {
      "cell_type": "code",
      "metadata": {
        "id": "-EpLt1J6Rw8h"
      },
      "source": [
        "xgb_bo = BayesianOptimization(bo_tune_xgb, {'max_depth': (3, 10),\n",
        "                                             'gamma': (0, 1),\n",
        "                                             'learning_rate':(0,1),\n",
        "                                             'n_estimators':(100,150)\n",
        "                                            })"
      ],
      "execution_count": 74,
      "outputs": []
    },
    {
      "cell_type": "code",
      "metadata": {
        "id": "ZOgTUaIrS0cu",
        "colab": {
          "base_uri": "https://localhost:8080/"
        },
        "outputId": "e9d2794c-89f8-4efa-f1d3-eff6c50c0e07"
      },
      "source": [
        "xgb_bo.maximize(n_iter=2, init_points=8, acq='ei')"
      ],
      "execution_count": 75,
      "outputs": [
        {
          "output_type": "stream",
          "text": [
            "|   iter    |  target   |   gamma   | learni... | max_depth | n_esti... |\n",
            "-------------------------------------------------------------------------\n",
            "| \u001b[0m 1       \u001b[0m | \u001b[0m-0.4657  \u001b[0m | \u001b[0m 0.05113 \u001b[0m | \u001b[0m 0.1383  \u001b[0m | \u001b[0m 4.97    \u001b[0m | \u001b[0m 123.6   \u001b[0m |\n",
            "| \u001b[0m 2       \u001b[0m | \u001b[0m-0.4691  \u001b[0m | \u001b[0m 0.5944  \u001b[0m | \u001b[0m 0.09867 \u001b[0m | \u001b[0m 6.53    \u001b[0m | \u001b[0m 143.1   \u001b[0m |\n",
            "| \u001b[0m 3       \u001b[0m | \u001b[0m-0.5626  \u001b[0m | \u001b[0m 0.4564  \u001b[0m | \u001b[0m 0.5881  \u001b[0m | \u001b[0m 3.485   \u001b[0m | \u001b[0m 113.6   \u001b[0m |\n",
            "| \u001b[0m 4       \u001b[0m | \u001b[0m-0.4887  \u001b[0m | \u001b[0m 0.03935 \u001b[0m | \u001b[0m 0.2692  \u001b[0m | \u001b[0m 4.192   \u001b[0m | \u001b[0m 121.6   \u001b[0m |\n",
            "| \u001b[0m 5       \u001b[0m | \u001b[0m-0.4859  \u001b[0m | \u001b[0m 0.8666  \u001b[0m | \u001b[0m 0.2499  \u001b[0m | \u001b[0m 4.608   \u001b[0m | \u001b[0m 117.5   \u001b[0m |\n",
            "| \u001b[0m 6       \u001b[0m | \u001b[0m-0.5825  \u001b[0m | \u001b[0m 0.2493  \u001b[0m | \u001b[0m 0.6346  \u001b[0m | \u001b[0m 3.183   \u001b[0m | \u001b[0m 113.0   \u001b[0m |\n",
            "| \u001b[0m 7       \u001b[0m | \u001b[0m-0.5622  \u001b[0m | \u001b[0m 0.6027  \u001b[0m | \u001b[0m 0.582   \u001b[0m | \u001b[0m 7.621   \u001b[0m | \u001b[0m 124.6   \u001b[0m |\n",
            "| \u001b[0m 8       \u001b[0m | \u001b[0m-0.7106  \u001b[0m | \u001b[0m 0.06749 \u001b[0m | \u001b[0m 0.9469  \u001b[0m | \u001b[0m 5.671   \u001b[0m | \u001b[0m 121.3   \u001b[0m |\n",
            "| \u001b[0m 9       \u001b[0m | \u001b[0m-1.057   \u001b[0m | \u001b[0m 1.0     \u001b[0m | \u001b[0m 0.0     \u001b[0m | \u001b[0m 3.0     \u001b[0m | \u001b[0m 131.4   \u001b[0m |\n",
            "| \u001b[0m 10      \u001b[0m | \u001b[0m-1.057   \u001b[0m | \u001b[0m 0.0     \u001b[0m | \u001b[0m 0.0     \u001b[0m | \u001b[0m 10.0    \u001b[0m | \u001b[0m 150.0   \u001b[0m |\n",
            "=========================================================================\n"
          ],
          "name": "stdout"
        }
      ]
    },
    {
      "cell_type": "code",
      "metadata": {
        "colab": {
          "base_uri": "https://localhost:8080/"
        },
        "id": "vS2YFAyKVSZZ",
        "outputId": "2bd9ef70-be32-46ef-95c7-a6ada7aaf509"
      },
      "source": [
        "params = xgb_bo.max['params']\n",
        "print(params)"
      ],
      "execution_count": 76,
      "outputs": [
        {
          "output_type": "stream",
          "text": [
            "{'gamma': 0.05113333243656282, 'learning_rate': 0.13829759883059534, 'max_depth': 4.970455351622159, 'n_estimators': 123.63582130972148}\n"
          ],
          "name": "stdout"
        }
      ]
    },
    {
      "cell_type": "code",
      "metadata": {
        "id": "lJLWabC9V2B2"
      },
      "source": [
        "params['max_depth']= int(params['max_depth'])\n",
        "params['n_estimators']= int(params['n_estimators'])"
      ],
      "execution_count": 77,
      "outputs": []
    },
    {
      "cell_type": "code",
      "metadata": {
        "id": "soG27Ibzgjzk"
      },
      "source": [
        "  params = {'max_depth': 6,\n",
        "            'gamma': 0.45,\n",
        "            'n_estimators': 150,\n",
        "            'learning_rate':0.6,\n",
        "            'subsample': 0.8,\n",
        "            'eta': 0.1,\n",
        "            'eval_metric': 'rmse',\n",
        "            'objective': 'multi softmax'}"
      ],
      "execution_count": 64,
      "outputs": []
    },
    {
      "cell_type": "code",
      "metadata": {
        "id": "zQMfEGOK1I3U",
        "colab": {
          "base_uri": "https://localhost:8080/"
        },
        "outputId": "d7806af0-1b86-4655-fbfa-ec842ec24e44"
      },
      "source": [
        "print(params)"
      ],
      "execution_count": 66,
      "outputs": [
        {
          "output_type": "stream",
          "text": [
            "{'max_depth': 6, 'gamma': 0.45, 'n_estimators': 150, 'learning_rate': 0.6, 'subsample': 0.8, 'eta': 0.1, 'eval_metric': 'rmse', 'objective': 'multi softmax'}\n"
          ],
          "name": "stdout"
        }
      ]
    },
    {
      "cell_type": "markdown",
      "metadata": {
        "id": "bZo61YUDRwk0"
      },
      "source": [
        "## Training the model with optimized parameters"
      ]
    },
    {
      "cell_type": "code",
      "metadata": {
        "colab": {
          "base_uri": "https://localhost:8080/"
        },
        "id": "9jVkizo4Pbne",
        "outputId": "347da317-51f5-4e81-be28-6842898ec2fb"
      },
      "source": [
        "classifier = xgb.XGBClassifier(**params)\n",
        "classifier.fit(combined_features, y_train) "
      ],
      "execution_count": 78,
      "outputs": [
        {
          "output_type": "execute_result",
          "data": {
            "text/plain": [
              "XGBClassifier(base_score=0.5, booster='gbtree', colsample_bylevel=1,\n",
              "              colsample_bynode=1, colsample_bytree=1, gamma=0.05113333243656282,\n",
              "              learning_rate=0.13829759883059534, max_delta_step=0, max_depth=4,\n",
              "              min_child_weight=1, missing=None, n_estimators=123, n_jobs=1,\n",
              "              nthread=None, objective='multi:softprob', random_state=0,\n",
              "              reg_alpha=0, reg_lambda=1, scale_pos_weight=1, seed=None,\n",
              "              silent=None, subsample=1, verbosity=1)"
            ]
          },
          "metadata": {
            "tags": []
          },
          "execution_count": 78
        }
      ]
    },
    {
      "cell_type": "code",
      "metadata": {
        "colab": {
          "base_uri": "https://localhost:8080/"
        },
        "id": "XRcH7MdhlRl4",
        "outputId": "4eb1bb08-d78a-4075-9279-b6117ed5735d"
      },
      "source": [
        "cat_classifier = CatBoostClassifier()\n",
        "cat_classifier.fit(combined_features, y_train)"
      ],
      "execution_count": 87,
      "outputs": [
        {
          "output_type": "stream",
          "text": [
            "Learning rate set to 0.078703\n",
            "0:\tlearn: 1.0587118\ttotal: 2.65s\tremaining: 44m 9s\n",
            "1:\tlearn: 1.0209795\ttotal: 4.66s\tremaining: 38m 43s\n",
            "2:\tlearn: 0.9885938\ttotal: 7.1s\tremaining: 39m 18s\n",
            "3:\tlearn: 0.9597619\ttotal: 9.9s\tremaining: 41m 6s\n",
            "4:\tlearn: 0.9219600\ttotal: 11.7s\tremaining: 38m 43s\n",
            "5:\tlearn: 0.8915586\ttotal: 13.4s\tremaining: 37m 7s\n",
            "6:\tlearn: 0.8666072\ttotal: 15.2s\tremaining: 35m 57s\n",
            "7:\tlearn: 0.8424368\ttotal: 17s\tremaining: 35m 4s\n",
            "8:\tlearn: 0.8206212\ttotal: 18.7s\tremaining: 34m 24s\n",
            "9:\tlearn: 0.7982629\ttotal: 20.5s\tremaining: 33m 51s\n",
            "10:\tlearn: 0.7766840\ttotal: 22.3s\tremaining: 33m 25s\n",
            "11:\tlearn: 0.7586279\ttotal: 24.1s\tremaining: 33m 2s\n",
            "12:\tlearn: 0.7433776\ttotal: 25.9s\tremaining: 32m 42s\n",
            "13:\tlearn: 0.7249750\ttotal: 27.6s\tremaining: 32m 24s\n",
            "14:\tlearn: 0.7068653\ttotal: 29.4s\tremaining: 32m 9s\n",
            "15:\tlearn: 0.6924577\ttotal: 31.1s\tremaining: 31m 55s\n",
            "16:\tlearn: 0.6751928\ttotal: 32.9s\tremaining: 31m 43s\n",
            "17:\tlearn: 0.6597562\ttotal: 34.7s\tremaining: 31m 33s\n",
            "18:\tlearn: 0.6438234\ttotal: 36.5s\tremaining: 31m 23s\n",
            "19:\tlearn: 0.6320250\ttotal: 38.2s\tremaining: 31m 14s\n",
            "20:\tlearn: 0.6197855\ttotal: 40s\tremaining: 31m 5s\n",
            "21:\tlearn: 0.6085042\ttotal: 41.8s\tremaining: 30m 58s\n",
            "22:\tlearn: 0.5962302\ttotal: 43.5s\tremaining: 30m 49s\n",
            "23:\tlearn: 0.5856625\ttotal: 45.3s\tremaining: 30m 43s\n",
            "24:\tlearn: 0.5752259\ttotal: 47.1s\tremaining: 30m 36s\n",
            "25:\tlearn: 0.5664548\ttotal: 48.9s\tremaining: 30m 30s\n",
            "26:\tlearn: 0.5588394\ttotal: 50.6s\tremaining: 30m 24s\n",
            "27:\tlearn: 0.5494038\ttotal: 52.4s\tremaining: 30m 19s\n",
            "28:\tlearn: 0.5410645\ttotal: 54.2s\tremaining: 30m 14s\n",
            "29:\tlearn: 0.5303153\ttotal: 56s\tremaining: 30m 9s\n",
            "30:\tlearn: 0.5234515\ttotal: 57.7s\tremaining: 30m 4s\n",
            "31:\tlearn: 0.5151548\ttotal: 59.5s\tremaining: 29m 59s\n",
            "32:\tlearn: 0.5068817\ttotal: 1m 1s\tremaining: 29m 55s\n",
            "33:\tlearn: 0.5001405\ttotal: 1m 3s\tremaining: 29m 50s\n",
            "34:\tlearn: 0.4925726\ttotal: 1m 4s\tremaining: 29m 46s\n",
            "35:\tlearn: 0.4867463\ttotal: 1m 6s\tremaining: 29m 42s\n",
            "36:\tlearn: 0.4807517\ttotal: 1m 8s\tremaining: 29m 38s\n",
            "37:\tlearn: 0.4757324\ttotal: 1m 10s\tremaining: 29m 34s\n",
            "38:\tlearn: 0.4694862\ttotal: 1m 11s\tremaining: 29m 30s\n",
            "39:\tlearn: 0.4620702\ttotal: 1m 13s\tremaining: 29m 27s\n",
            "40:\tlearn: 0.4540759\ttotal: 1m 15s\tremaining: 29m 23s\n",
            "41:\tlearn: 0.4488850\ttotal: 1m 17s\tremaining: 29m 20s\n",
            "42:\tlearn: 0.4430434\ttotal: 1m 18s\tremaining: 29m 16s\n",
            "43:\tlearn: 0.4362504\ttotal: 1m 20s\tremaining: 29m 13s\n",
            "44:\tlearn: 0.4305855\ttotal: 1m 22s\tremaining: 29m 10s\n",
            "45:\tlearn: 0.4246288\ttotal: 1m 24s\tremaining: 29m 7s\n",
            "46:\tlearn: 0.4189870\ttotal: 1m 26s\tremaining: 29m 4s\n",
            "47:\tlearn: 0.4145832\ttotal: 1m 27s\tremaining: 29m 1s\n",
            "48:\tlearn: 0.4099080\ttotal: 1m 29s\tremaining: 28m 58s\n",
            "49:\tlearn: 0.4055654\ttotal: 1m 31s\tremaining: 28m 55s\n",
            "50:\tlearn: 0.3993736\ttotal: 1m 33s\tremaining: 28m 52s\n",
            "51:\tlearn: 0.3940785\ttotal: 1m 34s\tremaining: 28m 49s\n",
            "52:\tlearn: 0.3894437\ttotal: 1m 36s\tremaining: 28m 47s\n",
            "53:\tlearn: 0.3859734\ttotal: 1m 38s\tremaining: 28m 44s\n",
            "54:\tlearn: 0.3830848\ttotal: 1m 40s\tremaining: 28m 41s\n",
            "55:\tlearn: 0.3789273\ttotal: 1m 41s\tremaining: 28m 38s\n",
            "56:\tlearn: 0.3752950\ttotal: 1m 43s\tremaining: 28m 36s\n",
            "57:\tlearn: 0.3699664\ttotal: 1m 45s\tremaining: 28m 33s\n",
            "58:\tlearn: 0.3672016\ttotal: 1m 47s\tremaining: 28m 30s\n",
            "59:\tlearn: 0.3624650\ttotal: 1m 49s\tremaining: 28m 27s\n",
            "60:\tlearn: 0.3586308\ttotal: 1m 50s\tremaining: 28m 25s\n",
            "61:\tlearn: 0.3551040\ttotal: 1m 52s\tremaining: 28m 22s\n",
            "62:\tlearn: 0.3506614\ttotal: 1m 54s\tremaining: 28m 20s\n",
            "63:\tlearn: 0.3470225\ttotal: 1m 56s\tremaining: 28m 17s\n",
            "64:\tlearn: 0.3436601\ttotal: 1m 57s\tremaining: 28m 15s\n",
            "65:\tlearn: 0.3387561\ttotal: 1m 59s\tremaining: 28m 12s\n",
            "66:\tlearn: 0.3361346\ttotal: 2m 1s\tremaining: 28m 10s\n",
            "67:\tlearn: 0.3329851\ttotal: 2m 3s\tremaining: 28m 8s\n",
            "68:\tlearn: 0.3309097\ttotal: 2m 4s\tremaining: 28m 6s\n",
            "69:\tlearn: 0.3281912\ttotal: 2m 6s\tremaining: 28m 3s\n",
            "70:\tlearn: 0.3247898\ttotal: 2m 8s\tremaining: 28m 1s\n",
            "71:\tlearn: 0.3210515\ttotal: 2m 10s\tremaining: 27m 59s\n",
            "72:\tlearn: 0.3193961\ttotal: 2m 12s\tremaining: 27m 57s\n",
            "73:\tlearn: 0.3173614\ttotal: 2m 13s\tremaining: 27m 54s\n",
            "74:\tlearn: 0.3128916\ttotal: 2m 15s\tremaining: 27m 52s\n",
            "75:\tlearn: 0.3099373\ttotal: 2m 17s\tremaining: 27m 50s\n",
            "76:\tlearn: 0.3064211\ttotal: 2m 19s\tremaining: 27m 47s\n",
            "77:\tlearn: 0.3031465\ttotal: 2m 20s\tremaining: 27m 45s\n",
            "78:\tlearn: 0.3012687\ttotal: 2m 22s\tremaining: 27m 43s\n",
            "79:\tlearn: 0.2983222\ttotal: 2m 24s\tremaining: 27m 41s\n",
            "80:\tlearn: 0.2948839\ttotal: 2m 26s\tremaining: 27m 39s\n",
            "81:\tlearn: 0.2920388\ttotal: 2m 28s\tremaining: 27m 37s\n",
            "82:\tlearn: 0.2885590\ttotal: 2m 29s\tremaining: 27m 35s\n",
            "83:\tlearn: 0.2850570\ttotal: 2m 31s\tremaining: 27m 33s\n",
            "84:\tlearn: 0.2821755\ttotal: 2m 33s\tremaining: 27m 31s\n",
            "85:\tlearn: 0.2791820\ttotal: 2m 35s\tremaining: 27m 29s\n",
            "86:\tlearn: 0.2766352\ttotal: 2m 36s\tremaining: 27m 27s\n",
            "87:\tlearn: 0.2737303\ttotal: 2m 38s\tremaining: 27m 25s\n",
            "88:\tlearn: 0.2715132\ttotal: 2m 40s\tremaining: 27m 23s\n",
            "89:\tlearn: 0.2694733\ttotal: 2m 42s\tremaining: 27m 21s\n",
            "90:\tlearn: 0.2674626\ttotal: 2m 44s\tremaining: 27m 19s\n",
            "91:\tlearn: 0.2645059\ttotal: 2m 45s\tremaining: 27m 16s\n",
            "92:\tlearn: 0.2616827\ttotal: 2m 47s\tremaining: 27m 14s\n",
            "93:\tlearn: 0.2596272\ttotal: 2m 49s\tremaining: 27m 12s\n",
            "94:\tlearn: 0.2571830\ttotal: 2m 51s\tremaining: 27m 10s\n",
            "95:\tlearn: 0.2546666\ttotal: 2m 52s\tremaining: 27m 8s\n",
            "96:\tlearn: 0.2522653\ttotal: 2m 54s\tremaining: 27m 6s\n",
            "97:\tlearn: 0.2497800\ttotal: 2m 56s\tremaining: 27m 4s\n",
            "98:\tlearn: 0.2465763\ttotal: 2m 58s\tremaining: 27m 2s\n",
            "99:\tlearn: 0.2444818\ttotal: 3m\tremaining: 27m\n",
            "100:\tlearn: 0.2422742\ttotal: 3m 1s\tremaining: 26m 57s\n",
            "101:\tlearn: 0.2402349\ttotal: 3m 3s\tremaining: 26m 55s\n",
            "102:\tlearn: 0.2378970\ttotal: 3m 5s\tremaining: 26m 53s\n",
            "103:\tlearn: 0.2359549\ttotal: 3m 7s\tremaining: 26m 51s\n",
            "104:\tlearn: 0.2330745\ttotal: 3m 8s\tremaining: 26m 49s\n",
            "105:\tlearn: 0.2304682\ttotal: 3m 10s\tremaining: 26m 48s\n",
            "106:\tlearn: 0.2284747\ttotal: 3m 12s\tremaining: 26m 45s\n",
            "107:\tlearn: 0.2267579\ttotal: 3m 14s\tremaining: 26m 43s\n",
            "108:\tlearn: 0.2245214\ttotal: 3m 15s\tremaining: 26m 42s\n",
            "109:\tlearn: 0.2225719\ttotal: 3m 17s\tremaining: 26m 40s\n",
            "110:\tlearn: 0.2203389\ttotal: 3m 19s\tremaining: 26m 38s\n",
            "111:\tlearn: 0.2183417\ttotal: 3m 21s\tremaining: 26m 35s\n",
            "112:\tlearn: 0.2163680\ttotal: 3m 23s\tremaining: 26m 33s\n",
            "113:\tlearn: 0.2137507\ttotal: 3m 24s\tremaining: 26m 31s\n",
            "114:\tlearn: 0.2119281\ttotal: 3m 26s\tremaining: 26m 29s\n",
            "115:\tlearn: 0.2102707\ttotal: 3m 28s\tremaining: 26m 27s\n",
            "116:\tlearn: 0.2083354\ttotal: 3m 30s\tremaining: 26m 25s\n",
            "117:\tlearn: 0.2065079\ttotal: 3m 31s\tremaining: 26m 23s\n",
            "118:\tlearn: 0.2040608\ttotal: 3m 33s\tremaining: 26m 21s\n",
            "119:\tlearn: 0.2023371\ttotal: 3m 35s\tremaining: 26m 19s\n",
            "120:\tlearn: 0.1998989\ttotal: 3m 37s\tremaining: 26m 18s\n",
            "121:\tlearn: 0.1977309\ttotal: 3m 39s\tremaining: 26m 16s\n",
            "122:\tlearn: 0.1962732\ttotal: 3m 40s\tremaining: 26m 14s\n",
            "123:\tlearn: 0.1941054\ttotal: 3m 42s\tremaining: 26m 12s\n",
            "124:\tlearn: 0.1919056\ttotal: 3m 44s\tremaining: 26m 10s\n",
            "125:\tlearn: 0.1901699\ttotal: 3m 46s\tremaining: 26m 9s\n",
            "126:\tlearn: 0.1881205\ttotal: 3m 48s\tremaining: 26m 7s\n",
            "127:\tlearn: 0.1868964\ttotal: 3m 49s\tremaining: 26m 5s\n",
            "128:\tlearn: 0.1849844\ttotal: 3m 51s\tremaining: 26m 3s\n",
            "129:\tlearn: 0.1835629\ttotal: 3m 53s\tremaining: 26m 1s\n",
            "130:\tlearn: 0.1821583\ttotal: 3m 55s\tremaining: 25m 59s\n",
            "131:\tlearn: 0.1804012\ttotal: 3m 56s\tremaining: 25m 57s\n",
            "132:\tlearn: 0.1786562\ttotal: 3m 58s\tremaining: 25m 55s\n",
            "133:\tlearn: 0.1768400\ttotal: 4m\tremaining: 25m 53s\n",
            "134:\tlearn: 0.1750595\ttotal: 4m 2s\tremaining: 25m 51s\n",
            "135:\tlearn: 0.1733006\ttotal: 4m 3s\tremaining: 25m 50s\n",
            "136:\tlearn: 0.1716720\ttotal: 4m 5s\tremaining: 25m 48s\n",
            "137:\tlearn: 0.1699688\ttotal: 4m 7s\tremaining: 25m 46s\n",
            "138:\tlearn: 0.1683464\ttotal: 4m 9s\tremaining: 25m 44s\n",
            "139:\tlearn: 0.1668452\ttotal: 4m 11s\tremaining: 25m 42s\n",
            "140:\tlearn: 0.1650039\ttotal: 4m 12s\tremaining: 25m 40s\n",
            "141:\tlearn: 0.1633048\ttotal: 4m 14s\tremaining: 25m 38s\n",
            "142:\tlearn: 0.1619971\ttotal: 4m 16s\tremaining: 25m 36s\n",
            "143:\tlearn: 0.1606446\ttotal: 4m 18s\tremaining: 25m 34s\n",
            "144:\tlearn: 0.1588376\ttotal: 4m 19s\tremaining: 25m 32s\n",
            "145:\tlearn: 0.1575861\ttotal: 4m 21s\tremaining: 25m 30s\n",
            "146:\tlearn: 0.1564281\ttotal: 4m 23s\tremaining: 25m 28s\n",
            "147:\tlearn: 0.1550473\ttotal: 4m 25s\tremaining: 25m 26s\n",
            "148:\tlearn: 0.1537391\ttotal: 4m 26s\tremaining: 25m 24s\n",
            "149:\tlearn: 0.1526957\ttotal: 4m 28s\tremaining: 25m 22s\n",
            "150:\tlearn: 0.1513937\ttotal: 4m 30s\tremaining: 25m 21s\n",
            "151:\tlearn: 0.1501225\ttotal: 4m 32s\tremaining: 25m 19s\n",
            "152:\tlearn: 0.1494370\ttotal: 4m 34s\tremaining: 25m 17s\n",
            "153:\tlearn: 0.1485685\ttotal: 4m 35s\tremaining: 25m 15s\n",
            "154:\tlearn: 0.1472398\ttotal: 4m 37s\tremaining: 25m 13s\n",
            "155:\tlearn: 0.1462662\ttotal: 4m 39s\tremaining: 25m 11s\n",
            "156:\tlearn: 0.1451410\ttotal: 4m 41s\tremaining: 25m 9s\n",
            "157:\tlearn: 0.1443830\ttotal: 4m 42s\tremaining: 25m 7s\n",
            "158:\tlearn: 0.1435160\ttotal: 4m 44s\tremaining: 25m 5s\n",
            "159:\tlearn: 0.1425310\ttotal: 4m 46s\tremaining: 25m 3s\n",
            "160:\tlearn: 0.1407247\ttotal: 4m 48s\tremaining: 25m 1s\n",
            "161:\tlearn: 0.1394260\ttotal: 4m 49s\tremaining: 24m 59s\n",
            "162:\tlearn: 0.1383363\ttotal: 4m 51s\tremaining: 24m 58s\n",
            "163:\tlearn: 0.1372958\ttotal: 4m 53s\tremaining: 24m 56s\n",
            "164:\tlearn: 0.1363397\ttotal: 4m 55s\tremaining: 24m 54s\n",
            "165:\tlearn: 0.1356265\ttotal: 4m 57s\tremaining: 24m 52s\n",
            "166:\tlearn: 0.1349715\ttotal: 4m 58s\tremaining: 24m 50s\n",
            "167:\tlearn: 0.1340272\ttotal: 5m\tremaining: 24m 48s\n",
            "168:\tlearn: 0.1326407\ttotal: 5m 2s\tremaining: 24m 46s\n",
            "169:\tlearn: 0.1315484\ttotal: 5m 4s\tremaining: 24m 44s\n",
            "170:\tlearn: 0.1304346\ttotal: 5m 5s\tremaining: 24m 42s\n",
            "171:\tlearn: 0.1296295\ttotal: 5m 7s\tremaining: 24m 40s\n",
            "172:\tlearn: 0.1288592\ttotal: 5m 9s\tremaining: 24m 39s\n",
            "173:\tlearn: 0.1280673\ttotal: 5m 11s\tremaining: 24m 37s\n",
            "174:\tlearn: 0.1270484\ttotal: 5m 12s\tremaining: 24m 35s\n",
            "175:\tlearn: 0.1263718\ttotal: 5m 14s\tremaining: 24m 33s\n",
            "176:\tlearn: 0.1252952\ttotal: 5m 16s\tremaining: 24m 31s\n",
            "177:\tlearn: 0.1243745\ttotal: 5m 18s\tremaining: 24m 29s\n",
            "178:\tlearn: 0.1232114\ttotal: 5m 19s\tremaining: 24m 27s\n",
            "179:\tlearn: 0.1222740\ttotal: 5m 21s\tremaining: 24m 25s\n",
            "180:\tlearn: 0.1213922\ttotal: 5m 23s\tremaining: 24m 23s\n",
            "181:\tlearn: 0.1208957\ttotal: 5m 25s\tremaining: 24m 21s\n",
            "182:\tlearn: 0.1198816\ttotal: 5m 27s\tremaining: 24m 19s\n",
            "183:\tlearn: 0.1191501\ttotal: 5m 28s\tremaining: 24m 18s\n",
            "184:\tlearn: 0.1183405\ttotal: 5m 30s\tremaining: 24m 16s\n",
            "185:\tlearn: 0.1173443\ttotal: 5m 32s\tremaining: 24m 14s\n",
            "186:\tlearn: 0.1164809\ttotal: 5m 34s\tremaining: 24m 12s\n",
            "187:\tlearn: 0.1157812\ttotal: 5m 35s\tremaining: 24m 10s\n",
            "188:\tlearn: 0.1149772\ttotal: 5m 37s\tremaining: 24m 8s\n",
            "189:\tlearn: 0.1143522\ttotal: 5m 39s\tremaining: 24m 6s\n",
            "190:\tlearn: 0.1137057\ttotal: 5m 41s\tremaining: 24m 4s\n",
            "191:\tlearn: 0.1128381\ttotal: 5m 42s\tremaining: 24m 3s\n",
            "192:\tlearn: 0.1120855\ttotal: 5m 44s\tremaining: 24m 1s\n",
            "193:\tlearn: 0.1110430\ttotal: 5m 46s\tremaining: 23m 59s\n",
            "194:\tlearn: 0.1107363\ttotal: 5m 48s\tremaining: 23m 57s\n",
            "195:\tlearn: 0.1098052\ttotal: 5m 49s\tremaining: 23m 55s\n",
            "196:\tlearn: 0.1091116\ttotal: 5m 51s\tremaining: 23m 53s\n",
            "197:\tlearn: 0.1078966\ttotal: 5m 53s\tremaining: 23m 51s\n",
            "198:\tlearn: 0.1072576\ttotal: 5m 55s\tremaining: 23m 49s\n",
            "199:\tlearn: 0.1065137\ttotal: 5m 56s\tremaining: 23m 47s\n",
            "200:\tlearn: 0.1055645\ttotal: 5m 58s\tremaining: 23m 46s\n",
            "201:\tlearn: 0.1046115\ttotal: 6m\tremaining: 23m 44s\n",
            "202:\tlearn: 0.1038834\ttotal: 6m 2s\tremaining: 23m 42s\n",
            "203:\tlearn: 0.1031843\ttotal: 6m 4s\tremaining: 23m 40s\n",
            "204:\tlearn: 0.1024509\ttotal: 6m 5s\tremaining: 23m 38s\n",
            "205:\tlearn: 0.1016389\ttotal: 6m 7s\tremaining: 23m 36s\n",
            "206:\tlearn: 0.1010232\ttotal: 6m 9s\tremaining: 23m 35s\n",
            "207:\tlearn: 0.1002608\ttotal: 6m 11s\tremaining: 23m 33s\n",
            "208:\tlearn: 0.0995213\ttotal: 6m 12s\tremaining: 23m 31s\n",
            "209:\tlearn: 0.0987349\ttotal: 6m 14s\tremaining: 23m 29s\n",
            "210:\tlearn: 0.0983805\ttotal: 6m 16s\tremaining: 23m 27s\n",
            "211:\tlearn: 0.0978129\ttotal: 6m 18s\tremaining: 23m 25s\n",
            "212:\tlearn: 0.0970023\ttotal: 6m 20s\tremaining: 23m 24s\n",
            "213:\tlearn: 0.0964676\ttotal: 6m 21s\tremaining: 23m 22s\n",
            "214:\tlearn: 0.0958272\ttotal: 6m 23s\tremaining: 23m 20s\n",
            "215:\tlearn: 0.0950324\ttotal: 6m 25s\tremaining: 23m 19s\n",
            "216:\tlearn: 0.0942568\ttotal: 6m 27s\tremaining: 23m 17s\n",
            "217:\tlearn: 0.0936103\ttotal: 6m 29s\tremaining: 23m 15s\n",
            "218:\tlearn: 0.0930293\ttotal: 6m 30s\tremaining: 23m 13s\n",
            "219:\tlearn: 0.0924298\ttotal: 6m 32s\tremaining: 23m 11s\n",
            "220:\tlearn: 0.0920076\ttotal: 6m 34s\tremaining: 23m 10s\n",
            "221:\tlearn: 0.0914014\ttotal: 6m 36s\tremaining: 23m 8s\n",
            "222:\tlearn: 0.0907851\ttotal: 6m 38s\tremaining: 23m 6s\n",
            "223:\tlearn: 0.0902298\ttotal: 6m 39s\tremaining: 23m 5s\n",
            "224:\tlearn: 0.0895109\ttotal: 6m 41s\tremaining: 23m 3s\n",
            "225:\tlearn: 0.0890114\ttotal: 6m 43s\tremaining: 23m 1s\n",
            "226:\tlearn: 0.0884440\ttotal: 6m 45s\tremaining: 22m 59s\n",
            "227:\tlearn: 0.0878502\ttotal: 6m 46s\tremaining: 22m 57s\n",
            "228:\tlearn: 0.0872611\ttotal: 6m 48s\tremaining: 22m 56s\n",
            "229:\tlearn: 0.0866737\ttotal: 6m 50s\tremaining: 22m 54s\n",
            "230:\tlearn: 0.0862902\ttotal: 6m 52s\tremaining: 22m 52s\n",
            "231:\tlearn: 0.0858484\ttotal: 6m 54s\tremaining: 22m 50s\n",
            "232:\tlearn: 0.0853540\ttotal: 6m 55s\tremaining: 22m 48s\n",
            "233:\tlearn: 0.0847817\ttotal: 6m 57s\tremaining: 22m 46s\n",
            "234:\tlearn: 0.0842378\ttotal: 6m 59s\tremaining: 22m 45s\n",
            "235:\tlearn: 0.0838037\ttotal: 7m 1s\tremaining: 22m 43s\n",
            "236:\tlearn: 0.0832996\ttotal: 7m 2s\tremaining: 22m 41s\n",
            "237:\tlearn: 0.0828087\ttotal: 7m 4s\tremaining: 22m 39s\n",
            "238:\tlearn: 0.0824814\ttotal: 7m 6s\tremaining: 22m 37s\n",
            "239:\tlearn: 0.0820752\ttotal: 7m 8s\tremaining: 22m 36s\n",
            "240:\tlearn: 0.0815405\ttotal: 7m 10s\tremaining: 22m 34s\n",
            "241:\tlearn: 0.0811266\ttotal: 7m 11s\tremaining: 22m 32s\n",
            "242:\tlearn: 0.0805080\ttotal: 7m 13s\tremaining: 22m 30s\n",
            "243:\tlearn: 0.0798826\ttotal: 7m 15s\tremaining: 22m 28s\n",
            "244:\tlearn: 0.0795559\ttotal: 7m 17s\tremaining: 22m 26s\n",
            "245:\tlearn: 0.0789087\ttotal: 7m 18s\tremaining: 22m 25s\n",
            "246:\tlearn: 0.0784039\ttotal: 7m 20s\tremaining: 22m 23s\n",
            "247:\tlearn: 0.0779914\ttotal: 7m 22s\tremaining: 22m 21s\n",
            "248:\tlearn: 0.0775852\ttotal: 7m 24s\tremaining: 22m 19s\n",
            "249:\tlearn: 0.0770699\ttotal: 7m 26s\tremaining: 22m 18s\n",
            "250:\tlearn: 0.0766278\ttotal: 7m 27s\tremaining: 22m 16s\n",
            "251:\tlearn: 0.0760900\ttotal: 7m 29s\tremaining: 22m 14s\n",
            "252:\tlearn: 0.0758303\ttotal: 7m 31s\tremaining: 22m 12s\n",
            "253:\tlearn: 0.0752992\ttotal: 7m 33s\tremaining: 22m 11s\n",
            "254:\tlearn: 0.0748375\ttotal: 7m 35s\tremaining: 22m 9s\n",
            "255:\tlearn: 0.0745212\ttotal: 7m 36s\tremaining: 22m 7s\n",
            "256:\tlearn: 0.0741079\ttotal: 7m 38s\tremaining: 22m 5s\n",
            "257:\tlearn: 0.0736608\ttotal: 7m 40s\tremaining: 22m 3s\n",
            "258:\tlearn: 0.0732775\ttotal: 7m 42s\tremaining: 22m 1s\n",
            "259:\tlearn: 0.0728986\ttotal: 7m 43s\tremaining: 22m\n",
            "260:\tlearn: 0.0723464\ttotal: 7m 45s\tremaining: 21m 58s\n",
            "261:\tlearn: 0.0717966\ttotal: 7m 47s\tremaining: 21m 56s\n",
            "262:\tlearn: 0.0714289\ttotal: 7m 49s\tremaining: 21m 54s\n",
            "263:\tlearn: 0.0710114\ttotal: 7m 50s\tremaining: 21m 52s\n",
            "264:\tlearn: 0.0705536\ttotal: 7m 52s\tremaining: 21m 50s\n",
            "265:\tlearn: 0.0700545\ttotal: 7m 54s\tremaining: 21m 48s\n",
            "266:\tlearn: 0.0697124\ttotal: 7m 56s\tremaining: 21m 47s\n",
            "267:\tlearn: 0.0693809\ttotal: 7m 57s\tremaining: 21m 45s\n",
            "268:\tlearn: 0.0690236\ttotal: 7m 59s\tremaining: 21m 43s\n",
            "269:\tlearn: 0.0687331\ttotal: 8m 1s\tremaining: 21m 41s\n",
            "270:\tlearn: 0.0685760\ttotal: 8m 3s\tremaining: 21m 39s\n",
            "271:\tlearn: 0.0681039\ttotal: 8m 4s\tremaining: 21m 38s\n",
            "272:\tlearn: 0.0677536\ttotal: 8m 6s\tremaining: 21m 36s\n",
            "273:\tlearn: 0.0674696\ttotal: 8m 8s\tremaining: 21m 35s\n",
            "274:\tlearn: 0.0671133\ttotal: 8m 10s\tremaining: 21m 33s\n",
            "275:\tlearn: 0.0665709\ttotal: 8m 12s\tremaining: 21m 31s\n",
            "276:\tlearn: 0.0661536\ttotal: 8m 14s\tremaining: 21m 29s\n",
            "277:\tlearn: 0.0658773\ttotal: 8m 15s\tremaining: 21m 27s\n",
            "278:\tlearn: 0.0655326\ttotal: 8m 17s\tremaining: 21m 25s\n",
            "279:\tlearn: 0.0651115\ttotal: 8m 19s\tremaining: 21m 24s\n",
            "280:\tlearn: 0.0647783\ttotal: 8m 21s\tremaining: 21m 22s\n",
            "281:\tlearn: 0.0643659\ttotal: 8m 22s\tremaining: 21m 20s\n",
            "282:\tlearn: 0.0640096\ttotal: 8m 24s\tremaining: 21m 18s\n",
            "283:\tlearn: 0.0636833\ttotal: 8m 26s\tremaining: 21m 16s\n",
            "284:\tlearn: 0.0633613\ttotal: 8m 28s\tremaining: 21m 14s\n",
            "285:\tlearn: 0.0630681\ttotal: 8m 29s\tremaining: 21m 13s\n",
            "286:\tlearn: 0.0628206\ttotal: 8m 31s\tremaining: 21m 11s\n",
            "287:\tlearn: 0.0625075\ttotal: 8m 33s\tremaining: 21m 9s\n",
            "288:\tlearn: 0.0621283\ttotal: 8m 35s\tremaining: 21m 7s\n",
            "289:\tlearn: 0.0617942\ttotal: 8m 36s\tremaining: 21m 5s\n",
            "290:\tlearn: 0.0614316\ttotal: 8m 38s\tremaining: 21m 3s\n",
            "291:\tlearn: 0.0610788\ttotal: 8m 40s\tremaining: 21m 1s\n",
            "292:\tlearn: 0.0607803\ttotal: 8m 42s\tremaining: 21m\n",
            "293:\tlearn: 0.0603627\ttotal: 8m 44s\tremaining: 20m 58s\n",
            "294:\tlearn: 0.0600891\ttotal: 8m 45s\tremaining: 20m 56s\n",
            "295:\tlearn: 0.0597019\ttotal: 8m 47s\tremaining: 20m 54s\n",
            "296:\tlearn: 0.0594588\ttotal: 8m 49s\tremaining: 20m 52s\n",
            "297:\tlearn: 0.0593092\ttotal: 8m 51s\tremaining: 20m 50s\n",
            "298:\tlearn: 0.0589345\ttotal: 8m 52s\tremaining: 20m 49s\n",
            "299:\tlearn: 0.0585906\ttotal: 8m 54s\tremaining: 20m 47s\n",
            "300:\tlearn: 0.0582754\ttotal: 8m 56s\tremaining: 20m 45s\n",
            "301:\tlearn: 0.0580063\ttotal: 8m 58s\tremaining: 20m 43s\n",
            "302:\tlearn: 0.0575772\ttotal: 8m 59s\tremaining: 20m 41s\n",
            "303:\tlearn: 0.0571868\ttotal: 9m 1s\tremaining: 20m 39s\n",
            "304:\tlearn: 0.0568436\ttotal: 9m 3s\tremaining: 20m 38s\n",
            "305:\tlearn: 0.0565576\ttotal: 9m 5s\tremaining: 20m 36s\n",
            "306:\tlearn: 0.0561547\ttotal: 9m 6s\tremaining: 20m 34s\n",
            "307:\tlearn: 0.0559076\ttotal: 9m 8s\tremaining: 20m 32s\n",
            "308:\tlearn: 0.0555963\ttotal: 9m 10s\tremaining: 20m 30s\n",
            "309:\tlearn: 0.0554179\ttotal: 9m 12s\tremaining: 20m 29s\n",
            "310:\tlearn: 0.0551122\ttotal: 9m 13s\tremaining: 20m 27s\n",
            "311:\tlearn: 0.0548435\ttotal: 9m 15s\tremaining: 20m 25s\n",
            "312:\tlearn: 0.0544938\ttotal: 9m 17s\tremaining: 20m 23s\n",
            "313:\tlearn: 0.0541956\ttotal: 9m 19s\tremaining: 20m 21s\n",
            "314:\tlearn: 0.0538668\ttotal: 9m 21s\tremaining: 20m 19s\n",
            "315:\tlearn: 0.0536535\ttotal: 9m 22s\tremaining: 20m 18s\n",
            "316:\tlearn: 0.0534762\ttotal: 9m 24s\tremaining: 20m 16s\n",
            "317:\tlearn: 0.0532412\ttotal: 9m 26s\tremaining: 20m 14s\n",
            "318:\tlearn: 0.0529254\ttotal: 9m 28s\tremaining: 20m 12s\n",
            "319:\tlearn: 0.0526455\ttotal: 9m 29s\tremaining: 20m 10s\n",
            "320:\tlearn: 0.0524270\ttotal: 9m 31s\tremaining: 20m 9s\n",
            "321:\tlearn: 0.0520984\ttotal: 9m 33s\tremaining: 20m 7s\n",
            "322:\tlearn: 0.0519036\ttotal: 9m 35s\tremaining: 20m 5s\n",
            "323:\tlearn: 0.0516485\ttotal: 9m 36s\tremaining: 20m 3s\n",
            "324:\tlearn: 0.0513702\ttotal: 9m 38s\tremaining: 20m 1s\n",
            "325:\tlearn: 0.0512710\ttotal: 9m 40s\tremaining: 20m\n",
            "326:\tlearn: 0.0510040\ttotal: 9m 42s\tremaining: 19m 58s\n",
            "327:\tlearn: 0.0508176\ttotal: 9m 43s\tremaining: 19m 56s\n",
            "328:\tlearn: 0.0505215\ttotal: 9m 45s\tremaining: 19m 54s\n",
            "329:\tlearn: 0.0502935\ttotal: 9m 47s\tremaining: 19m 52s\n",
            "330:\tlearn: 0.0499720\ttotal: 9m 49s\tremaining: 19m 51s\n",
            "331:\tlearn: 0.0497157\ttotal: 9m 51s\tremaining: 19m 49s\n",
            "332:\tlearn: 0.0494790\ttotal: 9m 52s\tremaining: 19m 47s\n",
            "333:\tlearn: 0.0492685\ttotal: 9m 54s\tremaining: 19m 45s\n",
            "334:\tlearn: 0.0490981\ttotal: 9m 56s\tremaining: 19m 43s\n",
            "335:\tlearn: 0.0488636\ttotal: 9m 58s\tremaining: 19m 41s\n",
            "336:\tlearn: 0.0486372\ttotal: 9m 59s\tremaining: 19m 40s\n",
            "337:\tlearn: 0.0484419\ttotal: 10m 1s\tremaining: 19m 38s\n",
            "338:\tlearn: 0.0482585\ttotal: 10m 3s\tremaining: 19m 36s\n",
            "339:\tlearn: 0.0480296\ttotal: 10m 5s\tremaining: 19m 34s\n",
            "340:\tlearn: 0.0477652\ttotal: 10m 6s\tremaining: 19m 32s\n",
            "341:\tlearn: 0.0475452\ttotal: 10m 8s\tremaining: 19m 30s\n",
            "342:\tlearn: 0.0473231\ttotal: 10m 10s\tremaining: 19m 29s\n",
            "343:\tlearn: 0.0471024\ttotal: 10m 12s\tremaining: 19m 27s\n",
            "344:\tlearn: 0.0469708\ttotal: 10m 13s\tremaining: 19m 25s\n",
            "345:\tlearn: 0.0467697\ttotal: 10m 15s\tremaining: 19m 23s\n",
            "346:\tlearn: 0.0465389\ttotal: 10m 17s\tremaining: 19m 21s\n",
            "347:\tlearn: 0.0463319\ttotal: 10m 19s\tremaining: 19m 20s\n",
            "348:\tlearn: 0.0460351\ttotal: 10m 20s\tremaining: 19m 18s\n",
            "349:\tlearn: 0.0458655\ttotal: 10m 22s\tremaining: 19m 16s\n",
            "350:\tlearn: 0.0455467\ttotal: 10m 24s\tremaining: 19m 14s\n",
            "351:\tlearn: 0.0453549\ttotal: 10m 26s\tremaining: 19m 12s\n",
            "352:\tlearn: 0.0452627\ttotal: 10m 27s\tremaining: 19m 11s\n",
            "353:\tlearn: 0.0450513\ttotal: 10m 29s\tremaining: 19m 9s\n",
            "354:\tlearn: 0.0448826\ttotal: 10m 31s\tremaining: 19m 7s\n",
            "355:\tlearn: 0.0447189\ttotal: 10m 33s\tremaining: 19m 5s\n",
            "356:\tlearn: 0.0445256\ttotal: 10m 35s\tremaining: 19m 3s\n",
            "357:\tlearn: 0.0443745\ttotal: 10m 36s\tremaining: 19m 2s\n",
            "358:\tlearn: 0.0441882\ttotal: 10m 38s\tremaining: 19m\n",
            "359:\tlearn: 0.0439729\ttotal: 10m 40s\tremaining: 18m 58s\n",
            "360:\tlearn: 0.0437801\ttotal: 10m 42s\tremaining: 18m 56s\n",
            "361:\tlearn: 0.0435467\ttotal: 10m 43s\tremaining: 18m 54s\n",
            "362:\tlearn: 0.0433351\ttotal: 10m 45s\tremaining: 18m 52s\n",
            "363:\tlearn: 0.0432044\ttotal: 10m 47s\tremaining: 18m 51s\n",
            "364:\tlearn: 0.0430373\ttotal: 10m 49s\tremaining: 18m 49s\n",
            "365:\tlearn: 0.0429051\ttotal: 10m 50s\tremaining: 18m 47s\n",
            "366:\tlearn: 0.0426881\ttotal: 10m 52s\tremaining: 18m 45s\n",
            "367:\tlearn: 0.0425296\ttotal: 10m 54s\tremaining: 18m 43s\n",
            "368:\tlearn: 0.0423987\ttotal: 10m 56s\tremaining: 18m 42s\n",
            "369:\tlearn: 0.0422099\ttotal: 10m 57s\tremaining: 18m 40s\n",
            "370:\tlearn: 0.0420061\ttotal: 10m 59s\tremaining: 18m 38s\n",
            "371:\tlearn: 0.0418422\ttotal: 11m 1s\tremaining: 18m 36s\n",
            "372:\tlearn: 0.0417188\ttotal: 11m 3s\tremaining: 18m 34s\n",
            "373:\tlearn: 0.0414933\ttotal: 11m 4s\tremaining: 18m 33s\n",
            "374:\tlearn: 0.0412442\ttotal: 11m 6s\tremaining: 18m 31s\n",
            "375:\tlearn: 0.0410649\ttotal: 11m 8s\tremaining: 18m 29s\n",
            "376:\tlearn: 0.0409295\ttotal: 11m 10s\tremaining: 18m 27s\n",
            "377:\tlearn: 0.0406969\ttotal: 11m 12s\tremaining: 18m 25s\n",
            "378:\tlearn: 0.0405227\ttotal: 11m 13s\tremaining: 18m 24s\n",
            "379:\tlearn: 0.0403825\ttotal: 11m 15s\tremaining: 18m 22s\n",
            "380:\tlearn: 0.0402504\ttotal: 11m 17s\tremaining: 18m 20s\n",
            "381:\tlearn: 0.0400500\ttotal: 11m 19s\tremaining: 18m 18s\n",
            "382:\tlearn: 0.0399098\ttotal: 11m 20s\tremaining: 18m 16s\n",
            "383:\tlearn: 0.0397280\ttotal: 11m 22s\tremaining: 18m 14s\n",
            "384:\tlearn: 0.0395605\ttotal: 11m 24s\tremaining: 18m 13s\n",
            "385:\tlearn: 0.0394478\ttotal: 11m 26s\tremaining: 18m 11s\n",
            "386:\tlearn: 0.0392967\ttotal: 11m 27s\tremaining: 18m 9s\n",
            "387:\tlearn: 0.0390406\ttotal: 11m 29s\tremaining: 18m 7s\n",
            "388:\tlearn: 0.0388325\ttotal: 11m 31s\tremaining: 18m 5s\n",
            "389:\tlearn: 0.0387314\ttotal: 11m 33s\tremaining: 18m 4s\n",
            "390:\tlearn: 0.0385180\ttotal: 11m 34s\tremaining: 18m 2s\n",
            "391:\tlearn: 0.0383767\ttotal: 11m 36s\tremaining: 18m\n",
            "392:\tlearn: 0.0382509\ttotal: 11m 38s\tremaining: 17m 58s\n",
            "393:\tlearn: 0.0381379\ttotal: 11m 40s\tremaining: 17m 56s\n",
            "394:\tlearn: 0.0380544\ttotal: 11m 41s\tremaining: 17m 55s\n",
            "395:\tlearn: 0.0379396\ttotal: 11m 43s\tremaining: 17m 53s\n",
            "396:\tlearn: 0.0377925\ttotal: 11m 45s\tremaining: 17m 51s\n",
            "397:\tlearn: 0.0376368\ttotal: 11m 47s\tremaining: 17m 49s\n",
            "398:\tlearn: 0.0375268\ttotal: 11m 49s\tremaining: 17m 47s\n",
            "399:\tlearn: 0.0373849\ttotal: 11m 50s\tremaining: 17m 46s\n",
            "400:\tlearn: 0.0372580\ttotal: 11m 52s\tremaining: 17m 44s\n",
            "401:\tlearn: 0.0371491\ttotal: 11m 54s\tremaining: 17m 42s\n",
            "402:\tlearn: 0.0370050\ttotal: 11m 56s\tremaining: 17m 40s\n",
            "403:\tlearn: 0.0368648\ttotal: 11m 57s\tremaining: 17m 38s\n",
            "404:\tlearn: 0.0367402\ttotal: 11m 59s\tremaining: 17m 37s\n",
            "405:\tlearn: 0.0366618\ttotal: 12m 1s\tremaining: 17m 35s\n",
            "406:\tlearn: 0.0364503\ttotal: 12m 3s\tremaining: 17m 33s\n",
            "407:\tlearn: 0.0363147\ttotal: 12m 4s\tremaining: 17m 31s\n",
            "408:\tlearn: 0.0362132\ttotal: 12m 6s\tremaining: 17m 30s\n",
            "409:\tlearn: 0.0360945\ttotal: 12m 8s\tremaining: 17m 28s\n",
            "410:\tlearn: 0.0359032\ttotal: 12m 10s\tremaining: 17m 26s\n",
            "411:\tlearn: 0.0357425\ttotal: 12m 11s\tremaining: 17m 24s\n",
            "412:\tlearn: 0.0355556\ttotal: 12m 13s\tremaining: 17m 22s\n",
            "413:\tlearn: 0.0353933\ttotal: 12m 15s\tremaining: 17m 21s\n",
            "414:\tlearn: 0.0352907\ttotal: 12m 17s\tremaining: 17m 19s\n",
            "415:\tlearn: 0.0351432\ttotal: 12m 18s\tremaining: 17m 17s\n",
            "416:\tlearn: 0.0350735\ttotal: 12m 20s\tremaining: 17m 15s\n",
            "417:\tlearn: 0.0349851\ttotal: 12m 22s\tremaining: 17m 13s\n",
            "418:\tlearn: 0.0348244\ttotal: 12m 24s\tremaining: 17m 12s\n",
            "419:\tlearn: 0.0346974\ttotal: 12m 26s\tremaining: 17m 10s\n",
            "420:\tlearn: 0.0346167\ttotal: 12m 27s\tremaining: 17m 8s\n",
            "421:\tlearn: 0.0344238\ttotal: 12m 29s\tremaining: 17m 6s\n",
            "422:\tlearn: 0.0343011\ttotal: 12m 31s\tremaining: 17m 4s\n",
            "423:\tlearn: 0.0341494\ttotal: 12m 33s\tremaining: 17m 3s\n",
            "424:\tlearn: 0.0340258\ttotal: 12m 34s\tremaining: 17m 1s\n",
            "425:\tlearn: 0.0338650\ttotal: 12m 36s\tremaining: 16m 59s\n",
            "426:\tlearn: 0.0337268\ttotal: 12m 38s\tremaining: 16m 57s\n",
            "427:\tlearn: 0.0336188\ttotal: 12m 40s\tremaining: 16m 55s\n",
            "428:\tlearn: 0.0334479\ttotal: 12m 41s\tremaining: 16m 54s\n",
            "429:\tlearn: 0.0333260\ttotal: 12m 43s\tremaining: 16m 52s\n",
            "430:\tlearn: 0.0332030\ttotal: 12m 45s\tremaining: 16m 50s\n",
            "431:\tlearn: 0.0330758\ttotal: 12m 47s\tremaining: 16m 48s\n",
            "432:\tlearn: 0.0329722\ttotal: 12m 48s\tremaining: 16m 46s\n",
            "433:\tlearn: 0.0328362\ttotal: 12m 50s\tremaining: 16m 45s\n",
            "434:\tlearn: 0.0327134\ttotal: 12m 52s\tremaining: 16m 43s\n",
            "435:\tlearn: 0.0326270\ttotal: 12m 54s\tremaining: 16m 41s\n",
            "436:\tlearn: 0.0325149\ttotal: 12m 55s\tremaining: 16m 39s\n",
            "437:\tlearn: 0.0324059\ttotal: 12m 57s\tremaining: 16m 37s\n",
            "438:\tlearn: 0.0323044\ttotal: 12m 59s\tremaining: 16m 36s\n",
            "439:\tlearn: 0.0321947\ttotal: 13m 1s\tremaining: 16m 34s\n",
            "440:\tlearn: 0.0320707\ttotal: 13m 3s\tremaining: 16m 32s\n",
            "441:\tlearn: 0.0319784\ttotal: 13m 4s\tremaining: 16m 30s\n",
            "442:\tlearn: 0.0318546\ttotal: 13m 6s\tremaining: 16m 28s\n",
            "443:\tlearn: 0.0317504\ttotal: 13m 8s\tremaining: 16m 27s\n",
            "444:\tlearn: 0.0316111\ttotal: 13m 10s\tremaining: 16m 25s\n",
            "445:\tlearn: 0.0314410\ttotal: 13m 11s\tremaining: 16m 23s\n",
            "446:\tlearn: 0.0313546\ttotal: 13m 13s\tremaining: 16m 21s\n",
            "447:\tlearn: 0.0312639\ttotal: 13m 15s\tremaining: 16m 19s\n",
            "448:\tlearn: 0.0311454\ttotal: 13m 17s\tremaining: 16m 18s\n",
            "449:\tlearn: 0.0310526\ttotal: 13m 18s\tremaining: 16m 16s\n",
            "450:\tlearn: 0.0309324\ttotal: 13m 20s\tremaining: 16m 14s\n",
            "451:\tlearn: 0.0307745\ttotal: 13m 22s\tremaining: 16m 12s\n",
            "452:\tlearn: 0.0306751\ttotal: 13m 24s\tremaining: 16m 11s\n",
            "453:\tlearn: 0.0305611\ttotal: 13m 25s\tremaining: 16m 9s\n",
            "454:\tlearn: 0.0304705\ttotal: 13m 27s\tremaining: 16m 7s\n",
            "455:\tlearn: 0.0303563\ttotal: 13m 29s\tremaining: 16m 5s\n",
            "456:\tlearn: 0.0302598\ttotal: 13m 31s\tremaining: 16m 3s\n",
            "457:\tlearn: 0.0301518\ttotal: 13m 32s\tremaining: 16m 2s\n",
            "458:\tlearn: 0.0300591\ttotal: 13m 34s\tremaining: 16m\n",
            "459:\tlearn: 0.0299197\ttotal: 13m 36s\tremaining: 15m 58s\n",
            "460:\tlearn: 0.0298492\ttotal: 13m 38s\tremaining: 15m 56s\n",
            "461:\tlearn: 0.0297644\ttotal: 13m 39s\tremaining: 15m 54s\n",
            "462:\tlearn: 0.0296686\ttotal: 13m 41s\tremaining: 15m 53s\n",
            "463:\tlearn: 0.0295687\ttotal: 13m 43s\tremaining: 15m 51s\n",
            "464:\tlearn: 0.0294660\ttotal: 13m 45s\tremaining: 15m 49s\n",
            "465:\tlearn: 0.0293790\ttotal: 13m 47s\tremaining: 15m 47s\n",
            "466:\tlearn: 0.0292945\ttotal: 13m 48s\tremaining: 15m 45s\n",
            "467:\tlearn: 0.0292164\ttotal: 13m 50s\tremaining: 15m 44s\n",
            "468:\tlearn: 0.0290988\ttotal: 13m 52s\tremaining: 15m 42s\n",
            "469:\tlearn: 0.0289469\ttotal: 13m 54s\tremaining: 15m 40s\n",
            "470:\tlearn: 0.0289091\ttotal: 13m 55s\tremaining: 15m 38s\n",
            "471:\tlearn: 0.0288050\ttotal: 13m 57s\tremaining: 15m 36s\n",
            "472:\tlearn: 0.0286939\ttotal: 13m 59s\tremaining: 15m 35s\n",
            "473:\tlearn: 0.0285940\ttotal: 14m 1s\tremaining: 15m 33s\n",
            "474:\tlearn: 0.0284564\ttotal: 14m 2s\tremaining: 15m 31s\n",
            "475:\tlearn: 0.0283472\ttotal: 14m 4s\tremaining: 15m 29s\n",
            "476:\tlearn: 0.0282368\ttotal: 14m 6s\tremaining: 15m 27s\n",
            "477:\tlearn: 0.0281384\ttotal: 14m 8s\tremaining: 15m 26s\n",
            "478:\tlearn: 0.0280059\ttotal: 14m 9s\tremaining: 15m 24s\n",
            "479:\tlearn: 0.0279004\ttotal: 14m 11s\tremaining: 15m 22s\n",
            "480:\tlearn: 0.0277977\ttotal: 14m 13s\tremaining: 15m 20s\n",
            "481:\tlearn: 0.0276603\ttotal: 14m 15s\tremaining: 15m 19s\n",
            "482:\tlearn: 0.0275624\ttotal: 14m 16s\tremaining: 15m 17s\n",
            "483:\tlearn: 0.0274839\ttotal: 14m 18s\tremaining: 15m 15s\n",
            "484:\tlearn: 0.0273907\ttotal: 14m 20s\tremaining: 15m 13s\n",
            "485:\tlearn: 0.0273079\ttotal: 14m 22s\tremaining: 15m 11s\n",
            "486:\tlearn: 0.0272151\ttotal: 14m 23s\tremaining: 15m 10s\n",
            "487:\tlearn: 0.0271279\ttotal: 14m 25s\tremaining: 15m 8s\n",
            "488:\tlearn: 0.0270297\ttotal: 14m 27s\tremaining: 15m 6s\n",
            "489:\tlearn: 0.0269365\ttotal: 14m 29s\tremaining: 15m 4s\n",
            "490:\tlearn: 0.0268420\ttotal: 14m 31s\tremaining: 15m 3s\n",
            "491:\tlearn: 0.0267630\ttotal: 14m 32s\tremaining: 15m 1s\n",
            "492:\tlearn: 0.0266911\ttotal: 14m 34s\tremaining: 14m 59s\n",
            "493:\tlearn: 0.0266071\ttotal: 14m 36s\tremaining: 14m 57s\n",
            "494:\tlearn: 0.0264995\ttotal: 14m 38s\tremaining: 14m 55s\n",
            "495:\tlearn: 0.0264065\ttotal: 14m 39s\tremaining: 14m 54s\n",
            "496:\tlearn: 0.0263093\ttotal: 14m 41s\tremaining: 14m 52s\n",
            "497:\tlearn: 0.0262398\ttotal: 14m 43s\tremaining: 14m 50s\n",
            "498:\tlearn: 0.0261759\ttotal: 14m 45s\tremaining: 14m 48s\n",
            "499:\tlearn: 0.0260865\ttotal: 14m 46s\tremaining: 14m 46s\n",
            "500:\tlearn: 0.0259806\ttotal: 14m 48s\tremaining: 14m 45s\n",
            "501:\tlearn: 0.0258987\ttotal: 14m 50s\tremaining: 14m 43s\n",
            "502:\tlearn: 0.0258272\ttotal: 14m 52s\tremaining: 14m 41s\n",
            "503:\tlearn: 0.0257134\ttotal: 14m 53s\tremaining: 14m 39s\n",
            "504:\tlearn: 0.0256415\ttotal: 14m 55s\tremaining: 14m 38s\n",
            "505:\tlearn: 0.0255379\ttotal: 14m 57s\tremaining: 14m 36s\n",
            "506:\tlearn: 0.0254460\ttotal: 14m 59s\tremaining: 14m 34s\n",
            "507:\tlearn: 0.0253618\ttotal: 15m 1s\tremaining: 14m 32s\n",
            "508:\tlearn: 0.0252660\ttotal: 15m 2s\tremaining: 14m 30s\n",
            "509:\tlearn: 0.0251816\ttotal: 15m 4s\tremaining: 14m 29s\n",
            "510:\tlearn: 0.0250791\ttotal: 15m 6s\tremaining: 14m 27s\n",
            "511:\tlearn: 0.0250220\ttotal: 15m 8s\tremaining: 14m 25s\n",
            "512:\tlearn: 0.0249290\ttotal: 15m 9s\tremaining: 14m 23s\n",
            "513:\tlearn: 0.0248259\ttotal: 15m 11s\tremaining: 14m 22s\n",
            "514:\tlearn: 0.0247452\ttotal: 15m 13s\tremaining: 14m 20s\n",
            "515:\tlearn: 0.0246803\ttotal: 15m 15s\tremaining: 14m 18s\n",
            "516:\tlearn: 0.0246236\ttotal: 15m 16s\tremaining: 14m 16s\n",
            "517:\tlearn: 0.0245750\ttotal: 15m 18s\tremaining: 14m 14s\n",
            "518:\tlearn: 0.0244982\ttotal: 15m 20s\tremaining: 14m 13s\n",
            "519:\tlearn: 0.0244286\ttotal: 15m 22s\tremaining: 14m 11s\n",
            "520:\tlearn: 0.0243753\ttotal: 15m 24s\tremaining: 14m 9s\n",
            "521:\tlearn: 0.0243050\ttotal: 15m 25s\tremaining: 14m 7s\n",
            "522:\tlearn: 0.0242339\ttotal: 15m 27s\tremaining: 14m 5s\n",
            "523:\tlearn: 0.0241599\ttotal: 15m 29s\tremaining: 14m 4s\n",
            "524:\tlearn: 0.0241227\ttotal: 15m 31s\tremaining: 14m 2s\n",
            "525:\tlearn: 0.0240932\ttotal: 15m 32s\tremaining: 14m\n",
            "526:\tlearn: 0.0240177\ttotal: 15m 34s\tremaining: 13m 58s\n",
            "527:\tlearn: 0.0239660\ttotal: 15m 36s\tremaining: 13m 57s\n",
            "528:\tlearn: 0.0238880\ttotal: 15m 38s\tremaining: 13m 55s\n",
            "529:\tlearn: 0.0237971\ttotal: 15m 40s\tremaining: 13m 53s\n",
            "530:\tlearn: 0.0237008\ttotal: 15m 41s\tremaining: 13m 51s\n",
            "531:\tlearn: 0.0236219\ttotal: 15m 43s\tremaining: 13m 50s\n",
            "532:\tlearn: 0.0235542\ttotal: 15m 45s\tremaining: 13m 48s\n",
            "533:\tlearn: 0.0234599\ttotal: 15m 47s\tremaining: 13m 46s\n",
            "534:\tlearn: 0.0233958\ttotal: 15m 48s\tremaining: 13m 44s\n",
            "535:\tlearn: 0.0233223\ttotal: 15m 50s\tremaining: 13m 42s\n",
            "536:\tlearn: 0.0232295\ttotal: 15m 52s\tremaining: 13m 41s\n",
            "537:\tlearn: 0.0231479\ttotal: 15m 54s\tremaining: 13m 39s\n",
            "538:\tlearn: 0.0230847\ttotal: 15m 55s\tremaining: 13m 37s\n",
            "539:\tlearn: 0.0230274\ttotal: 15m 57s\tremaining: 13m 35s\n",
            "540:\tlearn: 0.0229559\ttotal: 15m 59s\tremaining: 13m 34s\n",
            "541:\tlearn: 0.0228660\ttotal: 16m 1s\tremaining: 13m 32s\n",
            "542:\tlearn: 0.0228110\ttotal: 16m 3s\tremaining: 13m 30s\n",
            "543:\tlearn: 0.0227656\ttotal: 16m 4s\tremaining: 13m 28s\n",
            "544:\tlearn: 0.0227044\ttotal: 16m 6s\tremaining: 13m 26s\n",
            "545:\tlearn: 0.0226042\ttotal: 16m 8s\tremaining: 13m 25s\n",
            "546:\tlearn: 0.0225177\ttotal: 16m 10s\tremaining: 13m 23s\n",
            "547:\tlearn: 0.0224709\ttotal: 16m 11s\tremaining: 13m 21s\n",
            "548:\tlearn: 0.0223683\ttotal: 16m 13s\tremaining: 13m 19s\n",
            "549:\tlearn: 0.0222993\ttotal: 16m 15s\tremaining: 13m 18s\n",
            "550:\tlearn: 0.0222276\ttotal: 16m 17s\tremaining: 13m 16s\n",
            "551:\tlearn: 0.0221554\ttotal: 16m 18s\tremaining: 13m 14s\n",
            "552:\tlearn: 0.0221077\ttotal: 16m 20s\tremaining: 13m 12s\n",
            "553:\tlearn: 0.0220406\ttotal: 16m 22s\tremaining: 13m 10s\n",
            "554:\tlearn: 0.0219772\ttotal: 16m 24s\tremaining: 13m 9s\n",
            "555:\tlearn: 0.0219179\ttotal: 16m 25s\tremaining: 13m 7s\n",
            "556:\tlearn: 0.0218426\ttotal: 16m 27s\tremaining: 13m 5s\n",
            "557:\tlearn: 0.0217896\ttotal: 16m 29s\tremaining: 13m 3s\n",
            "558:\tlearn: 0.0217354\ttotal: 16m 31s\tremaining: 13m 2s\n",
            "559:\tlearn: 0.0216775\ttotal: 16m 33s\tremaining: 13m\n",
            "560:\tlearn: 0.0216349\ttotal: 16m 34s\tremaining: 12m 58s\n",
            "561:\tlearn: 0.0215793\ttotal: 16m 36s\tremaining: 12m 56s\n",
            "562:\tlearn: 0.0214950\ttotal: 16m 38s\tremaining: 12m 54s\n",
            "563:\tlearn: 0.0214488\ttotal: 16m 40s\tremaining: 12m 53s\n",
            "564:\tlearn: 0.0213969\ttotal: 16m 41s\tremaining: 12m 51s\n",
            "565:\tlearn: 0.0213242\ttotal: 16m 43s\tremaining: 12m 49s\n",
            "566:\tlearn: 0.0212826\ttotal: 16m 45s\tremaining: 12m 47s\n",
            "567:\tlearn: 0.0212344\ttotal: 16m 47s\tremaining: 12m 46s\n",
            "568:\tlearn: 0.0211751\ttotal: 16m 48s\tremaining: 12m 44s\n",
            "569:\tlearn: 0.0211251\ttotal: 16m 50s\tremaining: 12m 42s\n",
            "570:\tlearn: 0.0210531\ttotal: 16m 52s\tremaining: 12m 40s\n",
            "571:\tlearn: 0.0209984\ttotal: 16m 54s\tremaining: 12m 38s\n",
            "572:\tlearn: 0.0209186\ttotal: 16m 55s\tremaining: 12m 37s\n",
            "573:\tlearn: 0.0208643\ttotal: 16m 57s\tremaining: 12m 35s\n",
            "574:\tlearn: 0.0208274\ttotal: 16m 59s\tremaining: 12m 33s\n",
            "575:\tlearn: 0.0208015\ttotal: 17m 1s\tremaining: 12m 31s\n",
            "576:\tlearn: 0.0207410\ttotal: 17m 2s\tremaining: 12m 29s\n",
            "577:\tlearn: 0.0207191\ttotal: 17m 4s\tremaining: 12m 28s\n",
            "578:\tlearn: 0.0206654\ttotal: 17m 6s\tremaining: 12m 26s\n",
            "579:\tlearn: 0.0206069\ttotal: 17m 8s\tremaining: 12m 24s\n",
            "580:\tlearn: 0.0205676\ttotal: 17m 10s\tremaining: 12m 22s\n",
            "581:\tlearn: 0.0205128\ttotal: 17m 11s\tremaining: 12m 21s\n",
            "582:\tlearn: 0.0204298\ttotal: 17m 13s\tremaining: 12m 19s\n",
            "583:\tlearn: 0.0203776\ttotal: 17m 15s\tremaining: 12m 17s\n",
            "584:\tlearn: 0.0203446\ttotal: 17m 17s\tremaining: 12m 15s\n",
            "585:\tlearn: 0.0203107\ttotal: 17m 18s\tremaining: 12m 13s\n",
            "586:\tlearn: 0.0202466\ttotal: 17m 20s\tremaining: 12m 12s\n",
            "587:\tlearn: 0.0201672\ttotal: 17m 22s\tremaining: 12m 10s\n",
            "588:\tlearn: 0.0201196\ttotal: 17m 24s\tremaining: 12m 8s\n",
            "589:\tlearn: 0.0200674\ttotal: 17m 25s\tremaining: 12m 6s\n",
            "590:\tlearn: 0.0199991\ttotal: 17m 27s\tremaining: 12m 5s\n",
            "591:\tlearn: 0.0199131\ttotal: 17m 29s\tremaining: 12m 3s\n",
            "592:\tlearn: 0.0198428\ttotal: 17m 31s\tremaining: 12m 1s\n",
            "593:\tlearn: 0.0197893\ttotal: 17m 32s\tremaining: 11m 59s\n",
            "594:\tlearn: 0.0197436\ttotal: 17m 34s\tremaining: 11m 57s\n",
            "595:\tlearn: 0.0196841\ttotal: 17m 36s\tremaining: 11m 56s\n",
            "596:\tlearn: 0.0195981\ttotal: 17m 38s\tremaining: 11m 54s\n",
            "597:\tlearn: 0.0195433\ttotal: 17m 39s\tremaining: 11m 52s\n",
            "598:\tlearn: 0.0194995\ttotal: 17m 41s\tremaining: 11m 50s\n",
            "599:\tlearn: 0.0194281\ttotal: 17m 43s\tremaining: 11m 48s\n",
            "600:\tlearn: 0.0193501\ttotal: 17m 45s\tremaining: 11m 47s\n",
            "601:\tlearn: 0.0193028\ttotal: 17m 46s\tremaining: 11m 45s\n",
            "602:\tlearn: 0.0192497\ttotal: 17m 48s\tremaining: 11m 43s\n",
            "603:\tlearn: 0.0191876\ttotal: 17m 50s\tremaining: 11m 41s\n",
            "604:\tlearn: 0.0191477\ttotal: 17m 52s\tremaining: 11m 40s\n",
            "605:\tlearn: 0.0190951\ttotal: 17m 54s\tremaining: 11m 38s\n",
            "606:\tlearn: 0.0190315\ttotal: 17m 55s\tremaining: 11m 36s\n",
            "607:\tlearn: 0.0189492\ttotal: 17m 57s\tremaining: 11m 34s\n",
            "608:\tlearn: 0.0188911\ttotal: 17m 59s\tremaining: 11m 32s\n",
            "609:\tlearn: 0.0188417\ttotal: 18m 1s\tremaining: 11m 31s\n",
            "610:\tlearn: 0.0187803\ttotal: 18m 2s\tremaining: 11m 29s\n",
            "611:\tlearn: 0.0187244\ttotal: 18m 4s\tremaining: 11m 27s\n",
            "612:\tlearn: 0.0186754\ttotal: 18m 6s\tremaining: 11m 25s\n",
            "613:\tlearn: 0.0186346\ttotal: 18m 8s\tremaining: 11m 24s\n",
            "614:\tlearn: 0.0185751\ttotal: 18m 9s\tremaining: 11m 22s\n",
            "615:\tlearn: 0.0185120\ttotal: 18m 11s\tremaining: 11m 20s\n",
            "616:\tlearn: 0.0184777\ttotal: 18m 13s\tremaining: 11m 18s\n",
            "617:\tlearn: 0.0184327\ttotal: 18m 15s\tremaining: 11m 17s\n",
            "618:\tlearn: 0.0183991\ttotal: 18m 17s\tremaining: 11m 15s\n",
            "619:\tlearn: 0.0183305\ttotal: 18m 18s\tremaining: 11m 13s\n",
            "620:\tlearn: 0.0182749\ttotal: 18m 20s\tremaining: 11m 11s\n",
            "621:\tlearn: 0.0182300\ttotal: 18m 22s\tremaining: 11m 9s\n",
            "622:\tlearn: 0.0181787\ttotal: 18m 24s\tremaining: 11m 8s\n",
            "623:\tlearn: 0.0181397\ttotal: 18m 25s\tremaining: 11m 6s\n",
            "624:\tlearn: 0.0181062\ttotal: 18m 27s\tremaining: 11m 4s\n",
            "625:\tlearn: 0.0180716\ttotal: 18m 29s\tremaining: 11m 2s\n",
            "626:\tlearn: 0.0180317\ttotal: 18m 31s\tremaining: 11m 1s\n",
            "627:\tlearn: 0.0179739\ttotal: 18m 32s\tremaining: 10m 59s\n",
            "628:\tlearn: 0.0178776\ttotal: 18m 34s\tremaining: 10m 57s\n",
            "629:\tlearn: 0.0178527\ttotal: 18m 36s\tremaining: 10m 55s\n",
            "630:\tlearn: 0.0178196\ttotal: 18m 38s\tremaining: 10m 53s\n",
            "631:\tlearn: 0.0177855\ttotal: 18m 39s\tremaining: 10m 52s\n",
            "632:\tlearn: 0.0177293\ttotal: 18m 41s\tremaining: 10m 50s\n",
            "633:\tlearn: 0.0176849\ttotal: 18m 43s\tremaining: 10m 48s\n",
            "634:\tlearn: 0.0176513\ttotal: 18m 45s\tremaining: 10m 46s\n",
            "635:\tlearn: 0.0176135\ttotal: 18m 47s\tremaining: 10m 45s\n",
            "636:\tlearn: 0.0175745\ttotal: 18m 48s\tremaining: 10m 43s\n",
            "637:\tlearn: 0.0175212\ttotal: 18m 50s\tremaining: 10m 41s\n",
            "638:\tlearn: 0.0174749\ttotal: 18m 52s\tremaining: 10m 39s\n",
            "639:\tlearn: 0.0174348\ttotal: 18m 54s\tremaining: 10m 37s\n",
            "640:\tlearn: 0.0173868\ttotal: 18m 55s\tremaining: 10m 36s\n",
            "641:\tlearn: 0.0173619\ttotal: 18m 57s\tremaining: 10m 34s\n",
            "642:\tlearn: 0.0173162\ttotal: 18m 59s\tremaining: 10m 32s\n",
            "643:\tlearn: 0.0172719\ttotal: 19m 1s\tremaining: 10m 30s\n",
            "644:\tlearn: 0.0172167\ttotal: 19m 2s\tremaining: 10m 29s\n",
            "645:\tlearn: 0.0171746\ttotal: 19m 4s\tremaining: 10m 27s\n",
            "646:\tlearn: 0.0171170\ttotal: 19m 6s\tremaining: 10m 25s\n",
            "647:\tlearn: 0.0170780\ttotal: 19m 8s\tremaining: 10m 23s\n",
            "648:\tlearn: 0.0170424\ttotal: 19m 10s\tremaining: 10m 21s\n",
            "649:\tlearn: 0.0169760\ttotal: 19m 11s\tremaining: 10m 20s\n",
            "650:\tlearn: 0.0169242\ttotal: 19m 13s\tremaining: 10m 18s\n",
            "651:\tlearn: 0.0168846\ttotal: 19m 15s\tremaining: 10m 16s\n",
            "652:\tlearn: 0.0168628\ttotal: 19m 17s\tremaining: 10m 14s\n",
            "653:\tlearn: 0.0168221\ttotal: 19m 18s\tremaining: 10m 13s\n",
            "654:\tlearn: 0.0168027\ttotal: 19m 20s\tremaining: 10m 11s\n",
            "655:\tlearn: 0.0167741\ttotal: 19m 22s\tremaining: 10m 9s\n",
            "656:\tlearn: 0.0167380\ttotal: 19m 24s\tremaining: 10m 7s\n",
            "657:\tlearn: 0.0166815\ttotal: 19m 25s\tremaining: 10m 6s\n",
            "658:\tlearn: 0.0166371\ttotal: 19m 27s\tremaining: 10m 4s\n",
            "659:\tlearn: 0.0165933\ttotal: 19m 29s\tremaining: 10m 2s\n",
            "660:\tlearn: 0.0165707\ttotal: 19m 31s\tremaining: 10m\n",
            "661:\tlearn: 0.0165145\ttotal: 19m 32s\tremaining: 9m 58s\n",
            "662:\tlearn: 0.0164863\ttotal: 19m 34s\tremaining: 9m 57s\n",
            "663:\tlearn: 0.0164561\ttotal: 19m 36s\tremaining: 9m 55s\n",
            "664:\tlearn: 0.0164192\ttotal: 19m 38s\tremaining: 9m 53s\n",
            "665:\tlearn: 0.0163758\ttotal: 19m 40s\tremaining: 9m 51s\n",
            "666:\tlearn: 0.0163594\ttotal: 19m 41s\tremaining: 9m 50s\n",
            "667:\tlearn: 0.0163255\ttotal: 19m 43s\tremaining: 9m 48s\n",
            "668:\tlearn: 0.0162993\ttotal: 19m 45s\tremaining: 9m 46s\n",
            "669:\tlearn: 0.0162608\ttotal: 19m 47s\tremaining: 9m 44s\n",
            "670:\tlearn: 0.0162143\ttotal: 19m 48s\tremaining: 9m 42s\n",
            "671:\tlearn: 0.0161657\ttotal: 19m 50s\tremaining: 9m 41s\n",
            "672:\tlearn: 0.0161309\ttotal: 19m 52s\tremaining: 9m 39s\n",
            "673:\tlearn: 0.0160765\ttotal: 19m 54s\tremaining: 9m 37s\n",
            "674:\tlearn: 0.0160407\ttotal: 19m 56s\tremaining: 9m 35s\n",
            "675:\tlearn: 0.0159988\ttotal: 19m 57s\tremaining: 9m 34s\n",
            "676:\tlearn: 0.0159434\ttotal: 19m 59s\tremaining: 9m 32s\n",
            "677:\tlearn: 0.0159062\ttotal: 20m 1s\tremaining: 9m 30s\n",
            "678:\tlearn: 0.0158704\ttotal: 20m 3s\tremaining: 9m 28s\n",
            "679:\tlearn: 0.0158277\ttotal: 20m 4s\tremaining: 9m 27s\n",
            "680:\tlearn: 0.0157929\ttotal: 20m 6s\tremaining: 9m 25s\n",
            "681:\tlearn: 0.0157669\ttotal: 20m 8s\tremaining: 9m 23s\n",
            "682:\tlearn: 0.0157343\ttotal: 20m 10s\tremaining: 9m 21s\n",
            "683:\tlearn: 0.0157081\ttotal: 20m 12s\tremaining: 9m 19s\n",
            "684:\tlearn: 0.0156611\ttotal: 20m 13s\tremaining: 9m 18s\n",
            "685:\tlearn: 0.0156265\ttotal: 20m 15s\tremaining: 9m 16s\n",
            "686:\tlearn: 0.0155827\ttotal: 20m 17s\tremaining: 9m 14s\n",
            "687:\tlearn: 0.0155435\ttotal: 20m 19s\tremaining: 9m 12s\n",
            "688:\tlearn: 0.0155084\ttotal: 20m 20s\tremaining: 9m 11s\n",
            "689:\tlearn: 0.0154714\ttotal: 20m 22s\tremaining: 9m 9s\n",
            "690:\tlearn: 0.0154438\ttotal: 20m 24s\tremaining: 9m 7s\n",
            "691:\tlearn: 0.0154158\ttotal: 20m 26s\tremaining: 9m 5s\n",
            "692:\tlearn: 0.0153831\ttotal: 20m 28s\tremaining: 9m 4s\n",
            "693:\tlearn: 0.0153509\ttotal: 20m 29s\tremaining: 9m 2s\n",
            "694:\tlearn: 0.0153150\ttotal: 20m 31s\tremaining: 9m\n",
            "695:\tlearn: 0.0152914\ttotal: 20m 33s\tremaining: 8m 58s\n",
            "696:\tlearn: 0.0152336\ttotal: 20m 35s\tremaining: 8m 56s\n",
            "697:\tlearn: 0.0152017\ttotal: 20m 37s\tremaining: 8m 55s\n",
            "698:\tlearn: 0.0151486\ttotal: 20m 38s\tremaining: 8m 53s\n",
            "699:\tlearn: 0.0151179\ttotal: 20m 40s\tremaining: 8m 51s\n",
            "700:\tlearn: 0.0150889\ttotal: 20m 42s\tremaining: 8m 49s\n",
            "701:\tlearn: 0.0150613\ttotal: 20m 44s\tremaining: 8m 48s\n",
            "702:\tlearn: 0.0150121\ttotal: 20m 45s\tremaining: 8m 46s\n",
            "703:\tlearn: 0.0149739\ttotal: 20m 47s\tremaining: 8m 44s\n",
            "704:\tlearn: 0.0149454\ttotal: 20m 49s\tremaining: 8m 42s\n",
            "705:\tlearn: 0.0149113\ttotal: 20m 51s\tremaining: 8m 41s\n",
            "706:\tlearn: 0.0148714\ttotal: 20m 53s\tremaining: 8m 39s\n",
            "707:\tlearn: 0.0148412\ttotal: 20m 54s\tremaining: 8m 37s\n",
            "708:\tlearn: 0.0148170\ttotal: 20m 56s\tremaining: 8m 35s\n",
            "709:\tlearn: 0.0147808\ttotal: 20m 58s\tremaining: 8m 33s\n",
            "710:\tlearn: 0.0147423\ttotal: 21m\tremaining: 8m 32s\n",
            "711:\tlearn: 0.0146781\ttotal: 21m 1s\tremaining: 8m 30s\n",
            "712:\tlearn: 0.0146512\ttotal: 21m 3s\tremaining: 8m 28s\n",
            "713:\tlearn: 0.0146154\ttotal: 21m 5s\tremaining: 8m 26s\n",
            "714:\tlearn: 0.0145841\ttotal: 21m 7s\tremaining: 8m 25s\n",
            "715:\tlearn: 0.0145575\ttotal: 21m 8s\tremaining: 8m 23s\n",
            "716:\tlearn: 0.0145266\ttotal: 21m 10s\tremaining: 8m 21s\n",
            "717:\tlearn: 0.0144926\ttotal: 21m 12s\tremaining: 8m 19s\n",
            "718:\tlearn: 0.0144695\ttotal: 21m 14s\tremaining: 8m 18s\n",
            "719:\tlearn: 0.0144287\ttotal: 21m 16s\tremaining: 8m 16s\n",
            "720:\tlearn: 0.0143892\ttotal: 21m 17s\tremaining: 8m 14s\n",
            "721:\tlearn: 0.0143636\ttotal: 21m 19s\tremaining: 8m 12s\n",
            "722:\tlearn: 0.0143352\ttotal: 21m 21s\tremaining: 8m 10s\n",
            "723:\tlearn: 0.0143068\ttotal: 21m 23s\tremaining: 8m 9s\n",
            "724:\tlearn: 0.0142791\ttotal: 21m 24s\tremaining: 8m 7s\n",
            "725:\tlearn: 0.0142502\ttotal: 21m 26s\tremaining: 8m 5s\n",
            "726:\tlearn: 0.0142358\ttotal: 21m 28s\tremaining: 8m 3s\n",
            "727:\tlearn: 0.0141981\ttotal: 21m 30s\tremaining: 8m 2s\n",
            "728:\tlearn: 0.0141804\ttotal: 21m 31s\tremaining: 8m\n",
            "729:\tlearn: 0.0141459\ttotal: 21m 33s\tremaining: 7m 58s\n",
            "730:\tlearn: 0.0141168\ttotal: 21m 35s\tremaining: 7m 56s\n",
            "731:\tlearn: 0.0140933\ttotal: 21m 37s\tremaining: 7m 54s\n",
            "732:\tlearn: 0.0140642\ttotal: 21m 38s\tremaining: 7m 53s\n",
            "733:\tlearn: 0.0140330\ttotal: 21m 40s\tremaining: 7m 51s\n",
            "734:\tlearn: 0.0140104\ttotal: 21m 42s\tremaining: 7m 49s\n",
            "735:\tlearn: 0.0139725\ttotal: 21m 44s\tremaining: 7m 47s\n",
            "736:\tlearn: 0.0139346\ttotal: 21m 46s\tremaining: 7m 46s\n",
            "737:\tlearn: 0.0139118\ttotal: 21m 47s\tremaining: 7m 44s\n",
            "738:\tlearn: 0.0138651\ttotal: 21m 49s\tremaining: 7m 42s\n",
            "739:\tlearn: 0.0138233\ttotal: 21m 51s\tremaining: 7m 40s\n",
            "740:\tlearn: 0.0137792\ttotal: 21m 53s\tremaining: 7m 38s\n",
            "741:\tlearn: 0.0137488\ttotal: 21m 54s\tremaining: 7m 37s\n",
            "742:\tlearn: 0.0137060\ttotal: 21m 56s\tremaining: 7m 35s\n",
            "743:\tlearn: 0.0136615\ttotal: 21m 58s\tremaining: 7m 33s\n",
            "744:\tlearn: 0.0136451\ttotal: 22m\tremaining: 7m 31s\n",
            "745:\tlearn: 0.0136223\ttotal: 22m 2s\tremaining: 7m 30s\n",
            "746:\tlearn: 0.0135974\ttotal: 22m 3s\tremaining: 7m 28s\n",
            "747:\tlearn: 0.0135692\ttotal: 22m 5s\tremaining: 7m 26s\n",
            "748:\tlearn: 0.0135505\ttotal: 22m 7s\tremaining: 7m 24s\n",
            "749:\tlearn: 0.0135075\ttotal: 22m 9s\tremaining: 7m 23s\n",
            "750:\tlearn: 0.0134828\ttotal: 22m 10s\tremaining: 7m 21s\n",
            "751:\tlearn: 0.0134541\ttotal: 22m 12s\tremaining: 7m 19s\n",
            "752:\tlearn: 0.0134176\ttotal: 22m 14s\tremaining: 7m 17s\n",
            "753:\tlearn: 0.0133953\ttotal: 22m 16s\tremaining: 7m 15s\n",
            "754:\tlearn: 0.0133702\ttotal: 22m 17s\tremaining: 7m 14s\n",
            "755:\tlearn: 0.0133421\ttotal: 22m 19s\tremaining: 7m 12s\n",
            "756:\tlearn: 0.0133143\ttotal: 22m 21s\tremaining: 7m 10s\n",
            "757:\tlearn: 0.0132875\ttotal: 22m 23s\tremaining: 7m 8s\n",
            "758:\tlearn: 0.0132485\ttotal: 22m 24s\tremaining: 7m 7s\n",
            "759:\tlearn: 0.0132309\ttotal: 22m 26s\tremaining: 7m 5s\n",
            "760:\tlearn: 0.0132069\ttotal: 22m 28s\tremaining: 7m 3s\n",
            "761:\tlearn: 0.0131797\ttotal: 22m 30s\tremaining: 7m 1s\n",
            "762:\tlearn: 0.0131698\ttotal: 22m 32s\tremaining: 6m 59s\n",
            "763:\tlearn: 0.0131494\ttotal: 22m 33s\tremaining: 6m 58s\n",
            "764:\tlearn: 0.0131206\ttotal: 22m 35s\tremaining: 6m 56s\n",
            "765:\tlearn: 0.0130847\ttotal: 22m 37s\tremaining: 6m 54s\n",
            "766:\tlearn: 0.0130596\ttotal: 22m 39s\tremaining: 6m 52s\n",
            "767:\tlearn: 0.0130361\ttotal: 22m 40s\tremaining: 6m 51s\n",
            "768:\tlearn: 0.0129928\ttotal: 22m 42s\tremaining: 6m 49s\n",
            "769:\tlearn: 0.0129644\ttotal: 22m 44s\tremaining: 6m 47s\n",
            "770:\tlearn: 0.0129208\ttotal: 22m 46s\tremaining: 6m 45s\n",
            "771:\tlearn: 0.0129092\ttotal: 22m 47s\tremaining: 6m 43s\n",
            "772:\tlearn: 0.0128825\ttotal: 22m 49s\tremaining: 6m 42s\n",
            "773:\tlearn: 0.0128705\ttotal: 22m 51s\tremaining: 6m 40s\n",
            "774:\tlearn: 0.0128397\ttotal: 22m 53s\tremaining: 6m 38s\n",
            "775:\tlearn: 0.0128070\ttotal: 22m 54s\tremaining: 6m 36s\n",
            "776:\tlearn: 0.0127781\ttotal: 22m 56s\tremaining: 6m 35s\n",
            "777:\tlearn: 0.0127466\ttotal: 22m 58s\tremaining: 6m 33s\n",
            "778:\tlearn: 0.0127337\ttotal: 23m\tremaining: 6m 31s\n",
            "779:\tlearn: 0.0127076\ttotal: 23m 2s\tremaining: 6m 29s\n",
            "780:\tlearn: 0.0126848\ttotal: 23m 3s\tremaining: 6m 28s\n",
            "781:\tlearn: 0.0126637\ttotal: 23m 5s\tremaining: 6m 26s\n",
            "782:\tlearn: 0.0126360\ttotal: 23m 7s\tremaining: 6m 24s\n",
            "783:\tlearn: 0.0126115\ttotal: 23m 9s\tremaining: 6m 22s\n",
            "784:\tlearn: 0.0125909\ttotal: 23m 10s\tremaining: 6m 20s\n",
            "785:\tlearn: 0.0125627\ttotal: 23m 12s\tremaining: 6m 19s\n",
            "786:\tlearn: 0.0125317\ttotal: 23m 14s\tremaining: 6m 17s\n",
            "787:\tlearn: 0.0125156\ttotal: 23m 16s\tremaining: 6m 15s\n",
            "788:\tlearn: 0.0124887\ttotal: 23m 17s\tremaining: 6m 13s\n",
            "789:\tlearn: 0.0124667\ttotal: 23m 19s\tremaining: 6m 12s\n",
            "790:\tlearn: 0.0124408\ttotal: 23m 21s\tremaining: 6m 10s\n",
            "791:\tlearn: 0.0124261\ttotal: 23m 23s\tremaining: 6m 8s\n",
            "792:\tlearn: 0.0124122\ttotal: 23m 25s\tremaining: 6m 6s\n",
            "793:\tlearn: 0.0123948\ttotal: 23m 26s\tremaining: 6m 4s\n",
            "794:\tlearn: 0.0123733\ttotal: 23m 28s\tremaining: 6m 3s\n",
            "795:\tlearn: 0.0123483\ttotal: 23m 30s\tremaining: 6m 1s\n",
            "796:\tlearn: 0.0123283\ttotal: 23m 32s\tremaining: 5m 59s\n",
            "797:\tlearn: 0.0123067\ttotal: 23m 33s\tremaining: 5m 57s\n",
            "798:\tlearn: 0.0122832\ttotal: 23m 35s\tremaining: 5m 56s\n",
            "799:\tlearn: 0.0122541\ttotal: 23m 37s\tremaining: 5m 54s\n",
            "800:\tlearn: 0.0122379\ttotal: 23m 39s\tremaining: 5m 52s\n",
            "801:\tlearn: 0.0122090\ttotal: 23m 40s\tremaining: 5m 50s\n",
            "802:\tlearn: 0.0121931\ttotal: 23m 42s\tremaining: 5m 49s\n",
            "803:\tlearn: 0.0121680\ttotal: 23m 44s\tremaining: 5m 47s\n",
            "804:\tlearn: 0.0121437\ttotal: 23m 46s\tremaining: 5m 45s\n",
            "805:\tlearn: 0.0121186\ttotal: 23m 48s\tremaining: 5m 43s\n",
            "806:\tlearn: 0.0120938\ttotal: 23m 49s\tremaining: 5m 41s\n",
            "807:\tlearn: 0.0120645\ttotal: 23m 51s\tremaining: 5m 40s\n",
            "808:\tlearn: 0.0120392\ttotal: 23m 53s\tremaining: 5m 38s\n",
            "809:\tlearn: 0.0120193\ttotal: 23m 55s\tremaining: 5m 36s\n",
            "810:\tlearn: 0.0120035\ttotal: 23m 56s\tremaining: 5m 34s\n",
            "811:\tlearn: 0.0119797\ttotal: 23m 58s\tremaining: 5m 33s\n",
            "812:\tlearn: 0.0119510\ttotal: 24m\tremaining: 5m 31s\n",
            "813:\tlearn: 0.0119257\ttotal: 24m 2s\tremaining: 5m 29s\n",
            "814:\tlearn: 0.0119080\ttotal: 24m 4s\tremaining: 5m 27s\n",
            "815:\tlearn: 0.0118844\ttotal: 24m 5s\tremaining: 5m 26s\n",
            "816:\tlearn: 0.0118650\ttotal: 24m 7s\tremaining: 5m 24s\n",
            "817:\tlearn: 0.0118428\ttotal: 24m 9s\tremaining: 5m 22s\n",
            "818:\tlearn: 0.0118132\ttotal: 24m 11s\tremaining: 5m 20s\n",
            "819:\tlearn: 0.0117994\ttotal: 24m 12s\tremaining: 5m 18s\n",
            "820:\tlearn: 0.0117674\ttotal: 24m 14s\tremaining: 5m 17s\n",
            "821:\tlearn: 0.0117396\ttotal: 24m 16s\tremaining: 5m 15s\n",
            "822:\tlearn: 0.0117227\ttotal: 24m 18s\tremaining: 5m 13s\n",
            "823:\tlearn: 0.0116984\ttotal: 24m 20s\tremaining: 5m 11s\n",
            "824:\tlearn: 0.0116746\ttotal: 24m 21s\tremaining: 5m 10s\n",
            "825:\tlearn: 0.0116592\ttotal: 24m 23s\tremaining: 5m 8s\n",
            "826:\tlearn: 0.0116274\ttotal: 24m 25s\tremaining: 5m 6s\n",
            "827:\tlearn: 0.0116052\ttotal: 24m 27s\tremaining: 5m 4s\n",
            "828:\tlearn: 0.0115906\ttotal: 24m 28s\tremaining: 5m 2s\n",
            "829:\tlearn: 0.0115717\ttotal: 24m 30s\tremaining: 5m 1s\n",
            "830:\tlearn: 0.0115431\ttotal: 24m 32s\tremaining: 4m 59s\n",
            "831:\tlearn: 0.0115195\ttotal: 24m 34s\tremaining: 4m 57s\n",
            "832:\tlearn: 0.0114959\ttotal: 24m 35s\tremaining: 4m 55s\n",
            "833:\tlearn: 0.0114780\ttotal: 24m 37s\tremaining: 4m 54s\n",
            "834:\tlearn: 0.0114616\ttotal: 24m 39s\tremaining: 4m 52s\n",
            "835:\tlearn: 0.0114357\ttotal: 24m 41s\tremaining: 4m 50s\n",
            "836:\tlearn: 0.0114100\ttotal: 24m 43s\tremaining: 4m 48s\n",
            "837:\tlearn: 0.0113865\ttotal: 24m 44s\tremaining: 4m 47s\n",
            "838:\tlearn: 0.0113665\ttotal: 24m 46s\tremaining: 4m 45s\n",
            "839:\tlearn: 0.0113526\ttotal: 24m 48s\tremaining: 4m 43s\n",
            "840:\tlearn: 0.0113296\ttotal: 24m 50s\tremaining: 4m 41s\n",
            "841:\tlearn: 0.0113073\ttotal: 24m 51s\tremaining: 4m 39s\n",
            "842:\tlearn: 0.0113003\ttotal: 24m 53s\tremaining: 4m 38s\n",
            "843:\tlearn: 0.0112814\ttotal: 24m 55s\tremaining: 4m 36s\n",
            "844:\tlearn: 0.0112493\ttotal: 24m 57s\tremaining: 4m 34s\n",
            "845:\tlearn: 0.0112272\ttotal: 24m 59s\tremaining: 4m 32s\n",
            "846:\tlearn: 0.0112045\ttotal: 25m\tremaining: 4m 31s\n",
            "847:\tlearn: 0.0111841\ttotal: 25m 2s\tremaining: 4m 29s\n",
            "848:\tlearn: 0.0111629\ttotal: 25m 4s\tremaining: 4m 27s\n",
            "849:\tlearn: 0.0111427\ttotal: 25m 6s\tremaining: 4m 25s\n",
            "850:\tlearn: 0.0111118\ttotal: 25m 7s\tremaining: 4m 24s\n",
            "851:\tlearn: 0.0110905\ttotal: 25m 9s\tremaining: 4m 22s\n",
            "852:\tlearn: 0.0110736\ttotal: 25m 11s\tremaining: 4m 20s\n",
            "853:\tlearn: 0.0110570\ttotal: 25m 13s\tremaining: 4m 18s\n",
            "854:\tlearn: 0.0110338\ttotal: 25m 14s\tremaining: 4m 16s\n",
            "855:\tlearn: 0.0110111\ttotal: 25m 16s\tremaining: 4m 15s\n",
            "856:\tlearn: 0.0109862\ttotal: 25m 18s\tremaining: 4m 13s\n",
            "857:\tlearn: 0.0109736\ttotal: 25m 20s\tremaining: 4m 11s\n",
            "858:\tlearn: 0.0109473\ttotal: 25m 21s\tremaining: 4m 9s\n",
            "859:\tlearn: 0.0109329\ttotal: 25m 23s\tremaining: 4m 8s\n",
            "860:\tlearn: 0.0109177\ttotal: 25m 25s\tremaining: 4m 6s\n",
            "861:\tlearn: 0.0109096\ttotal: 25m 27s\tremaining: 4m 4s\n",
            "862:\tlearn: 0.0108841\ttotal: 25m 29s\tremaining: 4m 2s\n",
            "863:\tlearn: 0.0108626\ttotal: 25m 30s\tremaining: 4m\n",
            "864:\tlearn: 0.0108402\ttotal: 25m 32s\tremaining: 3m 59s\n",
            "865:\tlearn: 0.0108165\ttotal: 25m 34s\tremaining: 3m 57s\n",
            "866:\tlearn: 0.0107932\ttotal: 25m 36s\tremaining: 3m 55s\n",
            "867:\tlearn: 0.0107533\ttotal: 25m 37s\tremaining: 3m 53s\n",
            "868:\tlearn: 0.0107347\ttotal: 25m 39s\tremaining: 3m 52s\n",
            "869:\tlearn: 0.0107187\ttotal: 25m 41s\tremaining: 3m 50s\n",
            "870:\tlearn: 0.0106987\ttotal: 25m 43s\tremaining: 3m 48s\n",
            "871:\tlearn: 0.0106755\ttotal: 25m 44s\tremaining: 3m 46s\n",
            "872:\tlearn: 0.0106598\ttotal: 25m 46s\tremaining: 3m 45s\n",
            "873:\tlearn: 0.0106448\ttotal: 25m 48s\tremaining: 3m 43s\n",
            "874:\tlearn: 0.0106263\ttotal: 25m 50s\tremaining: 3m 41s\n",
            "875:\tlearn: 0.0106092\ttotal: 25m 52s\tremaining: 3m 39s\n",
            "876:\tlearn: 0.0105968\ttotal: 25m 53s\tremaining: 3m 37s\n",
            "877:\tlearn: 0.0105891\ttotal: 25m 55s\tremaining: 3m 36s\n",
            "878:\tlearn: 0.0105685\ttotal: 25m 57s\tremaining: 3m 34s\n",
            "879:\tlearn: 0.0105500\ttotal: 25m 59s\tremaining: 3m 32s\n",
            "880:\tlearn: 0.0105267\ttotal: 26m\tremaining: 3m 30s\n",
            "881:\tlearn: 0.0105147\ttotal: 26m 2s\tremaining: 3m 29s\n",
            "882:\tlearn: 0.0104922\ttotal: 26m 4s\tremaining: 3m 27s\n",
            "883:\tlearn: 0.0104753\ttotal: 26m 6s\tremaining: 3m 25s\n",
            "884:\tlearn: 0.0104670\ttotal: 26m 7s\tremaining: 3m 23s\n",
            "885:\tlearn: 0.0104494\ttotal: 26m 9s\tremaining: 3m 21s\n",
            "886:\tlearn: 0.0104334\ttotal: 26m 11s\tremaining: 3m 20s\n",
            "887:\tlearn: 0.0104222\ttotal: 26m 13s\tremaining: 3m 18s\n",
            "888:\tlearn: 0.0103983\ttotal: 26m 15s\tremaining: 3m 16s\n",
            "889:\tlearn: 0.0103784\ttotal: 26m 16s\tremaining: 3m 14s\n",
            "890:\tlearn: 0.0103521\ttotal: 26m 18s\tremaining: 3m 13s\n",
            "891:\tlearn: 0.0103361\ttotal: 26m 20s\tremaining: 3m 11s\n",
            "892:\tlearn: 0.0103114\ttotal: 26m 22s\tremaining: 3m 9s\n",
            "893:\tlearn: 0.0102882\ttotal: 26m 23s\tremaining: 3m 7s\n",
            "894:\tlearn: 0.0102729\ttotal: 26m 25s\tremaining: 3m 6s\n",
            "895:\tlearn: 0.0102612\ttotal: 26m 27s\tremaining: 3m 4s\n",
            "896:\tlearn: 0.0102447\ttotal: 26m 29s\tremaining: 3m 2s\n",
            "897:\tlearn: 0.0102315\ttotal: 26m 30s\tremaining: 3m\n",
            "898:\tlearn: 0.0102193\ttotal: 26m 32s\tremaining: 2m 58s\n",
            "899:\tlearn: 0.0102037\ttotal: 26m 34s\tremaining: 2m 57s\n",
            "900:\tlearn: 0.0101917\ttotal: 26m 36s\tremaining: 2m 55s\n",
            "901:\tlearn: 0.0101640\ttotal: 26m 38s\tremaining: 2m 53s\n",
            "902:\tlearn: 0.0101430\ttotal: 26m 39s\tremaining: 2m 51s\n",
            "903:\tlearn: 0.0101255\ttotal: 26m 41s\tremaining: 2m 50s\n",
            "904:\tlearn: 0.0101094\ttotal: 26m 43s\tremaining: 2m 48s\n",
            "905:\tlearn: 0.0100971\ttotal: 26m 45s\tremaining: 2m 46s\n",
            "906:\tlearn: 0.0100779\ttotal: 26m 46s\tremaining: 2m 44s\n",
            "907:\tlearn: 0.0100645\ttotal: 26m 48s\tremaining: 2m 42s\n",
            "908:\tlearn: 0.0100440\ttotal: 26m 50s\tremaining: 2m 41s\n",
            "909:\tlearn: 0.0100301\ttotal: 26m 52s\tremaining: 2m 39s\n",
            "910:\tlearn: 0.0100168\ttotal: 26m 53s\tremaining: 2m 37s\n",
            "911:\tlearn: 0.0099972\ttotal: 26m 55s\tremaining: 2m 35s\n",
            "912:\tlearn: 0.0099718\ttotal: 26m 57s\tremaining: 2m 34s\n",
            "913:\tlearn: 0.0099587\ttotal: 26m 59s\tremaining: 2m 32s\n",
            "914:\tlearn: 0.0099440\ttotal: 27m 1s\tremaining: 2m 30s\n",
            "915:\tlearn: 0.0099271\ttotal: 27m 2s\tremaining: 2m 28s\n",
            "916:\tlearn: 0.0099044\ttotal: 27m 4s\tremaining: 2m 27s\n",
            "917:\tlearn: 0.0098833\ttotal: 27m 6s\tremaining: 2m 25s\n",
            "918:\tlearn: 0.0098678\ttotal: 27m 8s\tremaining: 2m 23s\n",
            "919:\tlearn: 0.0098557\ttotal: 27m 9s\tremaining: 2m 21s\n",
            "920:\tlearn: 0.0098339\ttotal: 27m 11s\tremaining: 2m 19s\n",
            "921:\tlearn: 0.0098195\ttotal: 27m 13s\tremaining: 2m 18s\n",
            "922:\tlearn: 0.0098039\ttotal: 27m 15s\tremaining: 2m 16s\n",
            "923:\tlearn: 0.0097824\ttotal: 27m 16s\tremaining: 2m 14s\n",
            "924:\tlearn: 0.0097693\ttotal: 27m 18s\tremaining: 2m 12s\n",
            "925:\tlearn: 0.0097487\ttotal: 27m 20s\tremaining: 2m 11s\n",
            "926:\tlearn: 0.0097358\ttotal: 27m 22s\tremaining: 2m 9s\n",
            "927:\tlearn: 0.0097177\ttotal: 27m 23s\tremaining: 2m 7s\n",
            "928:\tlearn: 0.0096987\ttotal: 27m 25s\tremaining: 2m 5s\n",
            "929:\tlearn: 0.0096810\ttotal: 27m 27s\tremaining: 2m 4s\n",
            "930:\tlearn: 0.0096692\ttotal: 27m 29s\tremaining: 2m 2s\n",
            "931:\tlearn: 0.0096553\ttotal: 27m 30s\tremaining: 2m\n",
            "932:\tlearn: 0.0096355\ttotal: 27m 32s\tremaining: 1m 58s\n",
            "933:\tlearn: 0.0096269\ttotal: 27m 34s\tremaining: 1m 56s\n",
            "934:\tlearn: 0.0096167\ttotal: 27m 36s\tremaining: 1m 55s\n",
            "935:\tlearn: 0.0095990\ttotal: 27m 38s\tremaining: 1m 53s\n",
            "936:\tlearn: 0.0095881\ttotal: 27m 39s\tremaining: 1m 51s\n",
            "937:\tlearn: 0.0095764\ttotal: 27m 41s\tremaining: 1m 49s\n",
            "938:\tlearn: 0.0095462\ttotal: 27m 43s\tremaining: 1m 48s\n",
            "939:\tlearn: 0.0095282\ttotal: 27m 45s\tremaining: 1m 46s\n",
            "940:\tlearn: 0.0095133\ttotal: 27m 46s\tremaining: 1m 44s\n",
            "941:\tlearn: 0.0095019\ttotal: 27m 48s\tremaining: 1m 42s\n",
            "942:\tlearn: 0.0094860\ttotal: 27m 50s\tremaining: 1m 40s\n",
            "943:\tlearn: 0.0094699\ttotal: 27m 52s\tremaining: 1m 39s\n",
            "944:\tlearn: 0.0094585\ttotal: 27m 53s\tremaining: 1m 37s\n",
            "945:\tlearn: 0.0094449\ttotal: 27m 55s\tremaining: 1m 35s\n",
            "946:\tlearn: 0.0094324\ttotal: 27m 57s\tremaining: 1m 33s\n",
            "947:\tlearn: 0.0094181\ttotal: 27m 59s\tremaining: 1m 32s\n",
            "948:\tlearn: 0.0094037\ttotal: 28m\tremaining: 1m 30s\n",
            "949:\tlearn: 0.0093902\ttotal: 28m 2s\tremaining: 1m 28s\n",
            "950:\tlearn: 0.0093801\ttotal: 28m 4s\tremaining: 1m 26s\n",
            "951:\tlearn: 0.0093673\ttotal: 28m 6s\tremaining: 1m 25s\n",
            "952:\tlearn: 0.0093605\ttotal: 28m 8s\tremaining: 1m 23s\n",
            "953:\tlearn: 0.0093412\ttotal: 28m 9s\tremaining: 1m 21s\n",
            "954:\tlearn: 0.0093317\ttotal: 28m 11s\tremaining: 1m 19s\n",
            "955:\tlearn: 0.0093110\ttotal: 28m 13s\tremaining: 1m 17s\n",
            "956:\tlearn: 0.0092969\ttotal: 28m 15s\tremaining: 1m 16s\n",
            "957:\tlearn: 0.0092789\ttotal: 28m 16s\tremaining: 1m 14s\n",
            "958:\tlearn: 0.0092676\ttotal: 28m 18s\tremaining: 1m 12s\n",
            "959:\tlearn: 0.0092479\ttotal: 28m 20s\tremaining: 1m 10s\n",
            "960:\tlearn: 0.0092332\ttotal: 28m 22s\tremaining: 1m 9s\n",
            "961:\tlearn: 0.0092210\ttotal: 28m 23s\tremaining: 1m 7s\n",
            "962:\tlearn: 0.0092089\ttotal: 28m 25s\tremaining: 1m 5s\n",
            "963:\tlearn: 0.0091966\ttotal: 28m 27s\tremaining: 1m 3s\n",
            "964:\tlearn: 0.0091817\ttotal: 28m 29s\tremaining: 1m 1s\n",
            "965:\tlearn: 0.0091666\ttotal: 28m 31s\tremaining: 1m\n",
            "966:\tlearn: 0.0091613\ttotal: 28m 32s\tremaining: 58.4s\n",
            "967:\tlearn: 0.0091409\ttotal: 28m 34s\tremaining: 56.7s\n",
            "968:\tlearn: 0.0091307\ttotal: 28m 36s\tremaining: 54.9s\n",
            "969:\tlearn: 0.0091206\ttotal: 28m 38s\tremaining: 53.1s\n",
            "970:\tlearn: 0.0091097\ttotal: 28m 39s\tremaining: 51.4s\n",
            "971:\tlearn: 0.0090982\ttotal: 28m 41s\tremaining: 49.6s\n",
            "972:\tlearn: 0.0090835\ttotal: 28m 43s\tremaining: 47.8s\n",
            "973:\tlearn: 0.0090688\ttotal: 28m 45s\tremaining: 46.1s\n",
            "974:\tlearn: 0.0090570\ttotal: 28m 46s\tremaining: 44.3s\n",
            "975:\tlearn: 0.0090453\ttotal: 28m 48s\tremaining: 42.5s\n",
            "976:\tlearn: 0.0090238\ttotal: 28m 50s\tremaining: 40.7s\n",
            "977:\tlearn: 0.0090113\ttotal: 28m 52s\tremaining: 39s\n",
            "978:\tlearn: 0.0089938\ttotal: 28m 53s\tremaining: 37.2s\n",
            "979:\tlearn: 0.0089866\ttotal: 28m 55s\tremaining: 35.4s\n",
            "980:\tlearn: 0.0089718\ttotal: 28m 57s\tremaining: 33.7s\n",
            "981:\tlearn: 0.0089560\ttotal: 28m 59s\tremaining: 31.9s\n",
            "982:\tlearn: 0.0089436\ttotal: 29m 1s\tremaining: 30.1s\n",
            "983:\tlearn: 0.0089244\ttotal: 29m 2s\tremaining: 28.3s\n",
            "984:\tlearn: 0.0089113\ttotal: 29m 4s\tremaining: 26.6s\n",
            "985:\tlearn: 0.0088950\ttotal: 29m 6s\tremaining: 24.8s\n",
            "986:\tlearn: 0.0088867\ttotal: 29m 8s\tremaining: 23s\n",
            "987:\tlearn: 0.0088655\ttotal: 29m 9s\tremaining: 21.3s\n",
            "988:\tlearn: 0.0088434\ttotal: 29m 11s\tremaining: 19.5s\n",
            "989:\tlearn: 0.0088329\ttotal: 29m 13s\tremaining: 17.7s\n",
            "990:\tlearn: 0.0088188\ttotal: 29m 15s\tremaining: 15.9s\n",
            "991:\tlearn: 0.0088100\ttotal: 29m 16s\tremaining: 14.2s\n",
            "992:\tlearn: 0.0088004\ttotal: 29m 18s\tremaining: 12.4s\n",
            "993:\tlearn: 0.0087805\ttotal: 29m 20s\tremaining: 10.6s\n",
            "994:\tlearn: 0.0087664\ttotal: 29m 22s\tremaining: 8.86s\n",
            "995:\tlearn: 0.0087489\ttotal: 29m 23s\tremaining: 7.08s\n",
            "996:\tlearn: 0.0087370\ttotal: 29m 25s\tremaining: 5.31s\n",
            "997:\tlearn: 0.0087194\ttotal: 29m 27s\tremaining: 3.54s\n",
            "998:\tlearn: 0.0087027\ttotal: 29m 29s\tremaining: 1.77s\n",
            "999:\tlearn: 0.0086881\ttotal: 29m 31s\tremaining: 0us\n"
          ],
          "name": "stdout"
        },
        {
          "output_type": "execute_result",
          "data": {
            "text/plain": [
              "<catboost.core.CatBoostClassifier at 0x7f1ebebb11d0>"
            ]
          },
          "metadata": {
            "tags": []
          },
          "execution_count": 87
        }
      ]
    },
    {
      "cell_type": "markdown",
      "metadata": {
        "id": "7z9mkbkAw8eC"
      },
      "source": [
        "## predict test set"
      ]
    },
    {
      "cell_type": "code",
      "metadata": {
        "id": "djdhIU4BQ2ch"
      },
      "source": [
        "X_test_dense_features = dense_model.predict(x_test)\n",
        "X_test_dense_features = X_test_dense_features.reshape(X_test_dense_features.shape[0], -1)"
      ],
      "execution_count": 68,
      "outputs": []
    },
    {
      "cell_type": "code",
      "metadata": {
        "id": "sX3XOnjWApQ9"
      },
      "source": [
        "X_test_mobile_features = model_mobile.predict(x_test)\n",
        "X_test_mobile_features = X_test_mobile_features.reshape(X_test_mobile_features.shape[0], -1)"
      ],
      "execution_count": 69,
      "outputs": []
    },
    {
      "cell_type": "code",
      "metadata": {
        "id": "hfUw7CtUB3Q2"
      },
      "source": [
        "combined_test_features = np.hstack((X_test_dense_features, X_test_mobile_features))"
      ],
      "execution_count": 79,
      "outputs": []
    },
    {
      "cell_type": "code",
      "metadata": {
        "id": "d9rtC4Mf_rU2"
      },
      "source": [
        "prediction = cat_classifier.predict(combined_test_features)\n",
        "#Inverse le transform to get original label back. \n",
        "#prediction = le.inverse_transform(prediction)"
      ],
      "execution_count": 89,
      "outputs": []
    },
    {
      "cell_type": "markdown",
      "metadata": {
        "id": "_BZ-GIyFxApv"
      },
      "source": [
        "## accuracy score"
      ]
    },
    {
      "cell_type": "code",
      "metadata": {
        "id": "XXMd1TPqQ_2b",
        "colab": {
          "base_uri": "https://localhost:8080/"
        },
        "outputId": "2376b751-73d1-488b-8a3d-c311aa62f8f9"
      },
      "source": [
        "print (\"Accuracy = \", metrics.accuracy_score(y_test, prediction))"
      ],
      "execution_count": 90,
      "outputs": [
        {
          "output_type": "stream",
          "text": [
            "Accuracy =  0.8711111111111111\n"
          ],
          "name": "stdout"
        }
      ]
    }
  ]
}