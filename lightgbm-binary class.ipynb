{
  "nbformat": 4,
  "nbformat_minor": 0,
  "metadata": {
    "accelerator": "TPU",
    "colab": {
      "name": "new-method.ipynb",
      "provenance": [],
      "collapsed_sections": []
    },
    "kernelspec": {
      "display_name": "Python 3",
      "name": "python3"
    },
    "language_info": {
      "name": "python"
    }
  },
  "cells": [
    {
      "cell_type": "code",
      "metadata": {
        "colab": {
          "base_uri": "https://localhost:8080/"
        },
        "id": "_fVpaBgpL8e9",
        "outputId": "17dfe6b9-8ba9-44fe-d111-6c2d59e0680c"
      },
      "source": [
        "!pip install bayesian-optimization"
      ],
      "execution_count": 1,
      "outputs": [
        {
          "output_type": "stream",
          "text": [
            "Collecting bayesian-optimization\n",
            "  Downloading bayesian-optimization-1.2.0.tar.gz (14 kB)\n",
            "Requirement already satisfied: numpy>=1.9.0 in /usr/local/lib/python3.7/dist-packages (from bayesian-optimization) (1.19.5)\n",
            "Requirement already satisfied: scipy>=0.14.0 in /usr/local/lib/python3.7/dist-packages (from bayesian-optimization) (1.4.1)\n",
            "Requirement already satisfied: scikit-learn>=0.18.0 in /usr/local/lib/python3.7/dist-packages (from bayesian-optimization) (0.22.2.post1)\n",
            "Requirement already satisfied: joblib>=0.11 in /usr/local/lib/python3.7/dist-packages (from scikit-learn>=0.18.0->bayesian-optimization) (1.0.1)\n",
            "Building wheels for collected packages: bayesian-optimization\n",
            "  Building wheel for bayesian-optimization (setup.py) ... \u001b[?25l\u001b[?25hdone\n",
            "  Created wheel for bayesian-optimization: filename=bayesian_optimization-1.2.0-py3-none-any.whl size=11685 sha256=bf4d5fcc49143d14e7c22d5ede47a39b8cb8de002f6ae0a481f7a1cdf277d48d\n",
            "  Stored in directory: /root/.cache/pip/wheels/fd/9b/71/f127d694e02eb40bcf18c7ae9613b88a6be4470f57a8528c5b\n",
            "Successfully built bayesian-optimization\n",
            "Installing collected packages: bayesian-optimization\n",
            "Successfully installed bayesian-optimization-1.2.0\n"
          ],
          "name": "stdout"
        }
      ]
    },
    {
      "cell_type": "code",
      "metadata": {
        "colab": {
          "base_uri": "https://localhost:8080/"
        },
        "id": "z8cRJUnCk2Lj",
        "outputId": "e88eeeaf-1259-4ed1-cf6d-8841f51a2cff"
      },
      "source": [
        "!pip install catboost"
      ],
      "execution_count": 2,
      "outputs": [
        {
          "output_type": "stream",
          "text": [
            "Collecting catboost\n",
            "  Downloading catboost-0.26-cp37-none-manylinux1_x86_64.whl (69.2 MB)\n",
            "\u001b[K     |████████████████████████████████| 69.2 MB 5.5 kB/s \n",
            "\u001b[?25hRequirement already satisfied: scipy in /usr/local/lib/python3.7/dist-packages (from catboost) (1.4.1)\n",
            "Requirement already satisfied: pandas>=0.24.0 in /usr/local/lib/python3.7/dist-packages (from catboost) (1.1.5)\n",
            "Requirement already satisfied: graphviz in /usr/local/lib/python3.7/dist-packages (from catboost) (0.10.1)\n",
            "Requirement already satisfied: six in /usr/local/lib/python3.7/dist-packages (from catboost) (1.15.0)\n",
            "Requirement already satisfied: plotly in /usr/local/lib/python3.7/dist-packages (from catboost) (4.4.1)\n",
            "Requirement already satisfied: matplotlib in /usr/local/lib/python3.7/dist-packages (from catboost) (3.2.2)\n",
            "Requirement already satisfied: numpy>=1.16.0 in /usr/local/lib/python3.7/dist-packages (from catboost) (1.19.5)\n",
            "Requirement already satisfied: python-dateutil>=2.7.3 in /usr/local/lib/python3.7/dist-packages (from pandas>=0.24.0->catboost) (2.8.1)\n",
            "Requirement already satisfied: pytz>=2017.2 in /usr/local/lib/python3.7/dist-packages (from pandas>=0.24.0->catboost) (2018.9)\n",
            "Requirement already satisfied: kiwisolver>=1.0.1 in /usr/local/lib/python3.7/dist-packages (from matplotlib->catboost) (1.3.1)\n",
            "Requirement already satisfied: cycler>=0.10 in /usr/local/lib/python3.7/dist-packages (from matplotlib->catboost) (0.10.0)\n",
            "Requirement already satisfied: pyparsing!=2.0.4,!=2.1.2,!=2.1.6,>=2.0.1 in /usr/local/lib/python3.7/dist-packages (from matplotlib->catboost) (2.4.7)\n",
            "Requirement already satisfied: retrying>=1.3.3 in /usr/local/lib/python3.7/dist-packages (from plotly->catboost) (1.3.3)\n",
            "Installing collected packages: catboost\n",
            "Successfully installed catboost-0.26\n"
          ],
          "name": "stdout"
        }
      ]
    },
    {
      "cell_type": "code",
      "metadata": {
        "id": "D9Cg8dV04LyJ"
      },
      "source": [
        "import numpy as np \n",
        "import matplotlib.pyplot as plt\n",
        "import glob\n",
        "import cv2\n",
        "from sklearn.model_selection import train_test_split\n",
        "import os\n",
        "from keras.applications.densenet import DenseNet169, DenseNet121\n",
        "from keras.applications.mobilenet import MobileNet\n",
        "from sklearn import preprocessing\n",
        "from google.colab import drive\n",
        "from sklearn.metrics import confusion_matrix\n",
        "from sklearn import metrics\n",
        "from bayes_opt import BayesianOptimization\n",
        "from sklearn.metrics import mean_squared_error\n",
        "from catboost import CatBoostClassifier\n",
        "from sklearn.model_selection import KFold, cross_val_score\n",
        "import lightgbm as lgb"
      ],
      "execution_count": 3,
      "outputs": []
    },
    {
      "cell_type": "markdown",
      "metadata": {
        "id": "RWohFpu_vHe3"
      },
      "source": [
        "## loading the dataset"
      ]
    },
    {
      "cell_type": "code",
      "metadata": {
        "colab": {
          "base_uri": "https://localhost:8080/"
        },
        "id": "V1Zi7aKd4csG",
        "outputId": "3ad1368a-84b8-4164-9742-96adea5109fb"
      },
      "source": [
        "drive.mount(\"/content/gdrive\")"
      ],
      "execution_count": 4,
      "outputs": [
        {
          "output_type": "stream",
          "text": [
            "Mounted at /content/gdrive\n"
          ],
          "name": "stdout"
        }
      ]
    },
    {
      "cell_type": "code",
      "metadata": {
        "id": "hSqy8Bx4Dt2i"
      },
      "source": [
        "SIZE = 224\n",
        "images = []\n",
        "images_labels = [] "
      ],
      "execution_count": 6,
      "outputs": []
    },
    {
      "cell_type": "markdown",
      "metadata": {
        "id": "rna4sjbevS0t"
      },
      "source": [
        "### importing each image and set the current directory name as its label "
      ]
    },
    {
      "cell_type": "code",
      "metadata": {
        "colab": {
          "base_uri": "https://localhost:8080/"
        },
        "id": "eQ33LlY3D7Hf",
        "outputId": "e5249d03-486f-4e6d-c2be-55ffb1cabb6d"
      },
      "source": [
        "ext = ['png', 'jpg', 'jpeg'] \n",
        "\n",
        "for directory_path in glob.glob(\"/content/gdrive/My Drive/seperated dataset/X-Ray Image DataSet/images/*\"):\n",
        "    splited = directory_path.split(\"/\")\n",
        "    label = splited[-1]\n",
        "    print(label)\n",
        "    for e in ext:\n",
        "      for img_path in glob.glob(os.path.join(directory_path, \"*.\" + e)):\n",
        "        if label == 'Pneumonia':\n",
        "          break\n",
        "        else:\n",
        "          #print(img_path)\n",
        "           img = cv2.imread(img_path, cv2.IMREAD_COLOR)       \n",
        "           img = cv2.resize(img, (SIZE, SIZE))\n",
        "           images.append(img)\n",
        "           images_labels.append(label)"
      ],
      "execution_count": 7,
      "outputs": [
        {
          "output_type": "stream",
          "text": [
            "Pneumonia\n",
            "No_findings\n",
            "Covid-19\n"
          ],
          "name": "stdout"
        }
      ]
    },
    {
      "cell_type": "code",
      "metadata": {
        "id": "hjPnqzQZKorZ"
      },
      "source": [
        "images = np.array(images)\n",
        "images_labels = np.array(images_labels)"
      ],
      "execution_count": 8,
      "outputs": []
    },
    {
      "cell_type": "code",
      "metadata": {
        "colab": {
          "base_uri": "https://localhost:8080/"
        },
        "id": "bkP_UNU5Ubn8",
        "outputId": "591de11f-2771-41fd-812d-7fbee31e02ea"
      },
      "source": [
        "images.shape"
      ],
      "execution_count": 9,
      "outputs": [
        {
          "output_type": "execute_result",
          "data": {
            "text/plain": [
              "(625, 224, 224, 3)"
            ]
          },
          "metadata": {
            "tags": []
          },
          "execution_count": 9
        }
      ]
    },
    {
      "cell_type": "code",
      "metadata": {
        "colab": {
          "base_uri": "https://localhost:8080/"
        },
        "id": "G44kwBVUxAxP",
        "outputId": "8235b039-30a1-4877-b9f2-e7618ca80567"
      },
      "source": [
        "np.unique(images_labels)"
      ],
      "execution_count": 10,
      "outputs": [
        {
          "output_type": "execute_result",
          "data": {
            "text/plain": [
              "array(['Covid-19', 'No_findings'], dtype='<U11')"
            ]
          },
          "metadata": {
            "tags": []
          },
          "execution_count": 10
        }
      ]
    },
    {
      "cell_type": "markdown",
      "metadata": {
        "id": "S8eOrhcUvoOa"
      },
      "source": [
        "## Pre-processing"
      ]
    },
    {
      "cell_type": "markdown",
      "metadata": {
        "id": "_zXozooIvur4"
      },
      "source": [
        "### label encoding"
      ]
    },
    {
      "cell_type": "code",
      "metadata": {
        "id": "vbtsRuiGNDg3"
      },
      "source": [
        "le = preprocessing.LabelEncoder()\n",
        "le.fit(images_labels)\n",
        "labels_encoded = le.transform(images_labels)"
      ],
      "execution_count": 11,
      "outputs": []
    },
    {
      "cell_type": "markdown",
      "metadata": {
        "id": "0UFY9dw_whGX"
      },
      "source": [
        "## Feature Extraction"
      ]
    },
    {
      "cell_type": "markdown",
      "metadata": {
        "id": "LoauJFgmLwP2"
      },
      "source": [
        "### DenseNet169"
      ]
    },
    {
      "cell_type": "code",
      "metadata": {
        "id": "FQz-wPnd9jk7",
        "colab": {
          "base_uri": "https://localhost:8080/"
        },
        "outputId": "755a40dd-1abf-4a44-d547-2a5a1b670436"
      },
      "source": [
        "dense_model = DenseNet169(include_top=False, input_shape=(SIZE, SIZE, 3), pooling='avg')"
      ],
      "execution_count": 12,
      "outputs": [
        {
          "output_type": "stream",
          "text": [
            "Downloading data from https://storage.googleapis.com/tensorflow/keras-applications/densenet/densenet169_weights_tf_dim_ordering_tf_kernels_notop.h5\n",
            "51879936/51877672 [==============================] - 1s 0us/step\n",
            "51888128/51877672 [==============================] - 1s 0us/step\n"
          ],
          "name": "stdout"
        }
      ]
    },
    {
      "cell_type": "code",
      "metadata": {
        "id": "96eBZ2lA_gnQ"
      },
      "source": [
        "dense_features = dense_model.predict(images)"
      ],
      "execution_count": 13,
      "outputs": []
    },
    {
      "cell_type": "code",
      "metadata": {
        "id": "rFcOMynPAjOW"
      },
      "source": [
        "features = dense_features.reshape(dense_features.shape[0], -1)"
      ],
      "execution_count": 14,
      "outputs": []
    },
    {
      "cell_type": "code",
      "metadata": {
        "colab": {
          "base_uri": "https://localhost:8080/"
        },
        "id": "t67858zGYbb7",
        "outputId": "da2c88a2-04a8-4506-a3e6-98bfd2dba23f"
      },
      "source": [
        "features.shape"
      ],
      "execution_count": 15,
      "outputs": [
        {
          "output_type": "execute_result",
          "data": {
            "text/plain": [
              "(625, 1664)"
            ]
          },
          "metadata": {
            "tags": []
          },
          "execution_count": 15
        }
      ]
    },
    {
      "cell_type": "markdown",
      "metadata": {
        "id": "b1RRtWgDGBYJ"
      },
      "source": [
        "### Mobilenet"
      ]
    },
    {
      "cell_type": "code",
      "metadata": {
        "id": "zYMmIXvxGEBi",
        "colab": {
          "base_uri": "https://localhost:8080/"
        },
        "outputId": "1dd7a4b1-ed7f-4fa7-e0d0-1b2cc253b892"
      },
      "source": [
        "model_mobile = MobileNet(weights='imagenet',include_top=False, input_shape=(SIZE, SIZE, 3), pooling='avg')"
      ],
      "execution_count": 16,
      "outputs": [
        {
          "output_type": "stream",
          "text": [
            "Downloading data from https://storage.googleapis.com/tensorflow/keras-applications/mobilenet/mobilenet_1_0_224_tf_no_top.h5\n",
            "17227776/17225924 [==============================] - 0s 0us/step\n",
            "17235968/17225924 [==============================] - 0s 0us/step\n"
          ],
          "name": "stdout"
        }
      ]
    },
    {
      "cell_type": "code",
      "metadata": {
        "id": "A6BgS6aBHNdl"
      },
      "source": [
        "mobile_features = model_mobile.predict(images)"
      ],
      "execution_count": 17,
      "outputs": []
    },
    {
      "cell_type": "code",
      "metadata": {
        "id": "WawWVttpHP2e"
      },
      "source": [
        "features_2 = mobile_features.reshape(mobile_features.shape[0], -1)"
      ],
      "execution_count": 18,
      "outputs": []
    },
    {
      "cell_type": "code",
      "metadata": {
        "colab": {
          "base_uri": "https://localhost:8080/"
        },
        "id": "bCy6ZaDsYMC6",
        "outputId": "eaed516c-1ed4-4c21-f974-5cbc62666520"
      },
      "source": [
        "features_2.shape"
      ],
      "execution_count": 19,
      "outputs": [
        {
          "output_type": "execute_result",
          "data": {
            "text/plain": [
              "(625, 1024)"
            ]
          },
          "metadata": {
            "tags": []
          },
          "execution_count": 19
        }
      ]
    },
    {
      "cell_type": "markdown",
      "metadata": {
        "id": "XzjG7N85ZWsp"
      },
      "source": [
        "## Feature Combination"
      ]
    },
    {
      "cell_type": "code",
      "metadata": {
        "id": "iKdCXNr9_fa1"
      },
      "source": [
        "combined_features = np.hstack((dense_features, mobile_features))"
      ],
      "execution_count": 20,
      "outputs": []
    },
    {
      "cell_type": "markdown",
      "metadata": {
        "id": "ZWsRFexjWCDS"
      },
      "source": [
        "## lightgbm classifier"
      ]
    },
    {
      "cell_type": "code",
      "metadata": {
        "id": "qcfS2Djyymi5"
      },
      "source": [
        "params = {'learning_rate':0.2, 'n_iterations': 500, 'max_depth': 7, 'num_leaves': 105, 'n_estimators': 300, 'min_child_samples': 40 }\n"
      ],
      "execution_count": 30,
      "outputs": []
    },
    {
      "cell_type": "code",
      "metadata": {
        "id": "fjFA8dt8WHr8"
      },
      "source": [
        "lgb_classifier = lgb.LGBMClassifier(**params)"
      ],
      "execution_count": 31,
      "outputs": []
    },
    {
      "cell_type": "markdown",
      "metadata": {
        "id": "_BZ-GIyFxApv"
      },
      "source": [
        "## KFold cross validation"
      ]
    },
    {
      "cell_type": "code",
      "metadata": {
        "id": "SXYza4oozsaq"
      },
      "source": [
        "cv_r2_scores = cross_val_score(lgb_classifier, combined_features, labels_encoded, cv=5)"
      ],
      "execution_count": 32,
      "outputs": []
    },
    {
      "cell_type": "code",
      "metadata": {
        "colab": {
          "base_uri": "https://localhost:8080/"
        },
        "id": "fLyve5Ap9nlY",
        "outputId": "5c1fef61-f485-4c31-b285-c6ed83c876e2"
      },
      "source": [
        "print(cv_r2_scores)"
      ],
      "execution_count": 33,
      "outputs": [
        {
          "output_type": "stream",
          "text": [
            "[0.952 0.992 0.976 0.976 0.968]\n"
          ],
          "name": "stdout"
        }
      ]
    },
    {
      "cell_type": "code",
      "metadata": {
        "id": "Iw0k9W8K9pu2",
        "colab": {
          "base_uri": "https://localhost:8080/"
        },
        "outputId": "06d2fcce-799e-46ce-eced-96b2167862e3"
      },
      "source": [
        "print(\"Mean 5-Fold R Squared: {}\".format(np.mean(cv_r2_scores)))"
      ],
      "execution_count": 34,
      "outputs": [
        {
          "output_type": "stream",
          "text": [
            "Mean 5-Fold R Squared: 0.9728\n"
          ],
          "name": "stdout"
        }
      ]
    }
  ]
}